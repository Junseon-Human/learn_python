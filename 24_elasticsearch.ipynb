{
 "cells": [
  {
   "cell_type": "markdown",
   "id": "1f0fda71",
   "metadata": {},
   "source": [
    "# elasticsearch\n",
    "## no sql 로 비정형화 된 시스템 임\n",
    "### 데이터의 양이 많을때 빠르게 조회하여 처리하기 용이한 특징이 있음\n",
    "---"
   ]
  },
  {
   "cell_type": "markdown",
   "id": "170269c4",
   "metadata": {},
   "source": [
    "* 사용하기전에 외부 라이브러리 설치"
   ]
  },
  {
   "cell_type": "code",
   "execution_count": 3,
   "id": "5fc3e129",
   "metadata": {},
   "outputs": [
    {
     "name": "stdout",
     "output_type": "stream",
     "text": [
      "Requirement already satisfied: elasticsearch==8.12.1 in c:\\users\\kimkva\\anaconda3\\lib\\site-packages (8.12.1)\n",
      "Requirement already satisfied: elastic-transport<9,>=8 in c:\\users\\kimkva\\anaconda3\\lib\\site-packages (from elasticsearch==8.12.1) (8.17.1)\n",
      "Requirement already satisfied: urllib3<3,>=1.26.2 in c:\\users\\kimkva\\anaconda3\\lib\\site-packages (from elastic-transport<9,>=8->elasticsearch==8.12.1) (2.2.3)\n",
      "Requirement already satisfied: certifi in c:\\users\\kimkva\\anaconda3\\lib\\site-packages (from elastic-transport<9,>=8->elasticsearch==8.12.1) (2025.1.31)\n",
      "Note: you may need to restart the kernel to use updated packages.\n"
     ]
    }
   ],
   "source": [
    "pip install elasticsearch==8.12.1"
   ]
  },
  {
   "cell_type": "markdown",
   "id": "078bc5e6",
   "metadata": {},
   "source": [
    "## dotenv\n",
    "1. env 파일에 변수를 등록함 (pc 환경마다 다른 elasticsearch 비밀번호, 경로로 인해 설정함)\n",
    "2. os 와 dotenv 를 import\n",
    "3. load_dotenv() 를 사용해 메모에 등록<br>\n",
    "4. os.getenv(\"변수명\") 을 활용해 .env 에 있는 변수를 불러와 적용\n",
    "---\n",
    "## elasticsearch 설정\n",
    "1. Elasticsearch import\n",
    "2. id, password 설정\n",
    "3. Elasticsearch 객체 이용하여 주소, 인증키, 계정정보 삽입"
   ]
  },
  {
   "cell_type": "code",
   "execution_count": 12,
   "id": "2b987565",
   "metadata": {},
   "outputs": [
    {
     "data": {
      "text/plain": [
       "ObjectApiResponse({'name': 'DESKTOP-9M6U9VP', 'cluster_name': 'elasticsearch', 'cluster_uuid': 'ohr9KyuIS_qfS8ZXm9qDFA', 'version': {'number': '8.18.0', 'build_flavor': 'default', 'build_type': 'zip', 'build_hash': '04e979aa50b657bebd4a0937389308de82c2bdad', 'build_date': '2025-04-10T10:09:16.444104780Z', 'build_snapshot': False, 'lucene_version': '9.12.1', 'minimum_wire_compatibility_version': '7.17.0', 'minimum_index_compatibility_version': '7.0.0'}, 'tagline': 'You Know, for Search'})"
      ]
     },
     "execution_count": 12,
     "metadata": {},
     "output_type": "execute_result"
    }
   ],
   "source": [
    "from elasticsearch import Elasticsearch\n",
    "from dotenv import load_dotenv\n",
    "import dotenv\n",
    "import os\n",
    "load_dotenv()\n",
    "\n",
    "# 첫 ID는 'elastic'이며, 비밀번호는 처음 주어진 비밀번호를 변경가능함\n",
    "ELASTIC_ID = \"elastic\"\n",
    "PASSWORD = os.getenv(\"PASSWORD\")\n",
    "ELASTIC_PASSWORD = PASSWORD\n",
    "CA_CERT_PATH = os.getenv(\"CA_CERT_PATH\")\n",
    "\n",
    "# client instance 생성\n",
    "client = Elasticsearch(\n",
    "    \"https://localhost:9200\",  # endpoint\n",
    "    ca_certs=CA_CERT_PATH, # 인증키 위치를 잡아줌\n",
    "    basic_auth=(ELASTIC_ID, ELASTIC_PASSWORD),\n",
    ")\n",
    "\n",
    "# 접속이 잘 되었다면 아래 코드로 확인가능함\n",
    "client.info()\n",
    "# {'name': 'instance-0000000000', 'cluster_name': ...}"
   ]
  },
  {
   "cell_type": "markdown",
   "id": "f32ec98e",
   "metadata": {},
   "source": [
    "## index 및 document 생성\n",
    "### 인덱스는 RDBMS 의 TABLE 같은 존재\n",
    "1. 선언한 client 를 사용해 indices.create(index=\"인덱스 이름\") 로 생성\n",
    "2. client.index() 로 document, field 설정\n",
    "* document 는 RDBMS의 행 개념\n",
    "* field 는 RDBMS 의 컬럼 개념<br>\n",
    "※ RDBMS 와 다르게 document 를 설정했어도 다른 값이 있다면 추가되는 차이가있음"
   ]
  },
  {
   "cell_type": "code",
   "execution_count": null,
   "id": "66eeebac",
   "metadata": {},
   "outputs": [
    {
     "name": "stdout",
     "output_type": "stream",
     "text": [
      "{'_index': 'my_index2', '_id': 'my_document_id', '_version': 1, 'result': 'created', '_shards': {'total': 2, 'successful': 1, 'failed': 0}, '_seq_no': 3, '_primary_term': 1}\n",
      "{'_index': 'my_index2', '_id': 'my_document_id', '_version': 1, '_seq_no': 3, '_primary_term': 1, 'found': True, '_source': {'filed1': 'value1', 'filed2': 'value2'}}\n"
     ]
    }
   ],
   "source": [
    "# result = client.indices.create(index=\"my_index2\")\n",
    "# print(result)\n",
    "\n",
    "result = client.index(\n",
    "    index=\"my_index2\",\n",
    "    id=\"my_document_id\",\n",
    "    document={\"field1\": \"value1\", \"field2\": \"value2\"},\n",
    ")\n",
    "print(result)\n",
    "\n",
    "result = client.get(index=\"my_index2\", id=\"my_document_id\")\n",
    "print(result)"
   ]
  },
  {
   "cell_type": "markdown",
   "id": "8b9dc921",
   "metadata": {},
   "source": [
    "## elasticsearch 의 조회 및 문서 관리\n",
    "### 조회\n",
    "```python\n",
    "client.search(index=\"인덱스이름\", query={\"match\":{\"필드이름\":\"값이름\"}})\n",
    "```\n",
    "### 문서 수정\n",
    "```python\n",
    "client.update(index=\"인덱스이름\", id = \"문서이름\", doc={\"수정할 필드이름\":\"수정할 값 이름\"})\n",
    "```\n",
    "* 문서를 수정할때 없는 필드는 새로 추가됨\n",
    "### 문서 삭제\n",
    "```python\n",
    "client.delete(index=\"인덱스이름\", id=\"문서이름\")\n",
    "```"
   ]
  },
  {
   "cell_type": "code",
   "execution_count": null,
   "id": "33c23104",
   "metadata": {},
   "outputs": [
    {
     "name": "stdout",
     "output_type": "stream",
     "text": [
      "{'took': 2, 'timed_out': False, '_shards': {'total': 1, 'successful': 1, 'skipped': 0, 'failed': 0}, 'hits': {'total': {'value': 0, 'relation': 'eq'}, 'max_score': None, 'hits': []}}\n",
      "{'_index': 'my_index2', '_id': 'my_document_id', '_version': 2, 'result': 'updated', '_shards': {'total': 2, 'successful': 1, 'failed': 0}, '_seq_no': 4, '_primary_term': 1}\n"
     ]
    }
   ],
   "source": [
    "result = client.search(index=\"my_index2\", query={\"match\": {\"field1\": \"value1\"}})\n",
    "print(result)\n",
    "\n",
    "result = client.update(\n",
    "    index=\"my_index2\",\n",
    "    id=\"my_document_id\",\n",
    "    doc={\"field1\": \"new values\", \"new_field\": \"new value2\"},\n",
    ")\n",
    "print(result)\n",
    "\n",
    "# result = client.delete(\n",
    "#     index=\"my_index2\",\n",
    "#     id=\"my_document_id\",\n",
    "# )\n",
    "\n",
    "# print(result)"
   ]
  },
  {
   "cell_type": "code",
   "execution_count": 19,
   "id": "4e35023d",
   "metadata": {},
   "outputs": [
    {
     "data": {
      "text/plain": [
       "{'filed1': 'new values', 'filed2': 'value2', 'new_field': 'new value2'}"
      ]
     },
     "execution_count": 19,
     "metadata": {},
     "output_type": "execute_result"
    }
   ],
   "source": [
    "result = client.get(index=\"my_index2\", id=\"my_document_id\")\n",
    "result[\"_source\"]"
   ]
  }
 ],
 "metadata": {
  "kernelspec": {
   "display_name": "base",
   "language": "python",
   "name": "python3"
  },
  "language_info": {
   "codemirror_mode": {
    "name": "ipython",
    "version": 3
   },
   "file_extension": ".py",
   "mimetype": "text/x-python",
   "name": "python",
   "nbconvert_exporter": "python",
   "pygments_lexer": "ipython3",
   "version": "3.12.7"
  }
 },
 "nbformat": 4,
 "nbformat_minor": 5
}
