{
 "cells": [
  {
   "cell_type": "code",
   "execution_count": null,
   "id": "1aec5527",
   "metadata": {},
   "outputs": [
    {
     "data": {
      "text/plain": [
       "100"
      ]
     },
     "execution_count": 107,
     "metadata": {},
     "output_type": "execute_result"
    }
   ],
   "source": [
    "import numpy as np\n",
    "\n",
    "# range() 범위 지정\n",
    "# reshape(x,y) x 행 y 열 로 만듬\n",
    "a = np.arange(15).reshape(3, 5)\n",
    "# print(a)\n",
    "\n",
    "# print(a.shape) # x 행 y 열 알려줌\n",
    "# print(a.dtype.name) # 자료형 확인\n",
    "# print(a.itemsize) # 크기\n",
    "# print(a.size) # 크기\n",
    "\n",
    "# np.array() 로 선언도 가능함\n",
    "b = np.array([6, 7, 8])\n",
    "# print(b)\n",
    "\n",
    "# 여러가지 형을 넣을수있지만 문자가 들어가면 정수도 다 문자로 바뀜\n",
    "c = np.array([1, \"two\", 3, 4])\n",
    "# print(c) # ['1' 'two' '3' '4']\n",
    "\n",
    "# float 형태로도 선언이 가능\n",
    "a = np.array([1.2, 3.5, 5.1, 3])\n",
    "# print(a)\n",
    "\n",
    "# list 와 np.array 는 다르지만 사용하는 방법은 크게 다르지않음\n",
    "a = [2, 4, 5]\n",
    "aa = np.array(a)\n",
    "a  # [2, 4, 5]\n",
    "aa  # array([2, 4, 5])\n",
    "aa[1]  # 4\n",
    "a[1]  # 4\n",
    "\n",
    "# 배열의 복사\n",
    "arr = np.arange(10)\n",
    "arr  # array([0, 1, 2, 3, 4, 5, 6, 7, 8, 9])\n",
    "arr[5]  # 5\n",
    "arr[5:8] = 12  # 배열의 5~7번지 까지 12로 변경\n",
    "arr  # array([ 0,  1,  2,  3,  4, 12, 12, 12,  8,  9])\n",
    "\n",
    "arr_slice = arr[5:8]\n",
    "arr_slice  # array([12, 12, 12])\n",
    "\n",
    "arr_slice[:] = 65  # 전체를 65로 만들기\n",
    "arr_slice  # [65, 65, 65]\n",
    "\n",
    "arr_slice_copy = (\n",
    "    arr_slice.copy()\n",
    ")  # copy() 함수를 사용하여 복사 대상 배열의 값이 변경되면 같이 변경됨\n",
    "arr_slice_copy  # [65, 65, 65]\n",
    "\n",
    "# array 를 만드는 함수들\n",
    "a2 = np.zeros(3)  # 1 차원 배열을 변수만큼의 0으로 생성\n",
    "a2  # array([0., 0., 0.])\n",
    "\n",
    "a3 = np.ones(3)  # 1 차원 배열을 변수만큼의 1로 생성\n",
    "a3  # array([1., 1., 1.])\n",
    "\n",
    "k1 = np.eye(3)  # x 행 x 열 단위행렬 생성\n",
    "k1  # array([[1., 0., 0.],\n",
    "#       [0., 1., 0.],\n",
    "#       [0., 0., 1.]])\n",
    "\n",
    "# 배열의 차원 형태 변경\n",
    "c = np.arange(1, 5)\n",
    "c  # array([1, 2, 3, 4]) / 1차원 배열임\n",
    "c.shape = (2, 2)  # c 배열의 형태를 2행 2열로 바꿈\n",
    "c  # array([[1, 2],\n",
    "#        [3, 4]])\n",
    "c.shape = (4,)  # 형태를 1행으로 바꿈\n",
    "c  # array([1, 2, 3, 4])\n",
    "\n",
    "c = np.full((2, 2), 3)  # 형태를 2행 2열로 바꾸며 값은 3으로 바꿈\n",
    "c  # array([[3, 3],\n",
    "#        [3, 3]])\n",
    "\n",
    "k = np.random.random((2, 2))  # 0~1 사이 랜덤값을 2행 2열로 채움\n",
    "\n",
    "na = np.arange(1, 9)\n",
    "na.reshape(2, 4)  # na.shape = (2,4) 와 같음\n",
    "\n",
    "# 배열의 번지수 출력하기\n",
    "a = na.reshape(2, 4)\n",
    "a[1, 1]  # 6\n",
    "a[1][1]  # 6\n",
    "\n",
    "# 3차원 배열\n",
    "array = np.array(\n",
    "    [\n",
    "        [[0, 1, 2, 3], [4, 5, 6, 7], [8, 9, 10, 11]],\n",
    "        [[0, 1, 2, 3], [4, 5, 100, 7], [8, 9, 10, 11]],\n",
    "    ]\n",
    ")\n",
    "\n",
    "array.shape  # (2,3,4) 3 x 4 배열이 2개있다는 의미\n",
    "array[1, 1, 2]  # 100"
   ]
  },
  {
   "cell_type": "code",
   "execution_count": null,
   "id": "757087ce",
   "metadata": {},
   "outputs": [
    {
     "data": {
      "text/plain": [
       "array([[0.2       , 0.33333333],\n",
       "       [0.42857143, 0.5       ]])"
      ]
     },
     "execution_count": 121,
     "metadata": {},
     "output_type": "execute_result"
    }
   ],
   "source": [
    "# 배열의 사칙연산\n",
    "# 배열의 사칙연산은 shape 가 동일해야함 (행과 열이 동일해야함)\n",
    "x = np.array([[1, 2], [3, 4]], dtype=np.float64)  # 2행 2열의 실수형 배열 선언\n",
    "y = np.array([[5, 6], [7, 8]], dtype=np.float64)\n",
    "\n",
    "x + y  # 각 행 열에 대응되는 값끼리 더함\n",
    "np.add(x, y)  # x + y 를 add 함수를 사용함\n",
    "\n",
    "x - y  # 각 행 열에 대응되는 값끼리 뺄셈\n",
    "np.subtract(x, y)  # x - y 를 subtract 함수를 사용함\n",
    "\n",
    "x * y  # 각 행 열에 대응되는 값끼리 곱셈\n",
    "np.multiply(x, y)  # x * y 를 multiply 함수를 사용\n",
    "\n",
    "x / y  # 각 행 열에 대응되는 값끼리 나눗셈\n",
    "np.divide(x, y)  # x / y 를 divide 함수를 사용"
   ]
  },
  {
   "cell_type": "code",
   "execution_count": null,
   "id": "a47fd2d8",
   "metadata": {},
   "outputs": [
    {
     "data": {
      "text/plain": [
       "array([[0.45051191, 0.81817326],\n",
       "       [0.05866334, 0.36990258]])"
      ]
     },
     "execution_count": 172,
     "metadata": {},
     "output_type": "execute_result"
    }
   ],
   "source": [
    "# 사칙연산 실사용 예제\n",
    "\n",
    "x = np.array([[1, 2], [3, 4]])\n",
    "y = np.array([[5, 6], [7, 8]])\n",
    "\n",
    "v = np.array([9, 10])\n",
    "w = np.array([11, 12])\n",
    "\n",
    "# 백터의 내적 구하기 dot() 함수\n",
    "v.dot(w)  # 219\n",
    "np.dot(v, w)  # 219\n",
    "\n",
    "x.dot(v)  # array([29, 67])\n",
    "np.dot(x, v)  # array([29, 67])\n",
    "\n",
    "# 1\n",
    "a = np.array([1, 2, 3])\n",
    "b = np.arange(3, 6)\n",
    "\n",
    "type(a)  # numpy.ndarray\n",
    "2 * a  # array([2, 4, 6]) / 리스트는 * 할때 요소 갯수가 곱해지지만 배열은 각 요소 값이 곱해짐\n",
    "a + b  # array([4, 6, 8])\n",
    "\n",
    "# 2\n",
    "c = np.array([[1, 2, 3], [4, 5, 6]])\n",
    "c.size  # 6 (원소의 갯수)\n",
    "c.shape  # (2,3) 2행 3열짜리 배열\n",
    "\n",
    "d = np.arange(10).reshape(2, 5)  # 0~9 까지 2행 5열 형태로\n",
    "\n",
    "e = np.arange(2, 3, 0.1)  # 2~3 까지 스탭은 0.1 로 만들기\n",
    "e  # array([2. , 2.1, 2.2, 2.3, 2.4, 2.5, 2.6, 2.7, 2.8, 2.9])\n",
    "\n",
    "# 2 배열 생성하면서 초기화 하기\n",
    "a = np.zeros((2, 2), int)  # 2행 2열 배열을 0으로 채우기\n",
    "a  # array([[0, 0],\n",
    "#        [0, 0]])\n",
    "\n",
    "b = np.zeros((2, 2), float)  # 이번엔 실수로 채우기\n",
    "\n",
    "c = np.ones((2, 2), int)  # 1로 채우기\n",
    "d = np.ones((2, 2), float)\n",
    "\n",
    "d = np.full((2, 2), 7)  # 7로 채우기\n",
    "e = np.eye(2)  # 대각선 방향으로 1로 채움! 변수만큼 행 열 이 생성됨\n",
    "\n",
    "f = np.random.random((2, 2))  # 0~1 난수로 채우기"
   ]
  },
  {
   "cell_type": "code",
   "execution_count": 195,
   "id": "eea4a493",
   "metadata": {},
   "outputs": [
    {
     "data": {
      "text/plain": [
       "array([ 1,  6, 11])"
      ]
     },
     "execution_count": 195,
     "metadata": {},
     "output_type": "execute_result"
    }
   ],
   "source": [
    "# 배열의 인덱싱\n",
    "\n",
    "a = np.array([[1, 2, 3, 4], [5, 6, 7, 8], [3, 10, 11, 12]])\n",
    "a[0, 0]  # 1\n",
    "a[(0, 0)]  # 1\n",
    "a[0][0]  # 1\n",
    "\n",
    "a[1, 2]  # 7\n",
    "a[-1, -1]  # 12\n",
    "a[-1, -1] += 10  # 마지막 원소에 + 10 해버리기\n",
    "\n",
    "# 배열의 슬라이싱\n",
    "a[1, :]  # 1행의 모든열\n",
    "a[:2, :]  # 2행 까지의 모든열\n",
    "\n",
    "a[:2, 1:3]  # 2행 까지의 1~2열 만\n",
    "\n",
    "a[:, 0:3:2]  # 모든행 0~2 열까지 스탭은 2\n",
    "\n",
    "a[:, -1:-4:-2]  # 모든행 뒤에서 부터 앞까지 스탭은 2\n",
    "a[:, [3, 0, 2, 1]]  # 모든행을 지정한 순서대로\n",
    "a[[0, 1, 2], [0, 1, 2]]  # 0,1,2 번행의 0,1,2 번지"
   ]
  },
  {
   "cell_type": "code",
   "execution_count": 231,
   "id": "4175b2a7",
   "metadata": {},
   "outputs": [
    {
     "data": {
      "text/plain": [
       "array([[ 67,  72,  77],\n",
       "       [ 92,  99, 106],\n",
       "       [117, 126, 135]])"
      ]
     },
     "execution_count": 231,
     "metadata": {},
     "output_type": "execute_result"
    }
   ],
   "source": [
    "import numpy as np\n",
    "\n",
    "a > 5  # 원소중에 5보다 큰것인지 bool 형으로 나타남\n",
    "b = a[a > 5]  # 원소중에 5보다 큰것만 뽑아서 1차원 배열로 나옴\n",
    "b  # array([ 6,  7,  8, 10, 11, 22])\n",
    "\n",
    "b = a[:]\n",
    "b[b % 2 == 0]  # b의 원소중에 짝수만 가져옴\n",
    "\n",
    "c = np.array([[1, 2, 3], [4, 5, 6]])\n",
    "d = np.arange(11, 17).reshape(2, 3)\n",
    "\n",
    "c + d\n",
    "c - d\n",
    "c * d\n",
    "c / d\n",
    "\n",
    "c**2  # c 배열의 원소를 각각제곱\n",
    "np.sqrt(c)  # c 배열의 원소를 각각 루트연산.\n",
    "np.dot(c, d.transpose())\n",
    "np.dot(c.T, d)"
   ]
  },
  {
   "cell_type": "code",
   "execution_count": null,
   "id": "0622222b",
   "metadata": {},
   "outputs": [
    {
     "data": {
      "text/plain": [
       "2.3155722834755124"
      ]
     },
     "execution_count": 241,
     "metadata": {},
     "output_type": "execute_result"
    }
   ],
   "source": [
    "# numpy 의 내부 수학/통계 함수\n",
    "list1 = [3, 5.6, 5.8, 9.5]\n",
    "\n",
    "array = np.array(list1)\n",
    "array.mean()  # 평균\n",
    "array.sum()  # 각 요소 덧셈\n",
    "array.max()  # 최댓값\n",
    "array.min()  # 최솟값\n",
    "array.var()  # 분산\n",
    "array.std()  # 표준편차"
   ]
  },
  {
   "cell_type": "code",
   "execution_count": null,
   "id": "865c4e8e",
   "metadata": {},
   "outputs": [
    {
     "data": {
      "text/plain": [
       "1"
      ]
     },
     "execution_count": 262,
     "metadata": {},
     "output_type": "execute_result"
    }
   ],
   "source": [
    "# 자료형\n",
    "ar = np.array([1, 2, 3])\n",
    "ar.dtype  # int32\n",
    "\n",
    "ar = np.array([\"12\", \"2\", \"3\"])\n",
    "ar.dtype  # <U2\n",
    "\n",
    "ar2 = np.array([1.5, 2.0, 3.5])\n",
    "ar2.dtype  # float64\n",
    "\n",
    "ar3 = np.array([1, 2, 3, \"4\"])\n",
    "ar3.dtype  # <U11\n",
    "\n",
    "# 자료형의 형변환\n",
    "ar = np.array(\n",
    "    [False, True, False, True], dtype=np.int32\n",
    ")  # bool 자료형을 int 로 바꾸므로 False = 0 True = 1\n",
    "ar  # array([0, 1, 0, 1])"
   ]
  },
  {
   "cell_type": "code",
   "execution_count": 324,
   "id": "e43c9280",
   "metadata": {},
   "outputs": [
    {
     "name": "stdout",
     "output_type": "stream",
     "text": [
      "1 : [[15 16 17]\n",
      " [18 19 20]\n",
      " [21 22 23]]\n",
      "2 : [False, False, False, False]\n",
      "3 : 중간고사 평균 : 53.3 표준편차 : 35.2\n",
      "철수의 최종 점수 58.4\n",
      "영희의 최종 점수 64.0\n",
      "민재의 최종 점수 78.8\n"
     ]
    }
   ],
   "source": [
    "# 1 숫자 15에서 23까지 배열을 만들고 이를 3 * 3 행렬로 변환하여 출력하라\n",
    "array = np.arange(15, 24).reshape(3, 3)\n",
    "print(f\"1 : {array}\")\n",
    "\n",
    "# 2 다음의 2 array를 만들고 위의 두 array를 이용해서 아래와 같은 값이 나오게\n",
    "# 목표 : [False, False, False, False]\n",
    "arr1 = np.arange(1, 5)\n",
    "arr2 = np.arange(5, 9)\n",
    "list1 = [x == y for x, y in zip(arr1, arr2)]\n",
    "print(f\"2 : {list1}\")\n",
    "# 3 각 중간 기말 과제점수의 가중치의 합을 구하고 거기에 기타점수 5점을 더함\n",
    "# 중간고사 평균과 표준편차를 구하고 철수의 최종점수도 구해요\n",
    "사람 = np.array([\"철수\", \"영희\", \"민재\"])\n",
    "중간고사 = np.array([15, 100, 45])\n",
    "기말고사 = np.array([78, 25, 90])\n",
    "과제 = np.array([81, 45, 99])\n",
    "가중치 = np.array([0.4, 0.4, 0.2])\n",
    "print(f\"3 : 중간고사 평균 : {중간고사.mean():.1f} 표준편차 : {중간고사.std():.1f}\")\n",
    "\n",
    "\n",
    "최종점수 = (중간고사 * 가중치[0]) + (기말고사 * 가중치[1]) + (과제 * 가중치[2]) + 5\n",
    "for name, score in zip(사람, 최종점수):\n",
    "    print(f\"{name}의 최종 점수 {score:.1f}\")"
   ]
  },
  {
   "cell_type": "code",
   "execution_count": null,
   "id": "34b60157",
   "metadata": {},
   "outputs": [
    {
     "name": "stdout",
     "output_type": "stream",
     "text": [
      "1.\n",
      " [20 22 24 26 28 30 32 34 36 38 40 42 44 46 48 50 52 54 56 58 60]\n",
      "2.\n",
      " [[ 0  1  2  3]\n",
      " [ 4  5  6  7]\n",
      " [ 8  9 10 11]\n",
      " [12 13 14 15]]\n",
      "3.\n",
      " [ 2  4  6  8 10 12 14 16 18 20]\n",
      "4-1. 배열\n",
      " [[1 3 4]\n",
      " [2 3 2]\n",
      " [8 5 9]]\n",
      "4-2. 합계\n",
      " [11 11 15]\n",
      "4-3. 평균\n",
      " [2.66666667 2.33333333 7.33333333]\n",
      "5.\n",
      " [[10. 11. 12.]\n",
      " [13. 14. 15.]\n",
      " [16. 17. 18.]]\n"
     ]
    }
   ],
   "source": [
    "# 연습문제2\n",
    "# 1 1차원 배열 생성 및 연산\n",
    "# 숫자 10부터 30까지의 배열을 생서하고, 배열 내 모든값에 2를 곱한 결과를 출력하세요\n",
    "array = np.arange(10, 31) * 2\n",
    "print(\"1.\\n\", array)\n",
    "\n",
    "# 2 다차원 배열 생성 및 변환\n",
    "# 1) 숫자 0부터 15까지 포함하는 1차원 배열을 생성하세요\n",
    "# 2) 이를 4 x 4 행렬로 반환하세요\n",
    "array = np.arange(16).reshape(4, 4)\n",
    "print(\"2.\\n\", array)\n",
    "\n",
    "# 3 특정 조건에 맞는 값 필터링\n",
    "# 1부터 20까지의 배열에서 짝무나 추출하여 새 배열을 생성하세요\n",
    "array = np.arange(1, 21)\n",
    "array = array[array % 2 == 0]\n",
    "print(\"3.\\n\", array)\n",
    "\n",
    "# 4 배열 연산 및 집계 함수 활용\n",
    "# 1) 임의의 3*3 배열을 생성하세요\n",
    "# 2) 각 행의 합계와 평균을 구하고 출력하세요\n",
    "arr1 = np.random.randint(1, 10, (3, 3))\n",
    "\n",
    "# axis = 1 행 axis = 0 열\n",
    "print(\"4-1. 배열\\n\", arr1)\n",
    "print(\"4-2. 합계\\n\", arr1.sum(axis=1))\n",
    "print(\"4-3. 평균\\n\", arr1.mean(axis=1))\n",
    "\n",
    "# 5 행렬 곱센 및 정구화\n",
    "# 1) 3*3 단위 행렬을 생성하세요\n",
    "# 2) 다른 3*3 행렬을 만들어 행렬의 곱을 구하세요\n",
    "arr1 = np.eye(3)  # 단위행렬 생성\n",
    "arr2 = np.array([[10, 11, 12], [13, 14, 15], [16, 17, 18]])\n",
    "result = np.dot(arr1, arr2)\n",
    "print(\"5.\\n\", result)"
   ]
  }
 ],
 "metadata": {
  "kernelspec": {
   "display_name": "base",
   "language": "python",
   "name": "python3"
  },
  "language_info": {
   "codemirror_mode": {
    "name": "ipython",
    "version": 3
   },
   "file_extension": ".py",
   "mimetype": "text/x-python",
   "name": "python",
   "nbconvert_exporter": "python",
   "pygments_lexer": "ipython3",
   "version": "3.12.7"
  }
 },
 "nbformat": 4,
 "nbformat_minor": 5
}
