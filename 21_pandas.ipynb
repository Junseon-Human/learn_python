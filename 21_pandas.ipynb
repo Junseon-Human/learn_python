{
 "cells": [
  {
   "cell_type": "markdown",
   "id": "af2861e0",
   "metadata": {},
   "source": [
    "# 판다스!\n",
    "## 넘파이를 기반으로 구조화된 데이터프레임을 제공함\n",
    "* 처리속도가 빠른 장점\n",
    "* 숫자에 최적화된 넘파이와 대비되게 판다스는 문자열도 처리가 가능\n",
    "* 테이블 구조 데이터를 조작하기때문에 컬럼와 로우를 조작함\n",
    "* 판다스의 어원은 panel data 로써 판다 랑은 상관없다 조금 아쉽다..."
   ]
  },
  {
   "cell_type": "markdown",
   "id": "fc73b3ad",
   "metadata": {},
   "source": [
    "## Series\n",
    "* 데이터를 저장하는 인덱싱된 1차원 배열\n",
    "* Series(data = 데이터, index = 인덱스)"
   ]
  },
  {
   "cell_type": "code",
   "execution_count": 2,
   "id": "6a26f56f",
   "metadata": {},
   "outputs": [
    {
     "data": {
      "text/plain": [
       "0    1.0\n",
       "1    2.0\n",
       "2    NaN\n",
       "3    4.0\n",
       "dtype: float64"
      ]
     },
     "execution_count": 2,
     "metadata": {},
     "output_type": "execute_result"
    }
   ],
   "source": [
    "import numpy as np\n",
    "import pandas as pd\n",
    "\n",
    "se = pd.Series([1, 2, np.nan, 4])  # np.nan 은 None 과 같은 결측값\n",
    "se"
   ]
  },
  {
   "cell_type": "markdown",
   "id": "e2a0f19e",
   "metadata": {},
   "source": [
    "### isna()\n",
    "* 결손값 or 결측값 을 탐지하고 수정하는 함수\n",
    "* 결측값이 있을때 True 없을때 False 를 반환"
   ]
  },
  {
   "cell_type": "code",
   "execution_count": null,
   "id": "66ab4423",
   "metadata": {},
   "outputs": [
    {
     "data": {
      "text/plain": [
       "0    False\n",
       "1    False\n",
       "2     True\n",
       "3    False\n",
       "dtype: bool"
      ]
     },
     "execution_count": 9,
     "metadata": {},
     "output_type": "execute_result"
    }
   ],
   "source": [
    "import numpy as np\n",
    "import pandas as pd\n",
    "\n",
    "se = pd.Series([1, 2, np.nan, 4])\n",
    "se.isna()"
   ]
  },
  {
   "cell_type": "markdown",
   "id": "89ebea98",
   "metadata": {},
   "source": [
    "### 시리즈의 인덱싱\n",
    "* 기존의 리스트 인덱싱과 동일한 문법을 사용함"
   ]
  },
  {
   "cell_type": "code",
   "execution_count": 11,
   "id": "1fa9d7a8",
   "metadata": {},
   "outputs": [
    {
     "data": {
      "text/plain": [
       "(1.0, 2.0)"
      ]
     },
     "execution_count": 11,
     "metadata": {},
     "output_type": "execute_result"
    }
   ],
   "source": [
    "se[0], se[1]"
   ]
  },
  {
   "cell_type": "markdown",
   "id": "59553427",
   "metadata": {},
   "source": [
    "* 시리즈를 선언할때 index를 명명할수있음"
   ]
  },
  {
   "cell_type": "code",
   "execution_count": null,
   "id": "07b4926d",
   "metadata": {},
   "outputs": [
    {
     "data": {
      "text/plain": [
       "(1.0, 2.0)"
      ]
     },
     "execution_count": 16,
     "metadata": {},
     "output_type": "execute_result"
    }
   ],
   "source": [
    "se = pd.Series([1, 2, np.nan, 4], index=[\"a\", \"b\", \"c\", \"d\"])\n",
    "se[\"a\"], se[\"b\"]"
   ]
  },
  {
   "cell_type": "markdown",
   "id": "4fd35322",
   "metadata": {},
   "source": [
    "### 딕셔너리 타입의 시리즈\n",
    "* key 가 인덱스, value 가 값이 됨"
   ]
  },
  {
   "cell_type": "code",
   "execution_count": 19,
   "id": "53a5f338",
   "metadata": {},
   "outputs": [
    {
     "data": {
      "text/plain": [
       "9500"
      ]
     },
     "execution_count": 19,
     "metadata": {},
     "output_type": "execute_result"
    }
   ],
   "source": [
    "income = {\"1월\": 9500, \"2월\": 6200, \"3월\": 6050, \"4월\": 7000}\n",
    "income_se = pd.Series(income)\n",
    "income_se[\"1월\"]"
   ]
  },
  {
   "cell_type": "markdown",
   "id": "8bcda045",
   "metadata": {},
   "source": [
    "### 시리즈의 인덱스와 밸류를 통해 원하는 값에 접근\n",
    "* .index 를 호출해 인덱스를 반복가능 객체로 가져옴\n",
    "* .values 를 호출해 값을 반복가능 객체로 가져옴"
   ]
  },
  {
   "cell_type": "code",
   "execution_count": 21,
   "id": "ee0225be",
   "metadata": {},
   "outputs": [
    {
     "name": "stdout",
     "output_type": "stream",
     "text": [
      "1월\n",
      "2월\n",
      "3월\n",
      "4월\n",
      "9500\n",
      "6200\n",
      "6050\n",
      "7000\n"
     ]
    }
   ],
   "source": [
    "income = {\"1월\": 9500, \"2월\": 6200, \"3월\": 6050, \"4월\": 7000}\n",
    "income_se = pd.Series(income)\n",
    "income_se[\"1월\"]\n",
    "for month in income_se.index:\n",
    "    print(month)\n",
    "for value in income_se.values:\n",
    "    print(value)"
   ]
  },
  {
   "cell_type": "markdown",
   "id": "65c7258d",
   "metadata": {},
   "source": [
    "### 시리즈의 브로드캐스트 기능\n",
    "* 인덱스가 서로 달라도 연산됨\n",
    "* 크기나 인덱스명이 달라도 연산은 가능함 이경우는 결측값이 됨"
   ]
  },
  {
   "cell_type": "code",
   "execution_count": 25,
   "id": "05b95add",
   "metadata": {},
   "outputs": [
    {
     "data": {
      "text/plain": [
       "korean     80\n",
       "english    70\n",
       "math       80\n",
       "dtype: int64"
      ]
     },
     "execution_count": 25,
     "metadata": {},
     "output_type": "execute_result"
    }
   ],
   "source": [
    "mine = pd.Series([10, 20, 30], index=[\"korean\", \"english\", \"math\"])\n",
    "friend = pd.Series([70, 50, 50], index=[\"korean\", \"english\", \"math\"])\n",
    "\n",
    "merge = mine + friend\n",
    "merge"
   ]
  },
  {
   "cell_type": "markdown",
   "id": "394e8f89",
   "metadata": {},
   "source": [
    "* 인덱스가 다른경우\n",
    "* 인덱스가 서로 다른경우는 결측값 이지만 순서가 다르다면 서로 찾아서 연산을 이룸"
   ]
  },
  {
   "cell_type": "code",
   "execution_count": 30,
   "id": "6dda0100",
   "metadata": {},
   "outputs": [
    {
     "data": {
      "text/plain": [
       "kt       100\n",
       "naver     60\n",
       "sk        70\n",
       "dtype: int64"
      ]
     },
     "execution_count": 30,
     "metadata": {},
     "output_type": "execute_result"
    }
   ],
   "source": [
    "mine = pd.Series([10, 20, 30], index=[\"naver\", \"sk\", \"kt\"])\n",
    "friend = pd.Series([70, 50, 50], index=[\"kt\", \"naver\", \"sk\"])\n",
    "\n",
    "merge = mine + friend\n",
    "merge"
   ]
  },
  {
   "cell_type": "markdown",
   "id": "189142dd",
   "metadata": {},
   "source": [
    "## 데이터프레임\n",
    "* 시리즈는 1차원 구조이므로 2차원 구조를 사용하려면 데이터프레임을 사용해야함\n",
    "* 시리즈와 마찬가지로 index 를 지정하지않으면 컬럼이 자동으로 부여되고 딕셔너리는 key 가 컬럼명 value 는 값이된다\n",
    "* array는 행단위로 들어가고 딕녀서리는 열단위로 입력됨"
   ]
  },
  {
   "cell_type": "code",
   "execution_count": 33,
   "id": "41a2771b",
   "metadata": {},
   "outputs": [
    {
     "data": {
      "text/html": [
       "<div>\n",
       "<style scoped>\n",
       "    .dataframe tbody tr th:only-of-type {\n",
       "        vertical-align: middle;\n",
       "    }\n",
       "\n",
       "    .dataframe tbody tr th {\n",
       "        vertical-align: top;\n",
       "    }\n",
       "\n",
       "    .dataframe thead th {\n",
       "        text-align: right;\n",
       "    }\n",
       "</style>\n",
       "<table border=\"1\" class=\"dataframe\">\n",
       "  <thead>\n",
       "    <tr style=\"text-align: right;\">\n",
       "      <th></th>\n",
       "      <th>0</th>\n",
       "      <th>1</th>\n",
       "      <th>2</th>\n",
       "    </tr>\n",
       "  </thead>\n",
       "  <tbody>\n",
       "    <tr>\n",
       "      <th>0</th>\n",
       "      <td>1</td>\n",
       "      <td>2</td>\n",
       "      <td>3</td>\n",
       "    </tr>\n",
       "    <tr>\n",
       "      <th>1</th>\n",
       "      <td>4</td>\n",
       "      <td>5</td>\n",
       "      <td>6</td>\n",
       "    </tr>\n",
       "  </tbody>\n",
       "</table>\n",
       "</div>"
      ],
      "text/plain": [
       "   0  1  2\n",
       "0  1  2  3\n",
       "1  4  5  6"
      ]
     },
     "metadata": {},
     "output_type": "display_data"
    },
    {
     "data": {
      "text/html": [
       "<div>\n",
       "<style scoped>\n",
       "    .dataframe tbody tr th:only-of-type {\n",
       "        vertical-align: middle;\n",
       "    }\n",
       "\n",
       "    .dataframe tbody tr th {\n",
       "        vertical-align: top;\n",
       "    }\n",
       "\n",
       "    .dataframe thead th {\n",
       "        text-align: right;\n",
       "    }\n",
       "</style>\n",
       "<table border=\"1\" class=\"dataframe\">\n",
       "  <thead>\n",
       "    <tr style=\"text-align: right;\">\n",
       "      <th></th>\n",
       "      <th>a</th>\n",
       "      <th>b</th>\n",
       "      <th>c</th>\n",
       "    </tr>\n",
       "  </thead>\n",
       "  <tbody>\n",
       "    <tr>\n",
       "      <th>0</th>\n",
       "      <td>1</td>\n",
       "      <td>1</td>\n",
       "      <td>2</td>\n",
       "    </tr>\n",
       "    <tr>\n",
       "      <th>1</th>\n",
       "      <td>3</td>\n",
       "      <td>2</td>\n",
       "      <td>4</td>\n",
       "    </tr>\n",
       "  </tbody>\n",
       "</table>\n",
       "</div>"
      ],
      "text/plain": [
       "   a  b  c\n",
       "0  1  1  2\n",
       "1  3  2  4"
      ]
     },
     "metadata": {},
     "output_type": "display_data"
    }
   ],
   "source": [
    "nparray1 = np.array([[1, 2, 3], [4, 5, 6]])\n",
    "display(pd.DataFrame(nparray1))\n",
    "\n",
    "dictionary1 = {\"a\": [\"1\", \"3\"], \"b\": [\"1\", \"2\"], \"c\": [\"2\", \"4\"]}\n",
    "\n",
    "display(pd.DataFrame(dictionary1))"
   ]
  },
  {
   "cell_type": "code",
   "execution_count": null,
   "id": "38166650",
   "metadata": {},
   "outputs": [
    {
     "data": {
      "text/html": [
       "<div>\n",
       "<style scoped>\n",
       "    .dataframe tbody tr th:only-of-type {\n",
       "        vertical-align: middle;\n",
       "    }\n",
       "\n",
       "    .dataframe tbody tr th {\n",
       "        vertical-align: top;\n",
       "    }\n",
       "\n",
       "    .dataframe thead th {\n",
       "        text-align: right;\n",
       "    }\n",
       "</style>\n",
       "<table border=\"1\" class=\"dataframe\">\n",
       "  <thead>\n",
       "    <tr style=\"text-align: right;\">\n",
       "      <th></th>\n",
       "      <th>open</th>\n",
       "      <th>high</th>\n",
       "      <th>low</th>\n",
       "      <th>close</th>\n",
       "    </tr>\n",
       "  </thead>\n",
       "  <tbody>\n",
       "    <tr>\n",
       "      <th>0</th>\n",
       "      <td>11650</td>\n",
       "      <td>12100</td>\n",
       "      <td>11600</td>\n",
       "      <td>11900</td>\n",
       "    </tr>\n",
       "    <tr>\n",
       "      <th>1</th>\n",
       "      <td>11100</td>\n",
       "      <td>11800</td>\n",
       "      <td>11050</td>\n",
       "      <td>11600</td>\n",
       "    </tr>\n",
       "    <tr>\n",
       "      <th>2</th>\n",
       "      <td>11200</td>\n",
       "      <td>11200</td>\n",
       "      <td>10900</td>\n",
       "      <td>11000</td>\n",
       "    </tr>\n",
       "    <tr>\n",
       "      <th>3</th>\n",
       "      <td>11100</td>\n",
       "      <td>11100</td>\n",
       "      <td>10950</td>\n",
       "      <td>11100</td>\n",
       "    </tr>\n",
       "    <tr>\n",
       "      <th>4</th>\n",
       "      <td>11000</td>\n",
       "      <td>11150</td>\n",
       "      <td>10900</td>\n",
       "      <td>11050</td>\n",
       "    </tr>\n",
       "  </tbody>\n",
       "</table>\n",
       "</div>"
      ],
      "text/plain": [
       "    open   high    low  close\n",
       "0  11650  12100  11600  11900\n",
       "1  11100  11800  11050  11600\n",
       "2  11200  11200  10900  11000\n",
       "3  11100  11100  10950  11100\n",
       "4  11000  11150  10900  11050"
      ]
     },
     "execution_count": 4,
     "metadata": {},
     "output_type": "execute_result"
    }
   ],
   "source": [
    "daeshin = {\n",
    "    \"open\": [11650, 11100, 11200, 11100, 11000],\n",
    "    \"high\": [12100, 11800, 11200, 11100, 11150],\n",
    "    \"low\": [11600, 11050, 10900, 10950, 10900],\n",
    "    \"close\": [11900, 11600, 11000, 11100, 11050],\n",
    "}\n",
    "\n",
    "daeshin_day = pd.DataFrame(daeshin)\n",
    "daeshin_day"
   ]
  },
  {
   "cell_type": "code",
   "execution_count": 9,
   "id": "ea987f33",
   "metadata": {},
   "outputs": [
    {
     "data": {
      "text/html": [
       "<div>\n",
       "<style scoped>\n",
       "    .dataframe tbody tr th:only-of-type {\n",
       "        vertical-align: middle;\n",
       "    }\n",
       "\n",
       "    .dataframe tbody tr th {\n",
       "        vertical-align: top;\n",
       "    }\n",
       "\n",
       "    .dataframe thead th {\n",
       "        text-align: right;\n",
       "    }\n",
       "</style>\n",
       "<table border=\"1\" class=\"dataframe\">\n",
       "  <thead>\n",
       "    <tr style=\"text-align: right;\">\n",
       "      <th></th>\n",
       "      <th>open</th>\n",
       "      <th>high</th>\n",
       "      <th>low</th>\n",
       "      <th>close</th>\n",
       "    </tr>\n",
       "  </thead>\n",
       "  <tbody>\n",
       "    <tr>\n",
       "      <th>16.02.29</th>\n",
       "      <td>11650</td>\n",
       "      <td>12100</td>\n",
       "      <td>11600</td>\n",
       "      <td>11900</td>\n",
       "    </tr>\n",
       "    <tr>\n",
       "      <th>16.02.26</th>\n",
       "      <td>11100</td>\n",
       "      <td>11800</td>\n",
       "      <td>11050</td>\n",
       "      <td>11600</td>\n",
       "    </tr>\n",
       "    <tr>\n",
       "      <th>16.02.25</th>\n",
       "      <td>11200</td>\n",
       "      <td>11200</td>\n",
       "      <td>10900</td>\n",
       "      <td>11000</td>\n",
       "    </tr>\n",
       "    <tr>\n",
       "      <th>16.02.24</th>\n",
       "      <td>11100</td>\n",
       "      <td>11100</td>\n",
       "      <td>10950</td>\n",
       "      <td>11100</td>\n",
       "    </tr>\n",
       "    <tr>\n",
       "      <th>16.02.23</th>\n",
       "      <td>11000</td>\n",
       "      <td>11150</td>\n",
       "      <td>10900</td>\n",
       "      <td>11050</td>\n",
       "    </tr>\n",
       "  </tbody>\n",
       "</table>\n",
       "</div>"
      ],
      "text/plain": [
       "           open   high    low  close\n",
       "16.02.29  11650  12100  11600  11900\n",
       "16.02.26  11100  11800  11050  11600\n",
       "16.02.25  11200  11200  10900  11000\n",
       "16.02.24  11100  11100  10950  11100\n",
       "16.02.23  11000  11150  10900  11050"
      ]
     },
     "execution_count": 9,
     "metadata": {},
     "output_type": "execute_result"
    }
   ],
   "source": [
    "date = [\"16.02.29\", \"16.02.26\", \"16.02.25\", \"16.02.24\", \"16.02.23\"]\n",
    "\n",
    "daeshin_day = pd.DataFrame(\n",
    "    daeshin, columns=[\"open\", \"high\", \"low\", \"close\"], index=date\n",
    ")\n",
    "daeshin_day"
   ]
  },
  {
   "cell_type": "markdown",
   "id": "c0b495ac",
   "metadata": {},
   "source": [
    "### 데이터프레임 에서 컬럼 및 인덱스 가져오기\n",
    "* 컬럼을 주고 열 전체 가져오기"
   ]
  },
  {
   "cell_type": "code",
   "execution_count": null,
   "id": "5a67ada1",
   "metadata": {},
   "outputs": [
    {
     "data": {
      "text/plain": [
       "16.02.29    11900\n",
       "16.02.26    11600\n",
       "16.02.25    11000\n",
       "16.02.24    11100\n",
       "16.02.23    11050\n",
       "Name: close, dtype: int64"
      ]
     },
     "execution_count": 13,
     "metadata": {},
     "output_type": "execute_result"
    }
   ],
   "source": [
    "daeshin_day.columns\n",
    "daeshin_day.index\n",
    "\n",
    "close = daeshin_day[\"close\"]\n",
    "close"
   ]
  },
  {
   "cell_type": "markdown",
   "id": "8822e3ef",
   "metadata": {},
   "source": [
    "### 인덱스 를 키워드로 하고싶을때\n",
    "* [] 안에는 컬럼을 기재 할수있으므로 인덱스를 키워드로 하고싶을때는 ioc 함수를 이용함"
   ]
  },
  {
   "cell_type": "code",
   "execution_count": 15,
   "id": "198ff15b",
   "metadata": {},
   "outputs": [
    {
     "data": {
      "text/plain": [
       "open     11100\n",
       "high     11100\n",
       "low      10950\n",
       "close    11100\n",
       "Name: 16.02.24, dtype: int64"
      ]
     },
     "execution_count": 15,
     "metadata": {},
     "output_type": "execute_result"
    }
   ],
   "source": [
    "day_data = daeshin_day.loc[\"16.02.24\"]\n",
    "day_data"
   ]
  },
  {
   "cell_type": "markdown",
   "id": "5d59c46c",
   "metadata": {},
   "source": [
    "### 데이터 프레임 만들기 예제"
   ]
  },
  {
   "cell_type": "code",
   "execution_count": 16,
   "id": "25d62de5",
   "metadata": {},
   "outputs": [
    {
     "data": {
      "text/html": [
       "<div>\n",
       "<style scoped>\n",
       "    .dataframe tbody tr th:only-of-type {\n",
       "        vertical-align: middle;\n",
       "    }\n",
       "\n",
       "    .dataframe tbody tr th {\n",
       "        vertical-align: top;\n",
       "    }\n",
       "\n",
       "    .dataframe thead th {\n",
       "        text-align: right;\n",
       "    }\n",
       "</style>\n",
       "<table border=\"1\" class=\"dataframe\">\n",
       "  <thead>\n",
       "    <tr style=\"text-align: right;\">\n",
       "      <th></th>\n",
       "      <th>A</th>\n",
       "    </tr>\n",
       "  </thead>\n",
       "  <tbody>\n",
       "    <tr>\n",
       "      <th>0</th>\n",
       "      <td>4</td>\n",
       "    </tr>\n",
       "    <tr>\n",
       "      <th>1</th>\n",
       "      <td>5</td>\n",
       "    </tr>\n",
       "    <tr>\n",
       "      <th>2</th>\n",
       "      <td>6</td>\n",
       "    </tr>\n",
       "    <tr>\n",
       "      <th>3</th>\n",
       "      <td>7</td>\n",
       "    </tr>\n",
       "  </tbody>\n",
       "</table>\n",
       "</div>"
      ],
      "text/plain": [
       "   A\n",
       "0  4\n",
       "1  5\n",
       "2  6\n",
       "3  7"
      ]
     },
     "execution_count": 16,
     "metadata": {},
     "output_type": "execute_result"
    }
   ],
   "source": [
    "dataframe1 = pd.DataFrame(data=[4, 5, 6, 7], index=range(0, 4), columns=[\"A\"])\n",
    "dataframe1"
   ]
  },
  {
   "cell_type": "code",
   "execution_count": 22,
   "id": "164a35e8",
   "metadata": {},
   "outputs": [
    {
     "name": "stdout",
     "output_type": "stream",
     "text": [
      "    A   B   C\n",
      "0   1   2   3\n",
      "1   4   5   6\n",
      "2   7   8   9\n",
      "3  10  11  12\n"
     ]
    },
    {
     "data": {
      "text/plain": [
       "4"
      ]
     },
     "execution_count": 22,
     "metadata": {},
     "output_type": "execute_result"
    }
   ],
   "source": [
    "df = pd.DataFrame(\n",
    "    np.array([[1, 2, 3], [4, 5, 6], [7, 8, 9], [10, 11, 12]]), columns=[10, 11, 12]\n",
    ")\n",
    "df.columns = [\"A\", \"B\", \"C\"]\n",
    "print(df)\n",
    "len(df)  # 행의 갯수 반환함"
   ]
  },
  {
   "cell_type": "markdown",
   "id": "e64e0822",
   "metadata": {},
   "source": [
    "### 데이터프레임의 인덱싱과 슬라이싱\n",
    "* 시리즈와 마찬가지로 컬럼을 기준으로 하고\n",
    "* 인덱스를 키워드로 하고싶을시 iloc를 사용함\n",
    "* 키워드가 숫자형일시 슬라이싱도 가능함"
   ]
  },
  {
   "cell_type": "code",
   "execution_count": 43,
   "id": "e24d641b",
   "metadata": {},
   "outputs": [
    {
     "name": "stdout",
     "output_type": "stream",
     "text": [
      "0    1\n",
      "Name: A, dtype: int32\n",
      "A    7\n",
      "B    8\n",
      "Name: 2, dtype: int32\n",
      "   A  B  C\n",
      "0  1  2  3\n",
      "1  4  5  6\n"
     ]
    }
   ],
   "source": [
    "print(df[\"A\"][:1])\n",
    "print(df.iloc[2][:2])\n",
    "print(df.iloc[0:2][:2])"
   ]
  },
  {
   "cell_type": "markdown",
   "id": "fd6b9219",
   "metadata": {},
   "source": [
    "### 데이터 추가(행)\n",
    "* loc() 함수를 통해 해당 인덱스에 데이터를 추가하는것이 가능함\n",
    "* iloc() 는 불가함!!\n",
    "* 다른 방법으로는 concat() 로 마지막행에 추가"
   ]
  },
  {
   "cell_type": "code",
   "execution_count": 122,
   "id": "7dc90a14",
   "metadata": {},
   "outputs": [
    {
     "data": {
      "text/html": [
       "<div>\n",
       "<style scoped>\n",
       "    .dataframe tbody tr th:only-of-type {\n",
       "        vertical-align: middle;\n",
       "    }\n",
       "\n",
       "    .dataframe tbody tr th {\n",
       "        vertical-align: top;\n",
       "    }\n",
       "\n",
       "    .dataframe thead th {\n",
       "        text-align: right;\n",
       "    }\n",
       "</style>\n",
       "<table border=\"1\" class=\"dataframe\">\n",
       "  <thead>\n",
       "    <tr style=\"text-align: right;\">\n",
       "      <th></th>\n",
       "      <th>0</th>\n",
       "      <th>1</th>\n",
       "      <th>2</th>\n",
       "    </tr>\n",
       "  </thead>\n",
       "  <tbody>\n",
       "    <tr>\n",
       "      <th>0</th>\n",
       "      <td>1</td>\n",
       "      <td>2</td>\n",
       "      <td>3</td>\n",
       "    </tr>\n",
       "    <tr>\n",
       "      <th>1</th>\n",
       "      <td>4</td>\n",
       "      <td>5</td>\n",
       "      <td>6</td>\n",
       "    </tr>\n",
       "    <tr>\n",
       "      <th>2</th>\n",
       "      <td>7</td>\n",
       "      <td>8</td>\n",
       "      <td>9</td>\n",
       "    </tr>\n",
       "    <tr>\n",
       "      <th>3</th>\n",
       "      <td>10</td>\n",
       "      <td>11</td>\n",
       "      <td>12</td>\n",
       "    </tr>\n",
       "    <tr>\n",
       "      <th>4</th>\n",
       "      <td>13</td>\n",
       "      <td>14</td>\n",
       "      <td>15</td>\n",
       "    </tr>\n",
       "  </tbody>\n",
       "</table>\n",
       "</div>"
      ],
      "text/plain": [
       "    0   1   2\n",
       "0   1   2   3\n",
       "1   4   5   6\n",
       "2   7   8   9\n",
       "3  10  11  12\n",
       "4  13  14  15"
      ]
     },
     "execution_count": 122,
     "metadata": {},
     "output_type": "execute_result"
    }
   ],
   "source": [
    "df = pd.DataFrame(np.array([[1, 2, 3], [4, 5, 6], [7, 8, 9]]))\n",
    "df.loc[3] = [10, 11, 12]\n",
    "new_row = pd.DataFrame([[13, 14, 15]])\n",
    "df = pd.concat([df, new_row], ignore_index=True)\n",
    "df"
   ]
  },
  {
   "cell_type": "markdown",
   "id": "4f8b08b2",
   "metadata": {},
   "source": [
    "### 데이터 추가(열)"
   ]
  },
  {
   "cell_type": "code",
   "execution_count": 123,
   "id": "1e29ec02",
   "metadata": {},
   "outputs": [
    {
     "data": {
      "text/html": [
       "<div>\n",
       "<style scoped>\n",
       "    .dataframe tbody tr th:only-of-type {\n",
       "        vertical-align: middle;\n",
       "    }\n",
       "\n",
       "    .dataframe tbody tr th {\n",
       "        vertical-align: top;\n",
       "    }\n",
       "\n",
       "    .dataframe thead th {\n",
       "        text-align: right;\n",
       "    }\n",
       "</style>\n",
       "<table border=\"1\" class=\"dataframe\">\n",
       "  <thead>\n",
       "    <tr style=\"text-align: right;\">\n",
       "      <th></th>\n",
       "      <th>0</th>\n",
       "      <th>1</th>\n",
       "      <th>2</th>\n",
       "      <th>D</th>\n",
       "      <th>4</th>\n",
       "    </tr>\n",
       "  </thead>\n",
       "  <tbody>\n",
       "    <tr>\n",
       "      <th>0</th>\n",
       "      <td>1</td>\n",
       "      <td>2</td>\n",
       "      <td>3</td>\n",
       "      <td>5</td>\n",
       "      <td>4</td>\n",
       "    </tr>\n",
       "    <tr>\n",
       "      <th>1</th>\n",
       "      <td>4</td>\n",
       "      <td>5</td>\n",
       "      <td>6</td>\n",
       "      <td>6</td>\n",
       "      <td>4</td>\n",
       "    </tr>\n",
       "    <tr>\n",
       "      <th>2</th>\n",
       "      <td>7</td>\n",
       "      <td>8</td>\n",
       "      <td>9</td>\n",
       "      <td>7</td>\n",
       "      <td>4</td>\n",
       "    </tr>\n",
       "    <tr>\n",
       "      <th>3</th>\n",
       "      <td>10</td>\n",
       "      <td>11</td>\n",
       "      <td>12</td>\n",
       "      <td>8</td>\n",
       "      <td>4</td>\n",
       "    </tr>\n",
       "    <tr>\n",
       "      <th>4</th>\n",
       "      <td>13</td>\n",
       "      <td>14</td>\n",
       "      <td>15</td>\n",
       "      <td>9</td>\n",
       "      <td>4</td>\n",
       "    </tr>\n",
       "  </tbody>\n",
       "</table>\n",
       "</div>"
      ],
      "text/plain": [
       "    0   1   2  D  4\n",
       "0   1   2   3  5  4\n",
       "1   4   5   6  6  4\n",
       "2   7   8   9  7  4\n",
       "3  10  11  12  8  4\n",
       "4  13  14  15  9  4"
      ]
     },
     "metadata": {},
     "output_type": "display_data"
    },
    {
     "data": {
      "text/html": [
       "<div>\n",
       "<style scoped>\n",
       "    .dataframe tbody tr th:only-of-type {\n",
       "        vertical-align: middle;\n",
       "    }\n",
       "\n",
       "    .dataframe tbody tr th {\n",
       "        vertical-align: top;\n",
       "    }\n",
       "\n",
       "    .dataframe thead th {\n",
       "        text-align: right;\n",
       "    }\n",
       "</style>\n",
       "<table border=\"1\" class=\"dataframe\">\n",
       "  <thead>\n",
       "    <tr style=\"text-align: right;\">\n",
       "      <th></th>\n",
       "      <th>0</th>\n",
       "      <th>1</th>\n",
       "      <th>2</th>\n",
       "      <th>D</th>\n",
       "      <th>4</th>\n",
       "      <th>7</th>\n",
       "    </tr>\n",
       "  </thead>\n",
       "  <tbody>\n",
       "    <tr>\n",
       "      <th>0</th>\n",
       "      <td>1</td>\n",
       "      <td>2</td>\n",
       "      <td>3</td>\n",
       "      <td>5</td>\n",
       "      <td>4</td>\n",
       "      <td>7</td>\n",
       "    </tr>\n",
       "    <tr>\n",
       "      <th>1</th>\n",
       "      <td>4</td>\n",
       "      <td>5</td>\n",
       "      <td>6</td>\n",
       "      <td>6</td>\n",
       "      <td>4</td>\n",
       "      <td>7</td>\n",
       "    </tr>\n",
       "    <tr>\n",
       "      <th>2</th>\n",
       "      <td>7</td>\n",
       "      <td>8</td>\n",
       "      <td>9</td>\n",
       "      <td>7</td>\n",
       "      <td>4</td>\n",
       "      <td>7</td>\n",
       "    </tr>\n",
       "    <tr>\n",
       "      <th>3</th>\n",
       "      <td>10</td>\n",
       "      <td>11</td>\n",
       "      <td>12</td>\n",
       "      <td>8</td>\n",
       "      <td>4</td>\n",
       "      <td>7</td>\n",
       "    </tr>\n",
       "    <tr>\n",
       "      <th>4</th>\n",
       "      <td>13</td>\n",
       "      <td>14</td>\n",
       "      <td>15</td>\n",
       "      <td>9</td>\n",
       "      <td>4</td>\n",
       "      <td>7</td>\n",
       "    </tr>\n",
       "  </tbody>\n",
       "</table>\n",
       "</div>"
      ],
      "text/plain": [
       "    0   1   2  D  4  7\n",
       "0   1   2   3  5  4  7\n",
       "1   4   5   6  6  4  7\n",
       "2   7   8   9  7  4  7\n",
       "3  10  11  12  8  4  7\n",
       "4  13  14  15  9  4  7"
      ]
     },
     "metadata": {},
     "output_type": "display_data"
    }
   ],
   "source": [
    "# df.columns = [\"A\", \"B\", \"C\"]\n",
    "df[\"D\"] = [5, 6, 7, 8, 9]\n",
    "df[4] = [4] * 5\n",
    "display(df)\n",
    "\n",
    "df[7] = [7] * 5\n",
    "display(df)"
   ]
  },
  {
   "cell_type": "markdown",
   "id": "435e9e95",
   "metadata": {},
   "source": [
    "### 데이터 삭제\n",
    "* drop(대상)\n",
    "* drop 의 기본대상은 행이며 옵션으로 axis = 를 활용함"
   ]
  },
  {
   "cell_type": "code",
   "execution_count": 124,
   "id": "4ba82bf4",
   "metadata": {},
   "outputs": [
    {
     "data": {
      "text/html": [
       "<div>\n",
       "<style scoped>\n",
       "    .dataframe tbody tr th:only-of-type {\n",
       "        vertical-align: middle;\n",
       "    }\n",
       "\n",
       "    .dataframe tbody tr th {\n",
       "        vertical-align: top;\n",
       "    }\n",
       "\n",
       "    .dataframe thead th {\n",
       "        text-align: right;\n",
       "    }\n",
       "</style>\n",
       "<table border=\"1\" class=\"dataframe\">\n",
       "  <thead>\n",
       "    <tr style=\"text-align: right;\">\n",
       "      <th></th>\n",
       "      <th>0</th>\n",
       "      <th>1</th>\n",
       "      <th>2</th>\n",
       "      <th>D</th>\n",
       "      <th>4</th>\n",
       "      <th>7</th>\n",
       "    </tr>\n",
       "  </thead>\n",
       "  <tbody>\n",
       "    <tr>\n",
       "      <th>0</th>\n",
       "      <td>1</td>\n",
       "      <td>2</td>\n",
       "      <td>3</td>\n",
       "      <td>5</td>\n",
       "      <td>4</td>\n",
       "      <td>7</td>\n",
       "    </tr>\n",
       "    <tr>\n",
       "      <th>3</th>\n",
       "      <td>10</td>\n",
       "      <td>11</td>\n",
       "      <td>12</td>\n",
       "      <td>8</td>\n",
       "      <td>4</td>\n",
       "      <td>7</td>\n",
       "    </tr>\n",
       "    <tr>\n",
       "      <th>4</th>\n",
       "      <td>13</td>\n",
       "      <td>14</td>\n",
       "      <td>15</td>\n",
       "      <td>9</td>\n",
       "      <td>4</td>\n",
       "      <td>7</td>\n",
       "    </tr>\n",
       "  </tbody>\n",
       "</table>\n",
       "</div>"
      ],
      "text/plain": [
       "    0   1   2  D  4  7\n",
       "0   1   2   3  5  4  7\n",
       "3  10  11  12  8  4  7\n",
       "4  13  14  15  9  4  7"
      ]
     },
     "execution_count": 124,
     "metadata": {},
     "output_type": "execute_result"
    }
   ],
   "source": [
    "# df = df.drop(7, axis=\"columns\")  # axis = 기준을 정하는것임 기본은 행임\n",
    "df = df.drop([1, 2], axis=\"index\")  # 다중행, 열 삭제도 가능함\n",
    "df"
   ]
  },
  {
   "cell_type": "markdown",
   "id": "7b285970",
   "metadata": {},
   "source": [
    "### 데이터 변경\n",
    "* 다중데이터 변경시에는 loc 불가함 iloc 활용"
   ]
  },
  {
   "cell_type": "code",
   "execution_count": null,
   "id": "20f9027d",
   "metadata": {},
   "outputs": [
    {
     "data": {
      "text/html": [
       "<div>\n",
       "<style scoped>\n",
       "    .dataframe tbody tr th:only-of-type {\n",
       "        vertical-align: middle;\n",
       "    }\n",
       "\n",
       "    .dataframe tbody tr th {\n",
       "        vertical-align: top;\n",
       "    }\n",
       "\n",
       "    .dataframe thead th {\n",
       "        text-align: right;\n",
       "    }\n",
       "</style>\n",
       "<table border=\"1\" class=\"dataframe\">\n",
       "  <thead>\n",
       "    <tr style=\"text-align: right;\">\n",
       "      <th></th>\n",
       "      <th>0</th>\n",
       "      <th>1</th>\n",
       "      <th>2</th>\n",
       "      <th>D</th>\n",
       "      <th>4</th>\n",
       "      <th>7</th>\n",
       "    </tr>\n",
       "  </thead>\n",
       "  <tbody>\n",
       "    <tr>\n",
       "      <th>0</th>\n",
       "      <td>100</td>\n",
       "      <td>2</td>\n",
       "      <td>3</td>\n",
       "      <td>10</td>\n",
       "      <td>4</td>\n",
       "      <td>7</td>\n",
       "    </tr>\n",
       "    <tr>\n",
       "      <th>3</th>\n",
       "      <td>10</td>\n",
       "      <td>11</td>\n",
       "      <td>12</td>\n",
       "      <td>1</td>\n",
       "      <td>4</td>\n",
       "      <td>7</td>\n",
       "    </tr>\n",
       "    <tr>\n",
       "      <th>4</th>\n",
       "      <td>13</td>\n",
       "      <td>14</td>\n",
       "      <td>15</td>\n",
       "      <td>9</td>\n",
       "      <td>4</td>\n",
       "      <td>7</td>\n",
       "    </tr>\n",
       "  </tbody>\n",
       "</table>\n",
       "</div>"
      ],
      "text/plain": [
       "     0   1   2   D  4  7\n",
       "0  100   2   3  10  4  7\n",
       "3   10  11  12   1  4  7\n",
       "4   13  14  15   9  4  7"
      ]
     },
     "execution_count": 161,
     "metadata": {},
     "output_type": "execute_result"
    }
   ],
   "source": [
    "df.loc[0][0] = 100\n",
    "df.loc[0][\"B\"] = 100\n",
    "df.iloc[0][2] = 100\n",
    "df.iloc[0][0:2] = [1, 2]  # 슬라이싱을 활용한 데이터 변경\n",
    "df[\"C\"] = 3"
   ]
  },
  {
   "cell_type": "markdown",
   "id": "d383798c",
   "metadata": {},
   "source": [
    "### 데이터 정렬\n",
    "* sort_values() 로 기준을 부여하여 정렬\n",
    "* 정렬로 인해 뒤집힌 인덱스는 reset_index() 로 처리함"
   ]
  },
  {
   "cell_type": "code",
   "execution_count": 58,
   "id": "4601f949",
   "metadata": {},
   "outputs": [
    {
     "data": {
      "text/html": [
       "<div>\n",
       "<style scoped>\n",
       "    .dataframe tbody tr th:only-of-type {\n",
       "        vertical-align: middle;\n",
       "    }\n",
       "\n",
       "    .dataframe tbody tr th {\n",
       "        vertical-align: top;\n",
       "    }\n",
       "\n",
       "    .dataframe thead th {\n",
       "        text-align: right;\n",
       "    }\n",
       "</style>\n",
       "<table border=\"1\" class=\"dataframe\">\n",
       "  <thead>\n",
       "    <tr style=\"text-align: right;\">\n",
       "      <th></th>\n",
       "      <th>cluster</th>\n",
       "      <th>org</th>\n",
       "      <th>time</th>\n",
       "    </tr>\n",
       "  </thead>\n",
       "  <tbody>\n",
       "    <tr>\n",
       "      <th>0</th>\n",
       "      <td>1</td>\n",
       "      <td>a</td>\n",
       "      <td>8</td>\n",
       "    </tr>\n",
       "    <tr>\n",
       "      <th>1</th>\n",
       "      <td>1</td>\n",
       "      <td>a</td>\n",
       "      <td>6</td>\n",
       "    </tr>\n",
       "    <tr>\n",
       "      <th>2</th>\n",
       "      <td>2</td>\n",
       "      <td>h</td>\n",
       "      <td>34</td>\n",
       "    </tr>\n",
       "    <tr>\n",
       "      <th>3</th>\n",
       "      <td>1</td>\n",
       "      <td>c</td>\n",
       "      <td>23</td>\n",
       "    </tr>\n",
       "    <tr>\n",
       "      <th>4</th>\n",
       "      <td>2</td>\n",
       "      <td>d</td>\n",
       "      <td>74</td>\n",
       "    </tr>\n",
       "    <tr>\n",
       "      <th>5</th>\n",
       "      <td>3</td>\n",
       "      <td>w</td>\n",
       "      <td>6</td>\n",
       "    </tr>\n",
       "  </tbody>\n",
       "</table>\n",
       "</div>"
      ],
      "text/plain": [
       "   cluster org  time\n",
       "0        1   a     8\n",
       "1        1   a     6\n",
       "2        2   h    34\n",
       "3        1   c    23\n",
       "4        2   d    74\n",
       "5        3   w     6"
      ]
     },
     "metadata": {},
     "output_type": "display_data"
    },
    {
     "data": {
      "text/html": [
       "<div>\n",
       "<style scoped>\n",
       "    .dataframe tbody tr th:only-of-type {\n",
       "        vertical-align: middle;\n",
       "    }\n",
       "\n",
       "    .dataframe tbody tr th {\n",
       "        vertical-align: top;\n",
       "    }\n",
       "\n",
       "    .dataframe thead th {\n",
       "        text-align: right;\n",
       "    }\n",
       "</style>\n",
       "<table border=\"1\" class=\"dataframe\">\n",
       "  <thead>\n",
       "    <tr style=\"text-align: right;\">\n",
       "      <th></th>\n",
       "      <th>cluster</th>\n",
       "      <th>org</th>\n",
       "      <th>time</th>\n",
       "    </tr>\n",
       "  </thead>\n",
       "  <tbody>\n",
       "    <tr>\n",
       "      <th>4</th>\n",
       "      <td>2</td>\n",
       "      <td>d</td>\n",
       "      <td>74</td>\n",
       "    </tr>\n",
       "    <tr>\n",
       "      <th>2</th>\n",
       "      <td>2</td>\n",
       "      <td>h</td>\n",
       "      <td>34</td>\n",
       "    </tr>\n",
       "    <tr>\n",
       "      <th>3</th>\n",
       "      <td>1</td>\n",
       "      <td>c</td>\n",
       "      <td>23</td>\n",
       "    </tr>\n",
       "    <tr>\n",
       "      <th>0</th>\n",
       "      <td>1</td>\n",
       "      <td>a</td>\n",
       "      <td>8</td>\n",
       "    </tr>\n",
       "    <tr>\n",
       "      <th>1</th>\n",
       "      <td>1</td>\n",
       "      <td>a</td>\n",
       "      <td>6</td>\n",
       "    </tr>\n",
       "    <tr>\n",
       "      <th>5</th>\n",
       "      <td>3</td>\n",
       "      <td>w</td>\n",
       "      <td>6</td>\n",
       "    </tr>\n",
       "  </tbody>\n",
       "</table>\n",
       "</div>"
      ],
      "text/plain": [
       "   cluster org  time\n",
       "4        2   d    74\n",
       "2        2   h    34\n",
       "3        1   c    23\n",
       "0        1   a     8\n",
       "1        1   a     6\n",
       "5        3   w     6"
      ]
     },
     "metadata": {},
     "output_type": "display_data"
    },
    {
     "data": {
      "text/html": [
       "<div>\n",
       "<style scoped>\n",
       "    .dataframe tbody tr th:only-of-type {\n",
       "        vertical-align: middle;\n",
       "    }\n",
       "\n",
       "    .dataframe tbody tr th {\n",
       "        vertical-align: top;\n",
       "    }\n",
       "\n",
       "    .dataframe thead th {\n",
       "        text-align: right;\n",
       "    }\n",
       "</style>\n",
       "<table border=\"1\" class=\"dataframe\">\n",
       "  <thead>\n",
       "    <tr style=\"text-align: right;\">\n",
       "      <th></th>\n",
       "      <th>cluster</th>\n",
       "      <th>org</th>\n",
       "      <th>time</th>\n",
       "    </tr>\n",
       "  </thead>\n",
       "  <tbody>\n",
       "    <tr>\n",
       "      <th>0</th>\n",
       "      <td>2</td>\n",
       "      <td>d</td>\n",
       "      <td>74</td>\n",
       "    </tr>\n",
       "    <tr>\n",
       "      <th>1</th>\n",
       "      <td>2</td>\n",
       "      <td>h</td>\n",
       "      <td>34</td>\n",
       "    </tr>\n",
       "    <tr>\n",
       "      <th>2</th>\n",
       "      <td>1</td>\n",
       "      <td>c</td>\n",
       "      <td>23</td>\n",
       "    </tr>\n",
       "    <tr>\n",
       "      <th>3</th>\n",
       "      <td>1</td>\n",
       "      <td>a</td>\n",
       "      <td>8</td>\n",
       "    </tr>\n",
       "    <tr>\n",
       "      <th>4</th>\n",
       "      <td>1</td>\n",
       "      <td>a</td>\n",
       "      <td>6</td>\n",
       "    </tr>\n",
       "    <tr>\n",
       "      <th>5</th>\n",
       "      <td>3</td>\n",
       "      <td>w</td>\n",
       "      <td>6</td>\n",
       "    </tr>\n",
       "  </tbody>\n",
       "</table>\n",
       "</div>"
      ],
      "text/plain": [
       "   cluster org  time\n",
       "0        2   d    74\n",
       "1        2   h    34\n",
       "2        1   c    23\n",
       "3        1   a     8\n",
       "4        1   a     6\n",
       "5        3   w     6"
      ]
     },
     "metadata": {},
     "output_type": "display_data"
    }
   ],
   "source": [
    "df = pd.DataFrame(\n",
    "    {\n",
    "        \"cluster\": [1, 1, 2, 1, 2, 3],\n",
    "        \"org\": [\"a\", \"a\", \"h\", \"c\", \"d\", \"w\"],\n",
    "        \"time\": [8, 6, 34, 23, 74, 6],\n",
    "    }\n",
    ")\n",
    "display(df)\n",
    "\n",
    "df = df.sort_values([\"time\"], ascending=[False])  # time 을 기준으로 내림차순 정렬\n",
    "display(df)\n",
    "\n",
    "df = df.reset_index(drop=True)  # 정렬로 인해 순서가 바뀐 인덱스 정리\n",
    "display(df)"
   ]
  },
  {
   "cell_type": "markdown",
   "id": "5f2f1277",
   "metadata": {},
   "source": [
    "### 함수"
   ]
  },
  {
   "cell_type": "markdown",
   "id": "5a9bd0db",
   "metadata": {},
   "source": [
    "#### discribe()\n",
    "* 숫자인 컬럼만 통계를 작성함, 문자 인 경우는 자동으로 제외됨"
   ]
  },
  {
   "cell_type": "code",
   "execution_count": null,
   "id": "3a2e3cbf",
   "metadata": {},
   "outputs": [
    {
     "data": {
      "text/html": [
       "<div>\n",
       "<style scoped>\n",
       "    .dataframe tbody tr th:only-of-type {\n",
       "        vertical-align: middle;\n",
       "    }\n",
       "\n",
       "    .dataframe tbody tr th {\n",
       "        vertical-align: top;\n",
       "    }\n",
       "\n",
       "    .dataframe thead th {\n",
       "        text-align: right;\n",
       "    }\n",
       "</style>\n",
       "<table border=\"1\" class=\"dataframe\">\n",
       "  <thead>\n",
       "    <tr style=\"text-align: right;\">\n",
       "      <th></th>\n",
       "      <th>cluster</th>\n",
       "      <th>org</th>\n",
       "      <th>time</th>\n",
       "    </tr>\n",
       "  </thead>\n",
       "  <tbody>\n",
       "    <tr>\n",
       "      <th>0</th>\n",
       "      <td>1</td>\n",
       "      <td>a</td>\n",
       "      <td>8</td>\n",
       "    </tr>\n",
       "    <tr>\n",
       "      <th>1</th>\n",
       "      <td>1</td>\n",
       "      <td>a</td>\n",
       "      <td>6</td>\n",
       "    </tr>\n",
       "    <tr>\n",
       "      <th>5</th>\n",
       "      <td>3</td>\n",
       "      <td>w</td>\n",
       "      <td>6</td>\n",
       "    </tr>\n",
       "  </tbody>\n",
       "</table>\n",
       "</div>"
      ],
      "text/plain": [
       "   cluster org  time\n",
       "0        1   a     8\n",
       "1        1   a     6\n",
       "5        3   w     6"
      ]
     },
     "execution_count": 72,
     "metadata": {},
     "output_type": "execute_result"
    }
   ],
   "source": [
    "df = pd.DataFrame(\n",
    "    {\n",
    "        \"cluster\": [1, 1, 2, 1, 2, 3],\n",
    "        \"org\": [\"a\", \"a\", \"h\", \"c\", \"d\", \"w\"],\n",
    "        \"time\": [8, 6, 34, 23, 74, 6],\n",
    "    }\n",
    ")\n",
    "\n",
    "df.describe()\n",
    "# 나머지 함수도 정리해라\n",
    "\n",
    "# 데이터의 head 부분만 보여줌 (앞에서 부터 보여줌)\n",
    "df.head(2)\n",
    "\n",
    "# 뒤에서 부터 보여줌\n",
    "df.tail(2)\n",
    "\n",
    "# 행과 열을 바꿈\n",
    "df.T  # transpose\n",
    "\n",
    "df.time  # 'time' 컬럼의 데이터 보여줌\n",
    "\n",
    "df[df.time < 10]  # 'time'이 10 미만인 데이터"
   ]
  },
  {
   "cell_type": "markdown",
   "id": "7eb891fd",
   "metadata": {},
   "source": [
    "# 2025-04-14"
   ]
  },
  {
   "cell_type": "code",
   "execution_count": null,
   "id": "7a3732c7",
   "metadata": {},
   "outputs": [
    {
     "name": "stderr",
     "output_type": "stream",
     "text": [
      "C:\\Users\\main\\AppData\\Local\\Temp\\ipykernel_14320\\1715750164.py:29: FutureWarning: ChainedAssignmentError: behaviour will change in pandas 3.0!\n",
      "You are setting values through chained assignment. Currently this works in certain cases, but when using Copy-on-Write (which will become the default behaviour in pandas 3.0) this will never work to update the original DataFrame or Series, because the intermediate object on which we are setting values will behave as a copy.\n",
      "A typical example is when you are setting values in a column of a DataFrame, like:\n",
      "\n",
      "df[\"col\"][row_indexer] = value\n",
      "\n",
      "Use `df.loc[row_indexer, \"col\"] = values` instead, to perform the assignment in a single step and ensure this keeps updating the original `df`.\n",
      "\n",
      "See the caveats in the documentation: https://pandas.pydata.org/pandas-docs/stable/user_guide/indexing.html#returning-a-view-versus-a-copy\n",
      "\n",
      "  df.loc[0][0] = 100\n",
      "C:\\Users\\main\\AppData\\Local\\Temp\\ipykernel_14320\\1715750164.py:29: FutureWarning: Series.__setitem__ treating keys as positions is deprecated. In a future version, integer keys will always be treated as labels (consistent with DataFrame behavior). To set a value by position, use `ser.iloc[pos] = value`\n",
      "  df.loc[0][0] = 100\n",
      "C:\\Users\\main\\AppData\\Local\\Temp\\ipykernel_14320\\1715750164.py:30: FutureWarning: ChainedAssignmentError: behaviour will change in pandas 3.0!\n",
      "You are setting values through chained assignment. Currently this works in certain cases, but when using Copy-on-Write (which will become the default behaviour in pandas 3.0) this will never work to update the original DataFrame or Series, because the intermediate object on which we are setting values will behave as a copy.\n",
      "A typical example is when you are setting values in a column of a DataFrame, like:\n",
      "\n",
      "df[\"col\"][row_indexer] = value\n",
      "\n",
      "Use `df.loc[row_indexer, \"col\"] = values` instead, to perform the assignment in a single step and ensure this keeps updating the original `df`.\n",
      "\n",
      "See the caveats in the documentation: https://pandas.pydata.org/pandas-docs/stable/user_guide/indexing.html#returning-a-view-versus-a-copy\n",
      "\n",
      "  df.loc[0][\"B\"] = 100\n",
      "C:\\Users\\main\\AppData\\Local\\Temp\\ipykernel_14320\\1715750164.py:31: FutureWarning: ChainedAssignmentError: behaviour will change in pandas 3.0!\n",
      "You are setting values through chained assignment. Currently this works in certain cases, but when using Copy-on-Write (which will become the default behaviour in pandas 3.0) this will never work to update the original DataFrame or Series, because the intermediate object on which we are setting values will behave as a copy.\n",
      "A typical example is when you are setting values in a column of a DataFrame, like:\n",
      "\n",
      "df[\"col\"][row_indexer] = value\n",
      "\n",
      "Use `df.loc[row_indexer, \"col\"] = values` instead, to perform the assignment in a single step and ensure this keeps updating the original `df`.\n",
      "\n",
      "See the caveats in the documentation: https://pandas.pydata.org/pandas-docs/stable/user_guide/indexing.html#returning-a-view-versus-a-copy\n",
      "\n",
      "  df.iloc[0][2] = 100\n",
      "C:\\Users\\main\\AppData\\Local\\Temp\\ipykernel_14320\\1715750164.py:31: FutureWarning: Series.__setitem__ treating keys as positions is deprecated. In a future version, integer keys will always be treated as labels (consistent with DataFrame behavior). To set a value by position, use `ser.iloc[pos] = value`\n",
      "  df.iloc[0][2] = 100\n",
      "C:\\Users\\main\\AppData\\Local\\Temp\\ipykernel_14320\\1715750164.py:32: FutureWarning: ChainedAssignmentError: behaviour will change in pandas 3.0!\n",
      "You are setting values through chained assignment. Currently this works in certain cases, but when using Copy-on-Write (which will become the default behaviour in pandas 3.0) this will never work to update the original DataFrame or Series, because the intermediate object on which we are setting values will behave as a copy.\n",
      "A typical example is when you are setting values in a column of a DataFrame, like:\n",
      "\n",
      "df[\"col\"][row_indexer] = value\n",
      "\n",
      "Use `df.loc[row_indexer, \"col\"] = values` instead, to perform the assignment in a single step and ensure this keeps updating the original `df`.\n",
      "\n",
      "See the caveats in the documentation: https://pandas.pydata.org/pandas-docs/stable/user_guide/indexing.html#returning-a-view-versus-a-copy\n",
      "\n",
      "  df.iloc[0][0:2] = [1, 2]  # 슬라이싱을 활용한 데이터 변경\n"
     ]
    },
    {
     "data": {
      "text/html": [
       "<div>\n",
       "<style scoped>\n",
       "    .dataframe tbody tr th:only-of-type {\n",
       "        vertical-align: middle;\n",
       "    }\n",
       "\n",
       "    .dataframe tbody tr th {\n",
       "        vertical-align: top;\n",
       "    }\n",
       "\n",
       "    .dataframe thead th {\n",
       "        text-align: right;\n",
       "    }\n",
       "</style>\n",
       "<table border=\"1\" class=\"dataframe\">\n",
       "  <thead>\n",
       "    <tr style=\"text-align: right;\">\n",
       "      <th></th>\n",
       "      <th>A</th>\n",
       "      <th>B</th>\n",
       "      <th>C</th>\n",
       "    </tr>\n",
       "  </thead>\n",
       "  <tbody>\n",
       "    <tr>\n",
       "      <th>0</th>\n",
       "      <td>100</td>\n",
       "      <td>100</td>\n",
       "      <td>100</td>\n",
       "    </tr>\n",
       "  </tbody>\n",
       "</table>\n",
       "</div>"
      ],
      "text/plain": [
       "     A    B    C\n",
       "0  100  100  100"
      ]
     },
     "metadata": {},
     "output_type": "display_data"
    }
   ],
   "source": [
    "# 저번주 복습 잠깐\n",
    "import pandas as pd\n",
    "import numpy as np\n",
    "\n",
    "df = pd.DataFrame(np.array([[1, 2, 3], [4, 5, 6]]))  # 선언\n",
    "# display(df)\n",
    "df.loc[3] = [10, 11, 12]  # 행별로 데이터 추가\n",
    "# display(df)\n",
    "df = pd.concat(\n",
    "    [df, pd.DataFrame([[13, 14, 15]])], ignore_index=True\n",
    ")  # 행별 데이터 추가\n",
    "# display(df)\n",
    "df.columns = [\"A\", \"B\", \"C\"]  # 데이터프레임의 컬럼 바꾸기\n",
    "df[\"D\"] = list(\"dddd\")  # 컬럼 별로 데이터 추가\n",
    "\n",
    "df[4] = [4] * 4  # 컬럼 으로 데이터 추가\n",
    "df[7] = [7] * 4\n",
    "# display(df)\n",
    "df = df.drop(7, axis=\"columns\")  # 컬럼기준으로 삭제\n",
    "# display(df)\n",
    "df = df.drop([4, \"D\"], axis=\"columns\")  # 다중 컬럼 삭제\n",
    "# display(df)\n",
    "df = df.drop(1, axis=\"index\")  # 행 기준으로 삭제\n",
    "# display(df)\n",
    "df = df.drop([2, 3], axis=\"index\")  # 다중 행 삭제\n",
    "# display(df)\n",
    "\n",
    "# 데이터 변경\n",
    "# 다중데이터 변경시에는 loc 불가 iloc 활용\n",
    "df.loc[0][0] = 100\n",
    "df.loc[0][\"B\"] = 100\n",
    "df.iloc[0][2] = 100\n",
    "df.iloc[0][0:2] = [1, 2]  # 슬라이싱을 활용한 데이터 변경\n",
    "df[\"C\"] = 3\n",
    "\n",
    "display(df)"
   ]
  },
  {
   "cell_type": "markdown",
   "id": "f3a40e14",
   "metadata": {},
   "source": [
    "### 주피터노트북 으로 판다스 표 만들기"
   ]
  },
  {
   "cell_type": "code",
   "execution_count": null,
   "id": "0383c6f6",
   "metadata": {},
   "outputs": [
    {
     "data": {
      "text/html": [
       "<div>\n",
       "<style scoped>\n",
       "    .dataframe tbody tr th:only-of-type {\n",
       "        vertical-align: middle;\n",
       "    }\n",
       "\n",
       "    .dataframe tbody tr th {\n",
       "        vertical-align: top;\n",
       "    }\n",
       "\n",
       "    .dataframe thead th {\n",
       "        text-align: right;\n",
       "    }\n",
       "</style>\n",
       "<table border=\"1\" class=\"dataframe\">\n",
       "  <thead>\n",
       "    <tr style=\"text-align: right;\">\n",
       "      <th></th>\n",
       "      <th>월</th>\n",
       "      <th>수익</th>\n",
       "      <th>지출</th>\n",
       "    </tr>\n",
       "  </thead>\n",
       "  <tbody>\n",
       "    <tr>\n",
       "      <th>0</th>\n",
       "      <td>1월</td>\n",
       "      <td>9500</td>\n",
       "      <td>5040</td>\n",
       "    </tr>\n",
       "    <tr>\n",
       "      <th>1</th>\n",
       "      <td>2월</td>\n",
       "      <td>6200</td>\n",
       "      <td>2350</td>\n",
       "    </tr>\n",
       "    <tr>\n",
       "      <th>2</th>\n",
       "      <td>3월</td>\n",
       "      <td>6050</td>\n",
       "      <td>2300</td>\n",
       "    </tr>\n",
       "    <tr>\n",
       "      <th>3</th>\n",
       "      <td>4월</td>\n",
       "      <td>7000</td>\n",
       "      <td>4800</td>\n",
       "    </tr>\n",
       "  </tbody>\n",
       "</table>\n",
       "</div>"
      ],
      "text/plain": [
       "    월    수익    지출\n",
       "0  1월  9500  5040\n",
       "1  2월  6200  2350\n",
       "2  3월  6050  2300\n",
       "3  4월  7000  4800"
      ]
     },
     "metadata": {},
     "output_type": "display_data"
    }
   ],
   "source": [
    "import pandas as pd\n",
    "\n",
    "month_se = pd.Series([\"1월\", \"2월\", \"3월\", \"4월\"])\n",
    "income_se = pd.Series([9500, 6200, 6050, 7000])\n",
    "expenses_se = pd.Series([5040, 2350, 2300, 4800])\n",
    "\n",
    "df = pd.DataFrame({\"월\": month_se, \"수익\": income_se, \"지출\": expenses_se})\n",
    "\n",
    "display(df)"
   ]
  },
  {
   "cell_type": "markdown",
   "id": "edb24fad",
   "metadata": {},
   "source": [
    "### 함수 사용해 값 표시하기"
   ]
  },
  {
   "cell_type": "code",
   "execution_count": 82,
   "id": "1503d8e8",
   "metadata": {},
   "outputs": [
    {
     "name": "stdout",
     "output_type": "stream",
     "text": [
      "최대 수익이 발생한 월: 1월\n",
      "월 최대 수익: 9500 , 월 평균 수익: 7187.5\n"
     ]
    }
   ],
   "source": [
    "m_idx = np.argmax(income_se)\n",
    "print(\"최대 수익이 발생한 월:\", month_se[m_idx])\n",
    "print(\"월 최대 수익:\", income_se.max(), \", 월 평균 수익:\", income_se.mean())"
   ]
  },
  {
   "cell_type": "markdown",
   "id": "1a53a220",
   "metadata": {},
   "source": [
    "### 위 데이터프레임을 이용해서 1월 부터 4월까지 매출의 합과 월 지출의 합을 출력"
   ]
  },
  {
   "cell_type": "code",
   "execution_count": null,
   "id": "e6403c05",
   "metadata": {},
   "outputs": [
    {
     "name": "stdout",
     "output_type": "stream",
     "text": [
      "동윤이네 상점 수입 합계: 28,750원\n",
      "동윤이네 상점 지출 합계: 14,490원\n"
     ]
    },
    {
     "data": {
      "text/plain": [
       "RangeIndex(start=0, stop=4, step=1)"
      ]
     },
     "execution_count": 94,
     "metadata": {},
     "output_type": "execute_result"
    }
   ],
   "source": [
    "print(\"동윤이네 상점 수입 합계:\", f\"{income_se.sum():,}원\")\n",
    "print(\"동윤이네 상점 지출 합계:\", f\"{expenses_se.sum():,}원\")"
   ]
  },
  {
   "cell_type": "markdown",
   "id": "d2d0c6e5",
   "metadata": {},
   "source": [
    "### 새로운 컬럼 생성하기\n",
    "* axis = 1 은 각 행의합, axis = 0 은 각 열의 합임\n",
    "* axis = \"columns\" == 1 , \"index\" == 0"
   ]
  },
  {
   "cell_type": "code",
   "execution_count": 128,
   "id": "111a6e88",
   "metadata": {},
   "outputs": [],
   "source": [
    "# 데이터 생성\n",
    "data = {\n",
    "    \"2007\": [7.71, 19.02, 10.47, 10.87, 4.04, 2.01],\n",
    "    \"2008\": [7.95, 17.71, 8.45, 10.83, 3.78, 2.05],\n",
    "    \"2009\": [11.96, 15.00, 5.58, 7.55, 3.45, 1.50],\n",
    "    \"2010\": [15.84, 16.70, 7.60, 9.09, 4.20, 2.25],\n",
    "    \"2011\": [16.33, 17.48, 8.40, 7.88, 4.62, 2.54],\n",
    "}\n",
    "\n",
    "index = [\"China\", \"EU\", \"US\", \"Japan\", \"Korea\", \"Mexico\"]\n",
    "\n",
    "df = pd.DataFrame(data, index=index)\n",
    "df[\"total\"] = df.sum(axis=1)\n",
    "list(df.columns)  # 만들어진 데이터를 list로 뽑아낼수도있음\n",
    "\n",
    "df[\"total\"] = df[[\"2007\", \"2008\", \"2009\", \"2010\", \"2011\"]].sum(axis=\"columns\")\n",
    "df[\"mean\"] = df[[\"2007\", \"2008\", \"2009\", \"2010\", \"2011\"]].mean(axis=\"columns\")"
   ]
  },
  {
   "cell_type": "markdown",
   "id": "51138cd3",
   "metadata": {},
   "source": [
    "### 데이터프레임 함수 사용시 주의사항\n",
    "* 함수를 사용해 생성된 컬럼은 해당 데이터가 사라져도 이전 데이터를 유지함 컬럼을 삭제했을시에는 해당 데이터를 제외하고 다시 함수를 수행해야함"
   ]
  },
  {
   "cell_type": "code",
   "execution_count": null,
   "id": "9adf7156",
   "metadata": {},
   "outputs": [
    {
     "data": {
      "text/html": [
       "<div>\n",
       "<style scoped>\n",
       "    .dataframe tbody tr th:only-of-type {\n",
       "        vertical-align: middle;\n",
       "    }\n",
       "\n",
       "    .dataframe tbody tr th {\n",
       "        vertical-align: top;\n",
       "    }\n",
       "\n",
       "    .dataframe thead th {\n",
       "        text-align: right;\n",
       "    }\n",
       "</style>\n",
       "<table border=\"1\" class=\"dataframe\">\n",
       "  <thead>\n",
       "    <tr style=\"text-align: right;\">\n",
       "      <th></th>\n",
       "      <th>2008</th>\n",
       "      <th>2009</th>\n",
       "      <th>2010</th>\n",
       "      <th>2011</th>\n",
       "      <th>total</th>\n",
       "      <th>mean</th>\n",
       "    </tr>\n",
       "  </thead>\n",
       "  <tbody>\n",
       "    <tr>\n",
       "      <th>China</th>\n",
       "      <td>7.95</td>\n",
       "      <td>11.96</td>\n",
       "      <td>15.84</td>\n",
       "      <td>16.33</td>\n",
       "      <td>59.79</td>\n",
       "      <td>11.958</td>\n",
       "    </tr>\n",
       "    <tr>\n",
       "      <th>EU</th>\n",
       "      <td>17.71</td>\n",
       "      <td>15.00</td>\n",
       "      <td>16.70</td>\n",
       "      <td>17.48</td>\n",
       "      <td>85.91</td>\n",
       "      <td>17.182</td>\n",
       "    </tr>\n",
       "    <tr>\n",
       "      <th>US</th>\n",
       "      <td>8.45</td>\n",
       "      <td>5.58</td>\n",
       "      <td>7.60</td>\n",
       "      <td>8.40</td>\n",
       "      <td>40.50</td>\n",
       "      <td>8.100</td>\n",
       "    </tr>\n",
       "    <tr>\n",
       "      <th>Japan</th>\n",
       "      <td>10.83</td>\n",
       "      <td>7.55</td>\n",
       "      <td>9.09</td>\n",
       "      <td>7.88</td>\n",
       "      <td>46.22</td>\n",
       "      <td>9.244</td>\n",
       "    </tr>\n",
       "    <tr>\n",
       "      <th>Korea</th>\n",
       "      <td>3.78</td>\n",
       "      <td>3.45</td>\n",
       "      <td>4.20</td>\n",
       "      <td>4.62</td>\n",
       "      <td>20.09</td>\n",
       "      <td>4.018</td>\n",
       "    </tr>\n",
       "    <tr>\n",
       "      <th>Mexico</th>\n",
       "      <td>2.05</td>\n",
       "      <td>1.50</td>\n",
       "      <td>2.25</td>\n",
       "      <td>2.54</td>\n",
       "      <td>10.35</td>\n",
       "      <td>2.070</td>\n",
       "    </tr>\n",
       "  </tbody>\n",
       "</table>\n",
       "</div>"
      ],
      "text/plain": [
       "         2008   2009   2010   2011  total    mean\n",
       "China    7.95  11.96  15.84  16.33  59.79  11.958\n",
       "EU      17.71  15.00  16.70  17.48  85.91  17.182\n",
       "US       8.45   5.58   7.60   8.40  40.50   8.100\n",
       "Japan   10.83   7.55   9.09   7.88  46.22   9.244\n",
       "Korea    3.78   3.45   4.20   4.62  20.09   4.018\n",
       "Mexico   2.05   1.50   2.25   2.54  10.35   2.070"
      ]
     },
     "execution_count": 131,
     "metadata": {},
     "output_type": "execute_result"
    }
   ],
   "source": [
    "df.drop(\"2007\", inplace=True, axis=\"columns\")\n",
    "df[\"total\"] = df[[\"2008\", \"2009\", \"2010\", \"2011\"]].sum(axis=\"columns\")\n",
    "df[\"mean\"] = df[[\"2008\", \"2009\", \"2010\", \"2011\"]].mean(axis=\"columns\")\n",
    "df"
   ]
  },
  {
   "cell_type": "markdown",
   "id": "2e3dea36",
   "metadata": {},
   "source": [
    "### 열의합을 구하기\n",
    "* axis = index or 0"
   ]
  },
  {
   "cell_type": "code",
   "execution_count": 127,
   "id": "64d032c4",
   "metadata": {},
   "outputs": [
    {
     "data": {
      "text/html": [
       "<div>\n",
       "<style scoped>\n",
       "    .dataframe tbody tr th:only-of-type {\n",
       "        vertical-align: middle;\n",
       "    }\n",
       "\n",
       "    .dataframe tbody tr th {\n",
       "        vertical-align: top;\n",
       "    }\n",
       "\n",
       "    .dataframe thead th {\n",
       "        text-align: right;\n",
       "    }\n",
       "</style>\n",
       "<table border=\"1\" class=\"dataframe\">\n",
       "  <thead>\n",
       "    <tr style=\"text-align: right;\">\n",
       "      <th></th>\n",
       "      <th>2008</th>\n",
       "      <th>2009</th>\n",
       "      <th>2010</th>\n",
       "      <th>2011</th>\n",
       "      <th>total</th>\n",
       "      <th>mean</th>\n",
       "    </tr>\n",
       "  </thead>\n",
       "  <tbody>\n",
       "    <tr>\n",
       "      <th>China</th>\n",
       "      <td>7.95</td>\n",
       "      <td>11.96</td>\n",
       "      <td>15.84</td>\n",
       "      <td>16.33</td>\n",
       "      <td>52.08</td>\n",
       "      <td>13.0200</td>\n",
       "    </tr>\n",
       "    <tr>\n",
       "      <th>EU</th>\n",
       "      <td>17.71</td>\n",
       "      <td>15.00</td>\n",
       "      <td>16.70</td>\n",
       "      <td>17.48</td>\n",
       "      <td>66.89</td>\n",
       "      <td>16.7225</td>\n",
       "    </tr>\n",
       "    <tr>\n",
       "      <th>US</th>\n",
       "      <td>8.45</td>\n",
       "      <td>5.58</td>\n",
       "      <td>7.60</td>\n",
       "      <td>8.40</td>\n",
       "      <td>30.03</td>\n",
       "      <td>7.5075</td>\n",
       "    </tr>\n",
       "    <tr>\n",
       "      <th>Japan</th>\n",
       "      <td>10.83</td>\n",
       "      <td>7.55</td>\n",
       "      <td>9.09</td>\n",
       "      <td>7.88</td>\n",
       "      <td>35.35</td>\n",
       "      <td>8.8375</td>\n",
       "    </tr>\n",
       "    <tr>\n",
       "      <th>Korea</th>\n",
       "      <td>3.78</td>\n",
       "      <td>3.45</td>\n",
       "      <td>4.20</td>\n",
       "      <td>4.62</td>\n",
       "      <td>16.05</td>\n",
       "      <td>4.0125</td>\n",
       "    </tr>\n",
       "    <tr>\n",
       "      <th>Mexico</th>\n",
       "      <td>2.05</td>\n",
       "      <td>1.50</td>\n",
       "      <td>2.25</td>\n",
       "      <td>2.54</td>\n",
       "      <td>8.34</td>\n",
       "      <td>2.0850</td>\n",
       "    </tr>\n",
       "    <tr>\n",
       "      <th>total</th>\n",
       "      <td>101.54</td>\n",
       "      <td>90.08</td>\n",
       "      <td>111.36</td>\n",
       "      <td>114.50</td>\n",
       "      <td>1356.81</td>\n",
       "      <td>104.3700</td>\n",
       "    </tr>\n",
       "  </tbody>\n",
       "</table>\n",
       "</div>"
      ],
      "text/plain": [
       "          2008   2009    2010    2011    total      mean\n",
       "China     7.95  11.96   15.84   16.33    52.08   13.0200\n",
       "EU       17.71  15.00   16.70   17.48    66.89   16.7225\n",
       "US        8.45   5.58    7.60    8.40    30.03    7.5075\n",
       "Japan    10.83   7.55    9.09    7.88    35.35    8.8375\n",
       "Korea     3.78   3.45    4.20    4.62    16.05    4.0125\n",
       "Mexico    2.05   1.50    2.25    2.54     8.34    2.0850\n",
       "total   101.54  90.08  111.36  114.50  1356.81  104.3700"
      ]
     },
     "execution_count": 127,
     "metadata": {},
     "output_type": "execute_result"
    }
   ],
   "source": [
    "df.loc[\"total\"] = df.sum(axis=0)\n",
    "df"
   ]
  },
  {
   "cell_type": "markdown",
   "id": "5fa10e3d",
   "metadata": {},
   "source": [
    "### drop 함수의 inplace 옵션\n",
    "* False 는 기존 데이터는 건드리지않고 새로 생성된 값이 리턴됨\n",
    "* True 는 기존 데이터를 건드림 (리턴 값이 없어 새로 변수를 선언해서 생성할수없음)"
   ]
  },
  {
   "cell_type": "code",
   "execution_count": 144,
   "id": "19c8021f",
   "metadata": {},
   "outputs": [
    {
     "data": {
      "text/html": [
       "<div>\n",
       "<style scoped>\n",
       "    .dataframe tbody tr th:only-of-type {\n",
       "        vertical-align: middle;\n",
       "    }\n",
       "\n",
       "    .dataframe tbody tr th {\n",
       "        vertical-align: top;\n",
       "    }\n",
       "\n",
       "    .dataframe thead th {\n",
       "        text-align: right;\n",
       "    }\n",
       "</style>\n",
       "<table border=\"1\" class=\"dataframe\">\n",
       "  <thead>\n",
       "    <tr style=\"text-align: right;\">\n",
       "      <th></th>\n",
       "      <th>A</th>\n",
       "      <th>C</th>\n",
       "      <th>D</th>\n",
       "    </tr>\n",
       "  </thead>\n",
       "  <tbody>\n",
       "    <tr>\n",
       "      <th>0</th>\n",
       "      <td>10</td>\n",
       "      <td>30</td>\n",
       "      <td>40</td>\n",
       "    </tr>\n",
       "    <tr>\n",
       "      <th>1</th>\n",
       "      <td>50</td>\n",
       "      <td>70</td>\n",
       "      <td>80</td>\n",
       "    </tr>\n",
       "  </tbody>\n",
       "</table>\n",
       "</div>"
      ],
      "text/plain": [
       "    A   C   D\n",
       "0  10  30  40\n",
       "1  50  70  80"
      ]
     },
     "metadata": {},
     "output_type": "display_data"
    },
    {
     "data": {
      "text/html": [
       "<div>\n",
       "<style scoped>\n",
       "    .dataframe tbody tr th:only-of-type {\n",
       "        vertical-align: middle;\n",
       "    }\n",
       "\n",
       "    .dataframe tbody tr th {\n",
       "        vertical-align: top;\n",
       "    }\n",
       "\n",
       "    .dataframe thead th {\n",
       "        text-align: right;\n",
       "    }\n",
       "</style>\n",
       "<table border=\"1\" class=\"dataframe\">\n",
       "  <thead>\n",
       "    <tr style=\"text-align: right;\">\n",
       "      <th></th>\n",
       "      <th>A</th>\n",
       "      <th>B</th>\n",
       "      <th>C</th>\n",
       "      <th>D</th>\n",
       "    </tr>\n",
       "  </thead>\n",
       "  <tbody>\n",
       "    <tr>\n",
       "      <th>0</th>\n",
       "      <td>10</td>\n",
       "      <td>20</td>\n",
       "      <td>30</td>\n",
       "      <td>40</td>\n",
       "    </tr>\n",
       "    <tr>\n",
       "      <th>1</th>\n",
       "      <td>50</td>\n",
       "      <td>60</td>\n",
       "      <td>70</td>\n",
       "      <td>80</td>\n",
       "    </tr>\n",
       "  </tbody>\n",
       "</table>\n",
       "</div>"
      ],
      "text/plain": [
       "    A   B   C   D\n",
       "0  10  20  30  40\n",
       "1  50  60  70  80"
      ]
     },
     "metadata": {},
     "output_type": "display_data"
    }
   ],
   "source": [
    "d_df = pd.DataFrame(\n",
    "    data=[[10, 20, 30, 40], [50, 60, 70, 80]], columns=[\"A\", \"B\", \"C\", \"D\"]\n",
    ")\n",
    "new_df = d_df.drop(\"B\", axis=\"columns\", inplace=False)\n",
    "display(new_df)\n",
    "display(d_df)"
   ]
  },
  {
   "cell_type": "markdown",
   "id": "289c5d4c",
   "metadata": {},
   "source": [
    "### read_csv 함수\n",
    "* csv 파일을 읽어와 데이터 프레임을 생성함\n",
    "* index_col = x 은 읽어올 csv 파일의 x 번째 열을 데이터 프레임의 인덱스로 사용한다는 의미"
   ]
  },
  {
   "cell_type": "code",
   "execution_count": 155,
   "id": "f6974cf7",
   "metadata": {},
   "outputs": [
    {
     "data": {
      "text/html": [
       "<div>\n",
       "<style scoped>\n",
       "    .dataframe tbody tr th:only-of-type {\n",
       "        vertical-align: middle;\n",
       "    }\n",
       "\n",
       "    .dataframe tbody tr th {\n",
       "        vertical-align: top;\n",
       "    }\n",
       "\n",
       "    .dataframe thead th {\n",
       "        text-align: right;\n",
       "    }\n",
       "</style>\n",
       "<table border=\"1\" class=\"dataframe\">\n",
       "  <thead>\n",
       "    <tr style=\"text-align: right;\">\n",
       "      <th></th>\n",
       "      <th>2007</th>\n",
       "      <th>2008</th>\n",
       "      <th>2009</th>\n",
       "      <th>2010</th>\n",
       "      <th>2011</th>\n",
       "    </tr>\n",
       "  </thead>\n",
       "  <tbody>\n",
       "    <tr>\n",
       "      <th>China</th>\n",
       "      <td>7.71</td>\n",
       "      <td>7.95</td>\n",
       "      <td>11.96</td>\n",
       "      <td>15.84</td>\n",
       "      <td>16.33</td>\n",
       "    </tr>\n",
       "    <tr>\n",
       "      <th>EU</th>\n",
       "      <td>19.02</td>\n",
       "      <td>17.71</td>\n",
       "      <td>15.00</td>\n",
       "      <td>16.70</td>\n",
       "      <td>17.48</td>\n",
       "    </tr>\n",
       "    <tr>\n",
       "      <th>US</th>\n",
       "      <td>10.47</td>\n",
       "      <td>8.45</td>\n",
       "      <td>5.58</td>\n",
       "      <td>7.60</td>\n",
       "      <td>8.40</td>\n",
       "    </tr>\n",
       "    <tr>\n",
       "      <th>Japan</th>\n",
       "      <td>10.87</td>\n",
       "      <td>10.83</td>\n",
       "      <td>7.55</td>\n",
       "      <td>9.09</td>\n",
       "      <td>7.88</td>\n",
       "    </tr>\n",
       "    <tr>\n",
       "      <th>Korea</th>\n",
       "      <td>4.04</td>\n",
       "      <td>3.78</td>\n",
       "      <td>3.45</td>\n",
       "      <td>4.20</td>\n",
       "      <td>4.62</td>\n",
       "    </tr>\n",
       "    <tr>\n",
       "      <th>Mexico</th>\n",
       "      <td>2.01</td>\n",
       "      <td>2.05</td>\n",
       "      <td>1.50</td>\n",
       "      <td>2.25</td>\n",
       "      <td>2.54</td>\n",
       "    </tr>\n",
       "  </tbody>\n",
       "</table>\n",
       "</div>"
      ],
      "text/plain": [
       "         2007   2008   2009   2010   2011\n",
       "China    7.71   7.95  11.96  15.84  16.33\n",
       "EU      19.02  17.71  15.00  16.70  17.48\n",
       "US      10.47   8.45   5.58   7.60   8.40\n",
       "Japan   10.87  10.83   7.55   9.09   7.88\n",
       "Korea    4.04   3.78   3.45   4.20   4.62\n",
       "Mexico   2.01   2.05   1.50   2.25   2.54"
      ]
     },
     "metadata": {},
     "output_type": "display_data"
    },
    {
     "data": {
      "text/html": [
       "<div>\n",
       "<style scoped>\n",
       "    .dataframe tbody tr th:only-of-type {\n",
       "        vertical-align: middle;\n",
       "    }\n",
       "\n",
       "    .dataframe tbody tr th {\n",
       "        vertical-align: top;\n",
       "    }\n",
       "\n",
       "    .dataframe thead th {\n",
       "        text-align: right;\n",
       "    }\n",
       "</style>\n",
       "<table border=\"1\" class=\"dataframe\">\n",
       "  <thead>\n",
       "    <tr style=\"text-align: right;\">\n",
       "      <th></th>\n",
       "      <th>2007</th>\n",
       "      <th>2008</th>\n",
       "      <th>2009</th>\n",
       "      <th>2010</th>\n",
       "      <th>2011</th>\n",
       "    </tr>\n",
       "  </thead>\n",
       "  <tbody>\n",
       "    <tr>\n",
       "      <th>China</th>\n",
       "      <td>7.71</td>\n",
       "      <td>7.95</td>\n",
       "      <td>11.96</td>\n",
       "      <td>15.84</td>\n",
       "      <td>16.33</td>\n",
       "    </tr>\n",
       "    <tr>\n",
       "      <th>EU</th>\n",
       "      <td>19.02</td>\n",
       "      <td>17.71</td>\n",
       "      <td>15.00</td>\n",
       "      <td>16.70</td>\n",
       "      <td>17.48</td>\n",
       "    </tr>\n",
       "    <tr>\n",
       "      <th>US</th>\n",
       "      <td>10.47</td>\n",
       "      <td>8.45</td>\n",
       "      <td>5.58</td>\n",
       "      <td>7.60</td>\n",
       "      <td>8.40</td>\n",
       "    </tr>\n",
       "    <tr>\n",
       "      <th>Japan</th>\n",
       "      <td>10.87</td>\n",
       "      <td>10.83</td>\n",
       "      <td>7.55</td>\n",
       "      <td>9.09</td>\n",
       "      <td>7.88</td>\n",
       "    </tr>\n",
       "    <tr>\n",
       "      <th>Korea</th>\n",
       "      <td>4.04</td>\n",
       "      <td>3.78</td>\n",
       "      <td>3.45</td>\n",
       "      <td>4.20</td>\n",
       "      <td>4.62</td>\n",
       "    </tr>\n",
       "  </tbody>\n",
       "</table>\n",
       "</div>"
      ],
      "text/plain": [
       "        2007   2008   2009   2010   2011\n",
       "China   7.71   7.95  11.96  15.84  16.33\n",
       "EU     19.02  17.71  15.00  16.70  17.48\n",
       "US     10.47   8.45   5.58   7.60   8.40\n",
       "Japan  10.87  10.83   7.55   9.09   7.88\n",
       "Korea   4.04   3.78   3.45   4.20   4.62"
      ]
     },
     "metadata": {},
     "output_type": "display_data"
    }
   ],
   "source": [
    "# 원격지 CSV 파일 경로 설정\n",
    "path = \"https://github.com/dongupak/DataML/raw/main/csv/vehicle_prod.csv\"\n",
    "\n",
    "# CSV 파일을 읽어서 데이터프레임으로 만들기 (첫 번째 열을 인덱스로 설정)\n",
    "df = pd.read_csv(path, index_col=0)\n",
    "\n",
    "# 데이터 출력\n",
    "display(df)\n",
    "\n",
    "df.drop(\"Mexico\", axis=\"index\", inplace=True)\n",
    "display(df)"
   ]
  },
  {
   "cell_type": "code",
   "execution_count": 169,
   "id": "195c833a",
   "metadata": {},
   "outputs": [
    {
     "data": {
      "text/plain": [
       "2007    4.04\n",
       "2008    3.78\n",
       "2009    3.45\n",
       "2010    4.20\n",
       "2011    4.62\n",
       "Name: Korea, dtype: float64"
      ]
     },
     "execution_count": 169,
     "metadata": {},
     "output_type": "execute_result"
    }
   ],
   "source": [
    "# 데이터의 인덱스를 기준으로 가져오는 여러가지 방법\n",
    "df.iloc[4]\n",
    "df.loc[\"Korea\"]"
   ]
  },
  {
   "cell_type": "markdown",
   "id": "7fc7e492",
   "metadata": {},
   "source": [
    "### 인덱서"
   ]
  },
  {
   "cell_type": "code",
   "execution_count": null,
   "id": "7329afa0",
   "metadata": {},
   "outputs": [
    {
     "data": {
      "text/plain": [
       "8.4"
      ]
     },
     "execution_count": 177,
     "metadata": {},
     "output_type": "execute_result"
    }
   ],
   "source": [
    "# 앞에서 3개 행의 데이터를 가저온후 컬럼이 2009 인 데이터\n",
    "df.head(3)[\"2009\"]\n",
    "\n",
    "# iloc 의 차이 인덱싱 차이\n",
    "df.iloc[[2, 4]]\n",
    "df.iloc[2, 4]"
   ]
  },
  {
   "cell_type": "markdown",
   "id": "b37b928e",
   "metadata": {},
   "source": [
    "### 판다스의 인코딩\n",
    "* csv 파일을 읽어올때 encoding 옵션을 주어야 한글이 정상적으로 출력되며 에러가 발생하지않음"
   ]
  },
  {
   "cell_type": "code",
   "execution_count": 327,
   "id": "0d56213e",
   "metadata": {},
   "outputs": [
    {
     "data": {
      "text/html": [
       "<div>\n",
       "<style scoped>\n",
       "    .dataframe tbody tr th:only-of-type {\n",
       "        vertical-align: middle;\n",
       "    }\n",
       "\n",
       "    .dataframe tbody tr th {\n",
       "        vertical-align: top;\n",
       "    }\n",
       "\n",
       "    .dataframe thead th {\n",
       "        text-align: right;\n",
       "    }\n",
       "</style>\n",
       "<table border=\"1\" class=\"dataframe\">\n",
       "  <thead>\n",
       "    <tr style=\"text-align: right;\">\n",
       "      <th></th>\n",
       "      <th>평균기온</th>\n",
       "      <th>최대풍속</th>\n",
       "      <th>평균풍속</th>\n",
       "    </tr>\n",
       "    <tr>\n",
       "      <th>일시</th>\n",
       "      <th></th>\n",
       "      <th></th>\n",
       "      <th></th>\n",
       "    </tr>\n",
       "  </thead>\n",
       "  <tbody>\n",
       "    <tr>\n",
       "      <th>2010-08-01</th>\n",
       "      <td>28.7</td>\n",
       "      <td>8.3</td>\n",
       "      <td>3.4</td>\n",
       "    </tr>\n",
       "    <tr>\n",
       "      <th>2010-08-02</th>\n",
       "      <td>25.2</td>\n",
       "      <td>8.7</td>\n",
       "      <td>3.8</td>\n",
       "    </tr>\n",
       "    <tr>\n",
       "      <th>2010-08-03</th>\n",
       "      <td>22.1</td>\n",
       "      <td>6.3</td>\n",
       "      <td>2.9</td>\n",
       "    </tr>\n",
       "    <tr>\n",
       "      <th>2010-08-04</th>\n",
       "      <td>25.3</td>\n",
       "      <td>6.6</td>\n",
       "      <td>4.2</td>\n",
       "    </tr>\n",
       "    <tr>\n",
       "      <th>2010-08-05</th>\n",
       "      <td>27.2</td>\n",
       "      <td>9.1</td>\n",
       "      <td>5.6</td>\n",
       "    </tr>\n",
       "    <tr>\n",
       "      <th>...</th>\n",
       "      <td>...</td>\n",
       "      <td>...</td>\n",
       "      <td>...</td>\n",
       "    </tr>\n",
       "    <tr>\n",
       "      <th>2020-07-27</th>\n",
       "      <td>22.1</td>\n",
       "      <td>4.2</td>\n",
       "      <td>1.7</td>\n",
       "    </tr>\n",
       "    <tr>\n",
       "      <th>2020-07-28</th>\n",
       "      <td>21.9</td>\n",
       "      <td>4.5</td>\n",
       "      <td>1.6</td>\n",
       "    </tr>\n",
       "    <tr>\n",
       "      <th>2020-07-29</th>\n",
       "      <td>21.6</td>\n",
       "      <td>3.2</td>\n",
       "      <td>1.0</td>\n",
       "    </tr>\n",
       "    <tr>\n",
       "      <th>2020-07-30</th>\n",
       "      <td>22.9</td>\n",
       "      <td>9.7</td>\n",
       "      <td>2.4</td>\n",
       "    </tr>\n",
       "    <tr>\n",
       "      <th>2020-07-31</th>\n",
       "      <td>25.7</td>\n",
       "      <td>4.8</td>\n",
       "      <td>2.5</td>\n",
       "    </tr>\n",
       "  </tbody>\n",
       "</table>\n",
       "<p>3653 rows × 3 columns</p>\n",
       "</div>"
      ],
      "text/plain": [
       "            평균기온  최대풍속  평균풍속\n",
       "일시                          \n",
       "2010-08-01  28.7   8.3   3.4\n",
       "2010-08-02  25.2   8.7   3.8\n",
       "2010-08-03  22.1   6.3   2.9\n",
       "2010-08-04  25.3   6.6   4.2\n",
       "2010-08-05  27.2   9.1   5.6\n",
       "...          ...   ...   ...\n",
       "2020-07-27  22.1   4.2   1.7\n",
       "2020-07-28  21.9   4.5   1.6\n",
       "2020-07-29  21.6   3.2   1.0\n",
       "2020-07-30  22.9   9.7   2.4\n",
       "2020-07-31  25.7   4.8   2.5\n",
       "\n",
       "[3653 rows x 3 columns]"
      ]
     },
     "metadata": {},
     "output_type": "display_data"
    },
    {
     "name": "stdout",
     "output_type": "stream",
     "text": [
      "waether 데이터의 shape : (3653, 3)\n"
     ]
    },
    {
     "data": {
      "text/html": [
       "<div>\n",
       "<style scoped>\n",
       "    .dataframe tbody tr th:only-of-type {\n",
       "        vertical-align: middle;\n",
       "    }\n",
       "\n",
       "    .dataframe tbody tr th {\n",
       "        vertical-align: top;\n",
       "    }\n",
       "\n",
       "    .dataframe thead th {\n",
       "        text-align: right;\n",
       "    }\n",
       "</style>\n",
       "<table border=\"1\" class=\"dataframe\">\n",
       "  <thead>\n",
       "    <tr style=\"text-align: right;\">\n",
       "      <th></th>\n",
       "      <th>평균기온</th>\n",
       "      <th>최대풍속</th>\n",
       "      <th>평균풍속</th>\n",
       "    </tr>\n",
       "    <tr>\n",
       "      <th>일시</th>\n",
       "      <th></th>\n",
       "      <th></th>\n",
       "      <th></th>\n",
       "    </tr>\n",
       "  </thead>\n",
       "  <tbody>\n",
       "    <tr>\n",
       "      <th>2012-02-11</th>\n",
       "      <td>-0.7</td>\n",
       "      <td>NaN</td>\n",
       "      <td>NaN</td>\n",
       "    </tr>\n",
       "    <tr>\n",
       "      <th>2012-02-12</th>\n",
       "      <td>0.4</td>\n",
       "      <td>NaN</td>\n",
       "      <td>NaN</td>\n",
       "    </tr>\n",
       "    <tr>\n",
       "      <th>2012-02-13</th>\n",
       "      <td>4.0</td>\n",
       "      <td>NaN</td>\n",
       "      <td>NaN</td>\n",
       "    </tr>\n",
       "    <tr>\n",
       "      <th>2015-03-22</th>\n",
       "      <td>10.1</td>\n",
       "      <td>11.6</td>\n",
       "      <td>NaN</td>\n",
       "    </tr>\n",
       "    <tr>\n",
       "      <th>2015-04-01</th>\n",
       "      <td>7.3</td>\n",
       "      <td>12.1</td>\n",
       "      <td>NaN</td>\n",
       "    </tr>\n",
       "    <tr>\n",
       "      <th>2019-04-18</th>\n",
       "      <td>15.7</td>\n",
       "      <td>11.7</td>\n",
       "      <td>NaN</td>\n",
       "    </tr>\n",
       "  </tbody>\n",
       "</table>\n",
       "</div>"
      ],
      "text/plain": [
       "            평균기온  최대풍속  평균풍속\n",
       "일시                          \n",
       "2012-02-11  -0.7   NaN   NaN\n",
       "2012-02-12   0.4   NaN   NaN\n",
       "2012-02-13   4.0   NaN   NaN\n",
       "2015-03-22  10.1  11.6   NaN\n",
       "2015-04-01   7.3  12.1   NaN\n",
       "2019-04-18  15.7  11.7   NaN"
      ]
     },
     "execution_count": 327,
     "metadata": {},
     "output_type": "execute_result"
    }
   ],
   "source": [
    "# 원격지 CSV 파일 경로 설정\n",
    "path = \"https://github.com/dongupak/DataML/raw/main/csv/weather.csv\"\n",
    "\n",
    "weather = pd.read_csv(path, index_col=0, encoding=\"CP949\")\n",
    "\n",
    "weather.head(3)\n",
    "display(weather)\n",
    "# shape() 해당 데이터의 행과 열의 수를 튜플로 리턴\n",
    "print(f\"waether 데이터의 shape : {weather.shape}\")\n",
    "\n",
    "weather.describe()\n",
    "weather.count()\n",
    "\n",
    "# isna() 결손값을 뽑아내는 함수\n",
    "missing_data = weather[weather[\"평균풍속\"].isna()]\n",
    "missing_data"
   ]
  },
  {
   "cell_type": "markdown",
   "id": "638818f9",
   "metadata": {},
   "source": [
    "### 데이터의 정제와 결손값 처리하기\n",
    "* 결손 데이터 삭제하기\n",
    "* dropna() 함수 의 옵션\n",
    "* how = any (결손데이터가 하나라도 포함되면 제거 대상)\n",
    "* how = a;; (결손데이터가 행, 열 전체에 결손데이터가 있으면 제거 대상)\n",
    "* inplace = False (원본데이터 는 유지 하고 새로 생성)\n",
    "True (원본데이터를 수정)"
   ]
  },
  {
   "cell_type": "code",
   "execution_count": 319,
   "id": "693d803e",
   "metadata": {},
   "outputs": [
    {
     "data": {
      "text/plain": [
       "평균기온    3646\n",
       "최대풍속    3646\n",
       "평균풍속    3646\n",
       "dtype: int64"
      ]
     },
     "execution_count": 319,
     "metadata": {},
     "output_type": "execute_result"
    }
   ],
   "source": [
    "new_df = weather.dropna(axis=\"index\", how=\"any\", inplace=False)\n",
    "new_df.count()"
   ]
  },
  {
   "cell_type": "markdown",
   "id": "7f43f912",
   "metadata": {},
   "source": [
    "#### fillna 함수 이용하여 처리하기\n",
    "* 결손데이터를 삭제하는것이 아닌 특정 값으로 대체함"
   ]
  },
  {
   "cell_type": "code",
   "execution_count": null,
   "id": "8b529d26",
   "metadata": {},
   "outputs": [
    {
     "data": {
      "text/plain": [
       "평균기온   -0.700000\n",
       "최대풍속    7.911099\n",
       "평균풍속    3.936441\n",
       "Name: 2012-02-11, dtype: float64"
      ]
     },
     "execution_count": 330,
     "metadata": {},
     "output_type": "execute_result"
    }
   ],
   "source": [
    "new_weather = weather.fillna(0, inplace=False)\n",
    "new_weather.loc[\"2012-02-11\"]\n",
    "\n",
    "new_weather = weather.fillna(weather[\"평균풍속\"].mean(), inplace=False)\n",
    "new_weather.loc[\"2012-02-11\"]\n",
    "\n",
    "# 평균 풍속의 결손치는 평균 풍속의 평균값으로 넣고\n",
    "# 최대 풍속의 결손치는 최대 풍속의 평균값으로 넣어보자\n",
    "max_wind = pd.Series(weather[\"최대풍속\"])\n",
    "mean_wind = pd.Series(weather[\"평균풍속\"])\n",
    "max_wind.fillna(max_wind.mean(), inplace=True)\n",
    "mean_wind.fillna(mean_wind.mean(), inplace=True)\n",
    "\n",
    "new_weather = pd.concat([weather[\"평균기온\"], max_wind, mean_wind], axis=1)\n",
    "\n",
    "weather.loc[\"2012-02-11\"]"
   ]
  },
  {
   "cell_type": "markdown",
   "id": "c7028ebf",
   "metadata": {},
   "source": [
    "### 시계열 자료 분석\n",
    "* DatetimeIndex 를 활용해 여러가지 패턴의 시계열 자료를 알아서 통일화 하여 사용할수있게 됨\n",
    "* 통일화된 패턴은 yyyy-mm-dd 로 됨"
   ]
  },
  {
   "cell_type": "code",
   "execution_count": null,
   "id": "3583b1cd",
   "metadata": {},
   "outputs": [
    {
     "data": {
      "text/plain": [
       "Index([13, 13, 24], dtype='int32')"
      ]
     },
     "execution_count": 344,
     "metadata": {},
     "output_type": "execute_result"
    }
   ],
   "source": [
    "d_list = [\"01/03/2018\", \"01-03-2018\", \"2018-01-05\", \"2018/01/06\", \"May 1,2020\"]\n",
    "pd.DatetimeIndex(d_list).month\n",
    "\n",
    "dt_list = [\"01,03,2028 11:12:13\", \"01-03-2018 11:22:13\", \"01-04-2019 10:22:24 PM\"]\n",
    "pd.DatetimeIndex(dt_list).hour\n",
    "pd.DatetimeIndex(dt_list).second"
   ]
  },
  {
   "cell_type": "markdown",
   "id": "a90b6f83",
   "metadata": {},
   "source": [
    "#### 위의 weather 를 이용한 DatetimeIndex 에제"
   ]
  },
  {
   "cell_type": "code",
   "execution_count": null,
   "id": "a99cab0e",
   "metadata": {},
   "outputs": [
    {
     "data": {
      "text/plain": [
       "Text(0, 0.5, 'Temperature')"
      ]
     },
     "execution_count": 381,
     "metadata": {},
     "output_type": "execute_result"
    },
    {
     "data": {
      "image/png": "[encoded data removed]",
      "text/plain": [
       "<Figure size 640x480 with 1 Axes>"
      ]
     },
     "metadata": {},
     "output_type": "display_data"
    }
   ],
   "source": [
    "import matplotlib.pyplot as plt\n",
    "\n",
    "path = \"https://github.com/dongupak/DataML/raw/main/csv/weather.csv\"\n",
    "\n",
    "# 일시를 가져와 month 컬럼을 추가 하기\n",
    "weather = pd.read_csv(path, encoding=\"CP949\")\n",
    "weather[\"month\"] = pd.DatetimeIndex(weather[\"일시\"]).month\n",
    "\n",
    "\n",
    "# 월별 평균기온으로 데이터 시각화 하기\n",
    "monthly = [None for x in range(12)]\n",
    "monthly_temp = [0 for x in range(12)]\n",
    "for i in range(12):\n",
    "    monthly[i] = weather[weather[\"month\"] == i + 1]\n",
    "    monthly_temp[i] = monthly[i][\"평균기온\"].mean()\n",
    "\n",
    "\n",
    "months = range(1, 13)\n",
    "plt.bar(months, monthly_temp, color=\"green\")\n",
    "plt.xlabel(\"Month\")\n",
    "plt.ylabel(\"Temperature\")"
   ]
  },
  {
   "cell_type": "markdown",
   "id": "8248f341",
   "metadata": {},
   "source": [
    "### 그룹핑과 필터링"
   ]
  },
  {
   "cell_type": "code",
   "execution_count": 6,
   "id": "0ebc3b00",
   "metadata": {},
   "outputs": [
    {
     "data": {
      "text/html": [
       "<div>\n",
       "<style scoped>\n",
       "    .dataframe tbody tr th:only-of-type {\n",
       "        vertical-align: middle;\n",
       "    }\n",
       "\n",
       "    .dataframe tbody tr th {\n",
       "        vertical-align: top;\n",
       "    }\n",
       "\n",
       "    .dataframe thead th {\n",
       "        text-align: right;\n",
       "    }\n",
       "</style>\n",
       "<table border=\"1\" class=\"dataframe\">\n",
       "  <thead>\n",
       "    <tr style=\"text-align: right;\">\n",
       "      <th></th>\n",
       "      <th>평균기온</th>\n",
       "      <th>최대풍속</th>\n",
       "      <th>평균풍속</th>\n",
       "      <th>month</th>\n",
       "    </tr>\n",
       "    <tr>\n",
       "      <th>year</th>\n",
       "      <th></th>\n",
       "      <th></th>\n",
       "      <th></th>\n",
       "      <th></th>\n",
       "    </tr>\n",
       "  </thead>\n",
       "  <tbody>\n",
       "    <tr>\n",
       "      <th>2010</th>\n",
       "      <td>15.238562</td>\n",
       "      <td>8.205229</td>\n",
       "      <td>4.069281</td>\n",
       "      <td>10.000000</td>\n",
       "    </tr>\n",
       "    <tr>\n",
       "      <th>2011</th>\n",
       "      <td>12.073425</td>\n",
       "      <td>8.355616</td>\n",
       "      <td>4.251233</td>\n",
       "      <td>6.526027</td>\n",
       "    </tr>\n",
       "    <tr>\n",
       "      <th>2012</th>\n",
       "      <td>11.892896</td>\n",
       "      <td>7.794490</td>\n",
       "      <td>3.863912</td>\n",
       "      <td>6.513661</td>\n",
       "    </tr>\n",
       "    <tr>\n",
       "      <th>2013</th>\n",
       "      <td>12.795068</td>\n",
       "      <td>7.859726</td>\n",
       "      <td>3.874795</td>\n",
       "      <td>6.526027</td>\n",
       "    </tr>\n",
       "    <tr>\n",
       "      <th>2014</th>\n",
       "      <td>12.844110</td>\n",
       "      <td>7.458904</td>\n",
       "      <td>3.816438</td>\n",
       "      <td>6.526027</td>\n",
       "    </tr>\n",
       "    <tr>\n",
       "      <th>2015</th>\n",
       "      <td>13.162466</td>\n",
       "      <td>7.694247</td>\n",
       "      <td>3.799449</td>\n",
       "      <td>6.526027</td>\n",
       "    </tr>\n",
       "    <tr>\n",
       "      <th>2016</th>\n",
       "      <td>13.243443</td>\n",
       "      <td>7.963934</td>\n",
       "      <td>3.977869</td>\n",
       "      <td>6.513661</td>\n",
       "    </tr>\n",
       "    <tr>\n",
       "      <th>2017</th>\n",
       "      <td>13.111233</td>\n",
       "      <td>8.001370</td>\n",
       "      <td>3.934795</td>\n",
       "      <td>6.526027</td>\n",
       "    </tr>\n",
       "    <tr>\n",
       "      <th>2018</th>\n",
       "      <td>13.041644</td>\n",
       "      <td>8.158630</td>\n",
       "      <td>4.085479</td>\n",
       "      <td>6.526027</td>\n",
       "    </tr>\n",
       "    <tr>\n",
       "      <th>2019</th>\n",
       "      <td>13.767671</td>\n",
       "      <td>7.796703</td>\n",
       "      <td>3.854396</td>\n",
       "      <td>6.526027</td>\n",
       "    </tr>\n",
       "    <tr>\n",
       "      <th>2020</th>\n",
       "      <td>12.233333</td>\n",
       "      <td>7.897183</td>\n",
       "      <td>3.786385</td>\n",
       "      <td>4.009390</td>\n",
       "    </tr>\n",
       "  </tbody>\n",
       "</table>\n",
       "</div>"
      ],
      "text/plain": [
       "           평균기온      최대풍속      평균풍속      month\n",
       "year                                          \n",
       "2010  15.238562  8.205229  4.069281  10.000000\n",
       "2011  12.073425  8.355616  4.251233   6.526027\n",
       "2012  11.892896  7.794490  3.863912   6.513661\n",
       "2013  12.795068  7.859726  3.874795   6.526027\n",
       "2014  12.844110  7.458904  3.816438   6.526027\n",
       "2015  13.162466  7.694247  3.799449   6.526027\n",
       "2016  13.243443  7.963934  3.977869   6.513661\n",
       "2017  13.111233  8.001370  3.934795   6.526027\n",
       "2018  13.041644  8.158630  4.085479   6.526027\n",
       "2019  13.767671  7.796703  3.854396   6.526027\n",
       "2020  12.233333  7.897183  3.786385   4.009390"
      ]
     },
     "execution_count": 6,
     "metadata": {},
     "output_type": "execute_result"
    }
   ],
   "source": [
    "path = \"https://github.com/dongupak/DataML/raw/main/csv/weather.csv\"\n",
    "import pandas as pd\n",
    "\n",
    "# 일시를 가져와 month 컬럼을 추가 하기\n",
    "weather = pd.read_csv(path, encoding=\"CP949\")\n",
    "weather[\"month\"] = pd.DatetimeIndex(weather[\"일시\"]).month\n",
    "weather[\"year\"] = pd.DatetimeIndex(weather[\"일시\"]).year\n",
    "\n",
    "# mean() 은 숫자만 가능하나 일시는 날짜 타입으로 되어있어 불가함\n",
    "# mean() 함수에 옵션으로 numeric_only = True 만 주면 숫자만 걸러 연산함\n",
    "monthly_means = weather.groupby(\"month\").mean(numeric_only=True)\n",
    "yearly_means = weather.groupby(\"year\").mean(numeric_only=True)\n",
    "\n",
    "monthly_means\n",
    "yearly_means"
   ]
  },
  {
   "cell_type": "markdown",
   "id": "8bced934",
   "metadata": {},
   "source": [
    "#### 도전문제\n",
    "* 위의 weather 데이터 프레임을 이용하여 연도별\n",
    "*  평균기온을 히스토그램으로 출력\n",
    "* 힌트) 그룹바이 함수와 DatetimeIndex().year 를 사용해보자\n",
    "* 히스토그램은 plt.bar()"
   ]
  },
  {
   "cell_type": "code",
   "execution_count": null,
   "id": "7761cbf8",
   "metadata": {},
   "outputs": [
    {
     "data": {
      "text/plain": [
       "<BarContainer object of 11 artists>"
      ]
     },
     "execution_count": 18,
     "metadata": {},
     "output_type": "execute_result"
    },
    {
     "data": {
      "image/png": "[encoded data removed]",
      "text/plain": [
       "<Figure size 640x480 with 1 Axes>"
      ]
     },
     "metadata": {},
     "output_type": "display_data"
    }
   ],
   "source": [
    "import pandas as pd\n",
    "import matplotlib.pyplot as plt\n",
    "\n",
    "path = \"https://github.com/dongupak/DataML/raw/main/csv/weather.csv\"\n",
    "\n",
    "# 일시를 가져와 month 컬럼을 추가 하기\n",
    "weather = pd.read_csv(path, encoding=\"CP949\")\n",
    "weather[\"year\"] = pd.DatetimeIndex(weather[\"일시\"]).year\n",
    "yearly_means = weather.groupby(\"year\").mean(numeric_only=True)\n",
    "plt.bar(list(yearly_means.index), yearly_means[\"평균기온\"], color=\"green\")"
   ]
  },
  {
   "cell_type": "markdown",
   "id": "8520fcba",
   "metadata": {},
   "source": [
    "### 데이터 구조를 변경하는 pivot()\n",
    "* 인덱스가 2개 이상인경우는 pivot() 으로는 재구조화 할수없으며 pivot_table() 을 사용해야한다\n",
    "* 컬럼이 2개 이상인경우도 pivot_table() 을 사용해야한다"
   ]
  },
  {
   "cell_type": "code",
   "execution_count": 28,
   "id": "809fa8ef",
   "metadata": {},
   "outputs": [
    {
     "data": {
      "text/html": [
       "<div>\n",
       "<style scoped>\n",
       "    .dataframe tbody tr th:only-of-type {\n",
       "        vertical-align: middle;\n",
       "    }\n",
       "\n",
       "    .dataframe tbody tr th {\n",
       "        vertical-align: top;\n",
       "    }\n",
       "\n",
       "    .dataframe thead th {\n",
       "        text-align: right;\n",
       "    }\n",
       "</style>\n",
       "<table border=\"1\" class=\"dataframe\">\n",
       "  <thead>\n",
       "    <tr style=\"text-align: right;\">\n",
       "      <th></th>\n",
       "      <th>상품</th>\n",
       "      <th>재질</th>\n",
       "      <th>가격</th>\n",
       "    </tr>\n",
       "  </thead>\n",
       "  <tbody>\n",
       "    <tr>\n",
       "      <th>0</th>\n",
       "      <td>시계</td>\n",
       "      <td>금</td>\n",
       "      <td>500000</td>\n",
       "    </tr>\n",
       "    <tr>\n",
       "      <th>1</th>\n",
       "      <td>반지</td>\n",
       "      <td>은</td>\n",
       "      <td>20000</td>\n",
       "    </tr>\n",
       "    <tr>\n",
       "      <th>2</th>\n",
       "      <td>반지</td>\n",
       "      <td>백금</td>\n",
       "      <td>350000</td>\n",
       "    </tr>\n",
       "    <tr>\n",
       "      <th>3</th>\n",
       "      <td>목걸이</td>\n",
       "      <td>금</td>\n",
       "      <td>300000</td>\n",
       "    </tr>\n",
       "    <tr>\n",
       "      <th>4</th>\n",
       "      <td>팔찌</td>\n",
       "      <td>은</td>\n",
       "      <td>60000</td>\n",
       "    </tr>\n",
       "  </tbody>\n",
       "</table>\n",
       "</div>"
      ],
      "text/plain": [
       "    상품  재질      가격\n",
       "0   시계   금  500000\n",
       "1   반지   은   20000\n",
       "2   반지  백금  350000\n",
       "3  목걸이   금  300000\n",
       "4   팔찌   은   60000"
      ]
     },
     "metadata": {},
     "output_type": "display_data"
    },
    {
     "data": {
      "text/html": [
       "<div>\n",
       "<style scoped>\n",
       "    .dataframe tbody tr th:only-of-type {\n",
       "        vertical-align: middle;\n",
       "    }\n",
       "\n",
       "    .dataframe tbody tr th {\n",
       "        vertical-align: top;\n",
       "    }\n",
       "\n",
       "    .dataframe thead th {\n",
       "        text-align: right;\n",
       "    }\n",
       "</style>\n",
       "<table border=\"1\" class=\"dataframe\">\n",
       "  <thead>\n",
       "    <tr style=\"text-align: right;\">\n",
       "      <th>재질</th>\n",
       "      <th>금</th>\n",
       "      <th>백금</th>\n",
       "      <th>은</th>\n",
       "    </tr>\n",
       "    <tr>\n",
       "      <th>상품</th>\n",
       "      <th></th>\n",
       "      <th></th>\n",
       "      <th></th>\n",
       "    </tr>\n",
       "  </thead>\n",
       "  <tbody>\n",
       "    <tr>\n",
       "      <th>목걸이</th>\n",
       "      <td>300000.0</td>\n",
       "      <td>NaN</td>\n",
       "      <td>NaN</td>\n",
       "    </tr>\n",
       "    <tr>\n",
       "      <th>반지</th>\n",
       "      <td>NaN</td>\n",
       "      <td>350000.0</td>\n",
       "      <td>20000.0</td>\n",
       "    </tr>\n",
       "    <tr>\n",
       "      <th>시계</th>\n",
       "      <td>500000.0</td>\n",
       "      <td>NaN</td>\n",
       "      <td>NaN</td>\n",
       "    </tr>\n",
       "    <tr>\n",
       "      <th>팔찌</th>\n",
       "      <td>NaN</td>\n",
       "      <td>NaN</td>\n",
       "      <td>60000.0</td>\n",
       "    </tr>\n",
       "  </tbody>\n",
       "</table>\n",
       "</div>"
      ],
      "text/plain": [
       "재질          금        백금        은\n",
       "상품                              \n",
       "목걸이  300000.0       NaN      NaN\n",
       "반지        NaN  350000.0  20000.0\n",
       "시계   500000.0       NaN      NaN\n",
       "팔찌        NaN       NaN  60000.0"
      ]
     },
     "metadata": {},
     "output_type": "display_data"
    },
    {
     "data": {
      "text/html": [
       "<div>\n",
       "<style scoped>\n",
       "    .dataframe tbody tr th:only-of-type {\n",
       "        vertical-align: middle;\n",
       "    }\n",
       "\n",
       "    .dataframe tbody tr th {\n",
       "        vertical-align: top;\n",
       "    }\n",
       "\n",
       "    .dataframe thead th {\n",
       "        text-align: right;\n",
       "    }\n",
       "</style>\n",
       "<table border=\"1\" class=\"dataframe\">\n",
       "  <thead>\n",
       "    <tr style=\"text-align: right;\">\n",
       "      <th>재질</th>\n",
       "      <th>금</th>\n",
       "      <th>백금</th>\n",
       "      <th>은</th>\n",
       "    </tr>\n",
       "    <tr>\n",
       "      <th>상품</th>\n",
       "      <th></th>\n",
       "      <th></th>\n",
       "      <th></th>\n",
       "    </tr>\n",
       "  </thead>\n",
       "  <tbody>\n",
       "    <tr>\n",
       "      <th>목걸이</th>\n",
       "      <td>300000.0</td>\n",
       "      <td>0.0</td>\n",
       "      <td>0.0</td>\n",
       "    </tr>\n",
       "    <tr>\n",
       "      <th>반지</th>\n",
       "      <td>0.0</td>\n",
       "      <td>350000.0</td>\n",
       "      <td>20000.0</td>\n",
       "    </tr>\n",
       "    <tr>\n",
       "      <th>시계</th>\n",
       "      <td>500000.0</td>\n",
       "      <td>0.0</td>\n",
       "      <td>0.0</td>\n",
       "    </tr>\n",
       "    <tr>\n",
       "      <th>팔찌</th>\n",
       "      <td>0.0</td>\n",
       "      <td>0.0</td>\n",
       "      <td>60000.0</td>\n",
       "    </tr>\n",
       "  </tbody>\n",
       "</table>\n",
       "</div>"
      ],
      "text/plain": [
       "재질          금        백금        은\n",
       "상품                              \n",
       "목걸이  300000.0       0.0      0.0\n",
       "반지        0.0  350000.0  20000.0\n",
       "시계   500000.0       0.0      0.0\n",
       "팔찌        0.0       0.0  60000.0"
      ]
     },
     "execution_count": 28,
     "metadata": {},
     "output_type": "execute_result"
    }
   ],
   "source": [
    "df = pd.DataFrame(\n",
    "    {\n",
    "        \"상품\": [\"시계\", \"반지\", \"반지\", \"목걸이\", \"팔찌\"],\n",
    "        \"재질\": [\"금\", \"은\", \"백금\", \"금\", \"은\"],\n",
    "        \"가격\": [500000, 20000, 350000, 300000, 60000],\n",
    "    }\n",
    ")\n",
    "display(df)\n",
    "new_df = df.pivot(index=\"상품\", columns=\"재질\", values=\"가격\")\n",
    "display(new_df)\n",
    "new_df.fillna(0)  # 결손값은 0으로 바꾸기"
   ]
  },
  {
   "cell_type": "markdown",
   "id": "506fa1af",
   "metadata": {},
   "source": [
    "#### pivot_table() 예시"
   ]
  },
  {
   "cell_type": "code",
   "execution_count": 39,
   "id": "5e2a9c81",
   "metadata": {},
   "outputs": [
    {
     "data": {
      "text/html": [
       "<div>\n",
       "<style scoped>\n",
       "    .dataframe tbody tr th:only-of-type {\n",
       "        vertical-align: middle;\n",
       "    }\n",
       "\n",
       "    .dataframe tbody tr th {\n",
       "        vertical-align: top;\n",
       "    }\n",
       "\n",
       "    .dataframe thead tr th {\n",
       "        text-align: left;\n",
       "    }\n",
       "\n",
       "    .dataframe thead tr:last-of-type th {\n",
       "        text-align: right;\n",
       "    }\n",
       "</style>\n",
       "<table border=\"1\" class=\"dataframe\">\n",
       "  <thead>\n",
       "    <tr>\n",
       "      <th></th>\n",
       "      <th></th>\n",
       "      <th colspan=\"4\" halign=\"left\">mean</th>\n",
       "      <th colspan=\"4\" halign=\"left\">max</th>\n",
       "    </tr>\n",
       "    <tr>\n",
       "      <th></th>\n",
       "      <th></th>\n",
       "      <th colspan=\"2\" halign=\"left\">age</th>\n",
       "      <th colspan=\"2\" halign=\"left\">fare</th>\n",
       "      <th colspan=\"2\" halign=\"left\">age</th>\n",
       "      <th colspan=\"2\" halign=\"left\">fare</th>\n",
       "    </tr>\n",
       "    <tr>\n",
       "      <th></th>\n",
       "      <th>servived</th>\n",
       "      <th>0</th>\n",
       "      <th>1</th>\n",
       "      <th>0</th>\n",
       "      <th>1</th>\n",
       "      <th>0</th>\n",
       "      <th>1</th>\n",
       "      <th>0</th>\n",
       "      <th>1</th>\n",
       "    </tr>\n",
       "    <tr>\n",
       "      <th>class</th>\n",
       "      <th>sex</th>\n",
       "      <th></th>\n",
       "      <th></th>\n",
       "      <th></th>\n",
       "      <th></th>\n",
       "      <th></th>\n",
       "      <th></th>\n",
       "      <th></th>\n",
       "      <th></th>\n",
       "    </tr>\n",
       "  </thead>\n",
       "  <tbody>\n",
       "    <tr>\n",
       "      <th rowspan=\"2\" valign=\"top\">First</th>\n",
       "      <th>female</th>\n",
       "      <td>0.0</td>\n",
       "      <td>35.0</td>\n",
       "      <td>0.00</td>\n",
       "      <td>71.2833</td>\n",
       "      <td>0.0</td>\n",
       "      <td>35.0</td>\n",
       "      <td>0.00</td>\n",
       "      <td>71.2833</td>\n",
       "    </tr>\n",
       "    <tr>\n",
       "      <th>male</th>\n",
       "      <td>0.0</td>\n",
       "      <td>26.0</td>\n",
       "      <td>0.00</td>\n",
       "      <td>53.1000</td>\n",
       "      <td>0.0</td>\n",
       "      <td>26.0</td>\n",
       "      <td>0.00</td>\n",
       "      <td>53.1000</td>\n",
       "    </tr>\n",
       "    <tr>\n",
       "      <th rowspan=\"2\" valign=\"top\">Third</th>\n",
       "      <th>female</th>\n",
       "      <td>35.0</td>\n",
       "      <td>38.0</td>\n",
       "      <td>8.05</td>\n",
       "      <td>7.9250</td>\n",
       "      <td>35.0</td>\n",
       "      <td>38.0</td>\n",
       "      <td>8.05</td>\n",
       "      <td>7.9250</td>\n",
       "    </tr>\n",
       "    <tr>\n",
       "      <th>male</th>\n",
       "      <td>22.0</td>\n",
       "      <td>0.0</td>\n",
       "      <td>7.25</td>\n",
       "      <td>0.0000</td>\n",
       "      <td>22.0</td>\n",
       "      <td>0.0</td>\n",
       "      <td>7.25</td>\n",
       "      <td>0.0000</td>\n",
       "    </tr>\n",
       "  </tbody>\n",
       "</table>\n",
       "</div>"
      ],
      "text/plain": [
       "              mean                        max                     \n",
       "               age        fare            age        fare         \n",
       "servived         0     1     0        1     0     1     0        1\n",
       "class sex                                                         \n",
       "First female   0.0  35.0  0.00  71.2833   0.0  35.0  0.00  71.2833\n",
       "      male     0.0  26.0  0.00  53.1000   0.0  26.0  0.00  53.1000\n",
       "Third female  35.0  38.0  8.05   7.9250  35.0  38.0  8.05   7.9250\n",
       "      male    22.0   0.0  7.25   0.0000  22.0   0.0  7.25   0.0000"
      ]
     },
     "execution_count": 39,
     "metadata": {},
     "output_type": "execute_result"
    }
   ],
   "source": [
    "import pandas as pd\n",
    "\n",
    "age = [22.0, 35.0, 38.0, 26.0, 35.0]\n",
    "sex = [\"male\", \"female\", \"female\", \"male\", \"female\"]\n",
    "fare = [7.2500, 71.2833, 7.9250, 53.1000, 8.0500]\n",
    "dclass = [\"Third\", \"First\", \"Third\", \"First\", \"Third\"]\n",
    "servived = [0, 1, 1, 1, 0]\n",
    "df = pd.DataFrame(\n",
    "    {\"age\": age, \"sex\": sex, \"class\": dclass, \"fare\": fare, \"servived\": servived}\n",
    ")\n",
    "\n",
    "new_df = df.pivot_table(\n",
    "    index=[\"class\", \"sex\"],\n",
    "    columns=\"servived\",\n",
    "    values=[\"age\", \"fare\"],\n",
    "    aggfunc=[\"mean\", \"max\"],\n",
    ")\n",
    "new_df.fillna(0)"
   ]
  },
  {
   "cell_type": "markdown",
   "id": "3a21ebeb",
   "metadata": {},
   "source": [
    "### 두개의 데이터프레임을 하나로 합치는 concat()\n",
    "#### concat() 함수의 옵션\n",
    "* axis = index (행에 붙이기)\n",
    "* axis = colums (열에 붙이기)\n",
    "* join = outer (합집합)\n",
    "* join = inner (교집합)"
   ]
  },
  {
   "cell_type": "code",
   "execution_count": 63,
   "id": "0e2a04d6",
   "metadata": {},
   "outputs": [
    {
     "data": {
      "text/html": [
       "<div>\n",
       "<style scoped>\n",
       "    .dataframe tbody tr th:only-of-type {\n",
       "        vertical-align: middle;\n",
       "    }\n",
       "\n",
       "    .dataframe tbody tr th {\n",
       "        vertical-align: top;\n",
       "    }\n",
       "\n",
       "    .dataframe thead th {\n",
       "        text-align: right;\n",
       "    }\n",
       "</style>\n",
       "<table border=\"1\" class=\"dataframe\">\n",
       "  <thead>\n",
       "    <tr style=\"text-align: right;\">\n",
       "      <th></th>\n",
       "      <th>A</th>\n",
       "      <th>B</th>\n",
       "      <th>C</th>\n",
       "      <th>D</th>\n",
       "    </tr>\n",
       "  </thead>\n",
       "  <tbody>\n",
       "    <tr>\n",
       "      <th>가</th>\n",
       "      <td>a10</td>\n",
       "      <td>b10</td>\n",
       "      <td>c10</td>\n",
       "      <td>NaN</td>\n",
       "    </tr>\n",
       "    <tr>\n",
       "      <th>나</th>\n",
       "      <td>a11</td>\n",
       "      <td>b11</td>\n",
       "      <td>c11</td>\n",
       "      <td>NaN</td>\n",
       "    </tr>\n",
       "    <tr>\n",
       "      <th>다</th>\n",
       "      <td>a12</td>\n",
       "      <td>b12</td>\n",
       "      <td>c12</td>\n",
       "      <td>NaN</td>\n",
       "    </tr>\n",
       "    <tr>\n",
       "      <th>다</th>\n",
       "      <td>NaN</td>\n",
       "      <td>b23</td>\n",
       "      <td>c23</td>\n",
       "      <td>d23</td>\n",
       "    </tr>\n",
       "    <tr>\n",
       "      <th>라</th>\n",
       "      <td>NaN</td>\n",
       "      <td>b24</td>\n",
       "      <td>c24</td>\n",
       "      <td>d24</td>\n",
       "    </tr>\n",
       "    <tr>\n",
       "      <th>마</th>\n",
       "      <td>NaN</td>\n",
       "      <td>b25</td>\n",
       "      <td>c25</td>\n",
       "      <td>d25</td>\n",
       "    </tr>\n",
       "  </tbody>\n",
       "</table>\n",
       "</div>"
      ],
      "text/plain": [
       "     A    B    C    D\n",
       "가  a10  b10  c10  NaN\n",
       "나  a11  b11  c11  NaN\n",
       "다  a12  b12  c12  NaN\n",
       "다  NaN  b23  c23  d23\n",
       "라  NaN  b24  c24  d24\n",
       "마  NaN  b25  c25  d25"
      ]
     },
     "execution_count": 63,
     "metadata": {},
     "output_type": "execute_result"
    }
   ],
   "source": [
    "df_1 = pd.DataFrame(\n",
    "    {\n",
    "        \"A\": [\"a10\", \"a11\", \"a12\"],\n",
    "        \"B\": [\"b10\", \"b11\", \"b12\"],\n",
    "        \"C\": [\"c10\", \"c11\", \"c12\"],\n",
    "    },\n",
    "    index=[\"가\", \"나\", \"다\"],\n",
    ")\n",
    "\n",
    "# 두 번째 데이터프레임\n",
    "df_2 = pd.DataFrame(\n",
    "    {\n",
    "        \"B\": [\"b23\", \"b24\", \"b25\"],\n",
    "        \"C\": [\"c23\", \"c24\", \"c25\"],\n",
    "        \"D\": [\"d23\", \"d24\", \"d25\"],\n",
    "    },\n",
    "    index=[\"다\", \"라\", \"마\"],\n",
    ")\n",
    "pd.concat([df_1, df_2], axis=\"index\", join=\"outer\")"
   ]
  },
  {
   "cell_type": "markdown",
   "id": "b48520f6",
   "metadata": {},
   "source": [
    "### merge()\n",
    "#### DataFrame.merge(right, how='inner', on=None)\n",
    "* right = 현재 데이터프레임과 결합할 데이터프레임\n",
    "* how : 결합의 방식 'left', 'right', 'inner', 'outer' 가능\n",
    "* on : 조인 연산을 수행하기 위해 사용할 레이블"
   ]
  },
  {
   "cell_type": "code",
   "execution_count": 70,
   "id": "ef66d3ec",
   "metadata": {},
   "outputs": [
    {
     "name": "stdout",
     "output_type": "stream",
     "text": [
      "merge 전 df_1\n",
      "      A    B    C\n",
      "가  a10  b10  c10\n",
      "나  a11  b11  c11\n",
      "다  a12  b12  c12\n",
      "merge 전 df_2\n",
      "      B    C    D\n",
      "다  b23  c23  d23\n",
      "라  b24  c24  d24\n",
      "마  b25  c25  d25\n",
      "left outer \n",
      "      A    B  C_x  C_y    D\n",
      "0  a10  b10  c10  NaN  NaN\n",
      "1  a11  b11  c11  NaN  NaN\n",
      "2  a12  b12  c12  NaN  NaN\n",
      "right outer \n",
      "      A    B  C_x  C_y    D\n",
      "0  NaN  b23  NaN  c23  d23\n",
      "1  NaN  b24  NaN  c24  d24\n",
      "2  NaN  b25  NaN  c25  d25\n",
      "full outer \n",
      "      A    B  C_x  C_y    D\n",
      "0  a10  b10  c10  NaN  NaN\n",
      "1  a11  b11  c11  NaN  NaN\n",
      "2  a12  b12  c12  NaN  NaN\n",
      "3  NaN  b23  NaN  c23  d23\n",
      "4  NaN  b24  NaN  c24  d24\n",
      "5  NaN  b25  NaN  c25  d25\n",
      "inner \n",
      " Empty DataFrame\n",
      "Columns: [A, B, C_x, C_y, D]\n",
      "Index: []\n"
     ]
    }
   ],
   "source": [
    "print(f\"merge 전 df_1\\n {df_1}\")\n",
    "print(f\"merge 전 df_2\\n {df_2}\")\n",
    "print(\"left outer \\n\", df_1.merge(df_2, how=\"left\", on=\"B\"))\n",
    "print(\"right outer \\n\", df_1.merge(df_2, how=\"right\", on=\"B\"))\n",
    "print(\"full outer \\n\", df_1.merge(df_2, how=\"outer\", on=\"B\"))\n",
    "print(\"inner \\n\", df_1.merge(df_2, how=\"inner\", on=\"B\"))"
   ]
  },
  {
   "cell_type": "markdown",
   "id": "90460db8",
   "metadata": {},
   "source": [
    "#### 중복된 인덱스 제거하기\n",
    "* left_index, right_index 를 True 로 부여해서 적용함"
   ]
  },
  {
   "cell_type": "code",
   "execution_count": 73,
   "id": "80553f6c",
   "metadata": {},
   "outputs": [
    {
     "data": {
      "text/html": [
       "<div>\n",
       "<style scoped>\n",
       "    .dataframe tbody tr th:only-of-type {\n",
       "        vertical-align: middle;\n",
       "    }\n",
       "\n",
       "    .dataframe tbody tr th {\n",
       "        vertical-align: top;\n",
       "    }\n",
       "\n",
       "    .dataframe thead th {\n",
       "        text-align: right;\n",
       "    }\n",
       "</style>\n",
       "<table border=\"1\" class=\"dataframe\">\n",
       "  <thead>\n",
       "    <tr style=\"text-align: right;\">\n",
       "      <th></th>\n",
       "      <th>A</th>\n",
       "      <th>B_x</th>\n",
       "      <th>C_x</th>\n",
       "      <th>B_y</th>\n",
       "      <th>C_y</th>\n",
       "      <th>D</th>\n",
       "    </tr>\n",
       "  </thead>\n",
       "  <tbody>\n",
       "    <tr>\n",
       "      <th>가</th>\n",
       "      <td>a10</td>\n",
       "      <td>b10</td>\n",
       "      <td>c10</td>\n",
       "      <td>NaN</td>\n",
       "      <td>NaN</td>\n",
       "      <td>NaN</td>\n",
       "    </tr>\n",
       "    <tr>\n",
       "      <th>나</th>\n",
       "      <td>a11</td>\n",
       "      <td>b11</td>\n",
       "      <td>c11</td>\n",
       "      <td>NaN</td>\n",
       "      <td>NaN</td>\n",
       "      <td>NaN</td>\n",
       "    </tr>\n",
       "    <tr>\n",
       "      <th>다</th>\n",
       "      <td>a12</td>\n",
       "      <td>b12</td>\n",
       "      <td>c12</td>\n",
       "      <td>b23</td>\n",
       "      <td>c23</td>\n",
       "      <td>d23</td>\n",
       "    </tr>\n",
       "    <tr>\n",
       "      <th>라</th>\n",
       "      <td>NaN</td>\n",
       "      <td>NaN</td>\n",
       "      <td>NaN</td>\n",
       "      <td>b24</td>\n",
       "      <td>c24</td>\n",
       "      <td>d24</td>\n",
       "    </tr>\n",
       "    <tr>\n",
       "      <th>마</th>\n",
       "      <td>NaN</td>\n",
       "      <td>NaN</td>\n",
       "      <td>NaN</td>\n",
       "      <td>b25</td>\n",
       "      <td>c25</td>\n",
       "      <td>d25</td>\n",
       "    </tr>\n",
       "  </tbody>\n",
       "</table>\n",
       "</div>"
      ],
      "text/plain": [
       "     A  B_x  C_x  B_y  C_y    D\n",
       "가  a10  b10  c10  NaN  NaN  NaN\n",
       "나  a11  b11  c11  NaN  NaN  NaN\n",
       "다  a12  b12  c12  b23  c23  d23\n",
       "라  NaN  NaN  NaN  b24  c24  d24\n",
       "마  NaN  NaN  NaN  b25  c25  d25"
      ]
     },
     "execution_count": 73,
     "metadata": {},
     "output_type": "execute_result"
    }
   ],
   "source": [
    "df_3 = df_1.merge(df_2, how=\"outer\", left_index=True, right_index=True)\n",
    "df_3"
   ]
  },
  {
   "cell_type": "markdown",
   "id": "4c9a0f0f",
   "metadata": {},
   "source": [
    "## CSV 읽기/쓰기"
   ]
  },
  {
   "cell_type": "code",
   "execution_count": null,
   "id": "009da354",
   "metadata": {},
   "outputs": [
    {
     "data": {
      "text/html": [
       "<div>\n",
       "<style scoped>\n",
       "    .dataframe tbody tr th:only-of-type {\n",
       "        vertical-align: middle;\n",
       "    }\n",
       "\n",
       "    .dataframe tbody tr th {\n",
       "        vertical-align: top;\n",
       "    }\n",
       "\n",
       "    .dataframe thead th {\n",
       "        text-align: right;\n",
       "    }\n",
       "</style>\n",
       "<table border=\"1\" class=\"dataframe\">\n",
       "  <thead>\n",
       "    <tr style=\"text-align: right;\">\n",
       "      <th></th>\n",
       "      <th>address1</th>\n",
       "      <th>address2</th>\n",
       "      <th>jan</th>\n",
       "    </tr>\n",
       "  </thead>\n",
       "  <tbody>\n",
       "    <tr>\n",
       "      <th>0</th>\n",
       "      <td>10</td>\n",
       "      <td>1</td>\n",
       "      <td>413</td>\n",
       "    </tr>\n",
       "    <tr>\n",
       "      <th>2</th>\n",
       "      <td>10</td>\n",
       "      <td>1</td>\n",
       "      <td>433</td>\n",
       "    </tr>\n",
       "    <tr>\n",
       "      <th>3</th>\n",
       "      <td>10</td>\n",
       "      <td>2</td>\n",
       "      <td>164</td>\n",
       "    </tr>\n",
       "    <tr>\n",
       "      <th>4</th>\n",
       "      <td>10</td>\n",
       "      <td>2</td>\n",
       "      <td>165</td>\n",
       "    </tr>\n",
       "  </tbody>\n",
       "</table>\n",
       "</div>"
      ],
      "text/plain": [
       "   address1  address2  jan\n",
       "0        10         1  413\n",
       "2        10         1  433\n",
       "3        10         2  164\n",
       "4        10         2  165"
      ]
     },
     "execution_count": 82,
     "metadata": {},
     "output_type": "execute_result"
    }
   ],
   "source": [
    "df_1 = pd.DataFrame(\n",
    "    {\n",
    "        \"address1\": [10, 10, 10, 10, 10],\n",
    "        \"address2\": [1, 1, 1, 2, 2],\n",
    "        \"jan\": [413, 413, 433, 164, 165],\n",
    "    }\n",
    ")\n",
    "df_2 = pd.DataFrame({\"address1\": [10, 10], \"address2\": [1, 3], \"jan\": [9812, 352]})\n",
    "\n",
    "df_3 = df_1.merge(df_2, how=\"outer\")\n",
    "df_3 = df_1.drop_duplicates()  # 중복값 제거 하기\n",
    "df_3"
   ]
  }
 ],
 "metadata": {
  "kernelspec": {
   "display_name": "base",
   "language": "python",
   "name": "python3"
  },
  "language_info": {
   "codemirror_mode": {
    "name": "ipython",
    "version": 3
   },
   "file_extension": ".py",
   "mimetype": "text/x-python",
   "name": "python",
   "nbconvert_exporter": "python",
   "pygments_lexer": "ipython3",
   "version": "3.12.7"
  }
 },
 "nbformat": 4,
 "nbformat_minor": 5
}
