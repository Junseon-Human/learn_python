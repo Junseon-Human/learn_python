{
 "cells": [
  {
   "cell_type": "markdown",
   "id": "af2861e0",
   "metadata": {},
   "source": [
    "# 판다스!\n",
    "## 넘파이를 기반으로 구조화된 데이터프레임을 제공함\n",
    "* 처리속도가 빠른 장점\n",
    "* 숫자에 최적화된 넘파이와 대비되게 판다스는 문자열도 처리가 가능\n",
    "* 테이블 구조 데이터를 조작하기때문에 컬럼와 로우를 조작함\n",
    "* 판다스의 어원은 panel data 로써 판다 랑은 상관없다 조금 아쉽다..."
   ]
  },
  {
   "cell_type": "markdown",
   "id": "fc73b3ad",
   "metadata": {},
   "source": [
    "## Series\n",
    "* 데이터를 저장하는 인덱싱된 1차원 배열\n",
    "* Series(data = 데이터, index = 인덱스)"
   ]
  },
  {
   "cell_type": "code",
   "execution_count": 2,
   "id": "6a26f56f",
   "metadata": {},
   "outputs": [
    {
     "data": {
      "text/plain": [
       "0    1.0\n",
       "1    2.0\n",
       "2    NaN\n",
       "3    4.0\n",
       "dtype: float64"
      ]
     },
     "execution_count": 2,
     "metadata": {},
     "output_type": "execute_result"
    }
   ],
   "source": [
    "import numpy as np\n",
    "import pandas as pd\n",
    "\n",
    "se = pd.Series([1, 2, np.nan, 4])  # np.nan 은 None 과 같은 결측값\n",
    "se"
   ]
  },
  {
   "cell_type": "markdown",
   "id": "e2a0f19e",
   "metadata": {},
   "source": [
    "### isna()\n",
    "* 결손값 or 결측값 을 탐지하고 수정하는 함수\n",
    "* 결측값이 있을때 True 없을때 False 를 반환"
   ]
  },
  {
   "cell_type": "code",
   "execution_count": null,
   "id": "66ab4423",
   "metadata": {},
   "outputs": [
    {
     "data": {
      "text/plain": [
       "0    False\n",
       "1    False\n",
       "2     True\n",
       "3    False\n",
       "dtype: bool"
      ]
     },
     "execution_count": 9,
     "metadata": {},
     "output_type": "execute_result"
    }
   ],
   "source": [
    "import numpy as np\n",
    "import pandas as pd\n",
    "\n",
    "se = pd.Series([1, 2, np.nan, 4])\n",
    "se.isna()"
   ]
  },
  {
   "cell_type": "markdown",
   "id": "89ebea98",
   "metadata": {},
   "source": [
    "### 시리즈의 인덱싱\n",
    "* 기존의 리스트 인덱싱과 동일한 문법을 사용함"
   ]
  },
  {
   "cell_type": "code",
   "execution_count": 11,
   "id": "1fa9d7a8",
   "metadata": {},
   "outputs": [
    {
     "data": {
      "text/plain": [
       "(1.0, 2.0)"
      ]
     },
     "execution_count": 11,
     "metadata": {},
     "output_type": "execute_result"
    }
   ],
   "source": [
    "se[0], se[1]"
   ]
  },
  {
   "cell_type": "markdown",
   "id": "59553427",
   "metadata": {},
   "source": [
    "* 시리즈를 선언할때 index를 명명할수있음"
   ]
  },
  {
   "cell_type": "code",
   "execution_count": null,
   "id": "07b4926d",
   "metadata": {},
   "outputs": [
    {
     "data": {
      "text/plain": [
       "(1.0, 2.0)"
      ]
     },
     "execution_count": 16,
     "metadata": {},
     "output_type": "execute_result"
    }
   ],
   "source": [
    "se = pd.Series([1, 2, np.nan, 4], index=[\"a\", \"b\", \"c\", \"d\"])\n",
    "se[\"a\"], se[\"b\"]"
   ]
  },
  {
   "cell_type": "markdown",
   "id": "4fd35322",
   "metadata": {},
   "source": [
    "### 딕셔너리 타입의 시리즈\n",
    "* key 가 인덱스, value 가 값이 됨"
   ]
  },
  {
   "cell_type": "code",
   "execution_count": 19,
   "id": "53a5f338",
   "metadata": {},
   "outputs": [
    {
     "data": {
      "text/plain": [
       "9500"
      ]
     },
     "execution_count": 19,
     "metadata": {},
     "output_type": "execute_result"
    }
   ],
   "source": [
    "income = {\"1월\": 9500, \"2월\": 6200, \"3월\": 6050, \"4월\": 7000}\n",
    "income_se = pd.Series(income)\n",
    "income_se[\"1월\"]"
   ]
  },
  {
   "cell_type": "markdown",
   "id": "8bcda045",
   "metadata": {},
   "source": [
    "### 시리즈의 인덱스와 밸류를 통해 원하는 값에 접근\n",
    "* .index 를 호출해 인덱스를 반복가능 객체로 가져옴\n",
    "* .values 를 호출해 값을 반복가능 객체로 가져옴"
   ]
  },
  {
   "cell_type": "code",
   "execution_count": 21,
   "id": "ee0225be",
   "metadata": {},
   "outputs": [
    {
     "name": "stdout",
     "output_type": "stream",
     "text": [
      "1월\n",
      "2월\n",
      "3월\n",
      "4월\n",
      "9500\n",
      "6200\n",
      "6050\n",
      "7000\n"
     ]
    }
   ],
   "source": [
    "income = {\"1월\": 9500, \"2월\": 6200, \"3월\": 6050, \"4월\": 7000}\n",
    "income_se = pd.Series(income)\n",
    "income_se[\"1월\"]\n",
    "for month in income_se.index:\n",
    "    print(month)\n",
    "for value in income_se.values:\n",
    "    print(value)"
   ]
  },
  {
   "cell_type": "markdown",
   "id": "65c7258d",
   "metadata": {},
   "source": [
    "### 시리즈의 브로드캐스트 기능\n",
    "* 인덱스가 서로 달라도 연산됨\n",
    "* 크기나 인덱스명이 달라도 연산은 가능함 이경우는 결측값이 됨"
   ]
  },
  {
   "cell_type": "code",
   "execution_count": 25,
   "id": "05b95add",
   "metadata": {},
   "outputs": [
    {
     "data": {
      "text/plain": [
       "korean     80\n",
       "english    70\n",
       "math       80\n",
       "dtype: int64"
      ]
     },
     "execution_count": 25,
     "metadata": {},
     "output_type": "execute_result"
    }
   ],
   "source": [
    "mine = pd.Series([10, 20, 30], index=[\"korean\", \"english\", \"math\"])\n",
    "friend = pd.Series([70, 50, 50], index=[\"korean\", \"english\", \"math\"])\n",
    "\n",
    "merge = mine + friend\n",
    "merge"
   ]
  },
  {
   "cell_type": "markdown",
   "id": "394e8f89",
   "metadata": {},
   "source": [
    "* 인덱스가 다른경우\n",
    "* 인덱스가 서로 다른경우는 결측값 이지만 순서가 다르다면 서로 찾아서 연산을 이룸"
   ]
  },
  {
   "cell_type": "code",
   "execution_count": 30,
   "id": "6dda0100",
   "metadata": {},
   "outputs": [
    {
     "data": {
      "text/plain": [
       "kt       100\n",
       "naver     60\n",
       "sk        70\n",
       "dtype: int64"
      ]
     },
     "execution_count": 30,
     "metadata": {},
     "output_type": "execute_result"
    }
   ],
   "source": [
    "mine = pd.Series([10, 20, 30], index=[\"naver\", \"sk\", \"kt\"])\n",
    "friend = pd.Series([70, 50, 50], index=[\"kt\", \"naver\", \"sk\"])\n",
    "\n",
    "merge = mine + friend\n",
    "merge"
   ]
  },
  {
   "cell_type": "markdown",
   "id": "189142dd",
   "metadata": {},
   "source": [
    "## 데이터프레임\n",
    "* 시리즈는 1차원 구조이므로 2차원 구조를 사용하려면 데이터프레임을 사용해야함\n",
    "* 시리즈와 마찬가지로 index 를 지정하지않으면 컬럼이 자동으로 부여되고 딕셔너리는 key 가 컬럼명 value 는 값이된다\n",
    "* array는 행단위로 들어가고 딕녀서리는 열단위로 입력됨"
   ]
  },
  {
   "cell_type": "code",
   "execution_count": 33,
   "id": "41a2771b",
   "metadata": {},
   "outputs": [
    {
     "data": {
      "text/html": [
       "<div>\n",
       "<style scoped>\n",
       "    .dataframe tbody tr th:only-of-type {\n",
       "        vertical-align: middle;\n",
       "    }\n",
       "\n",
       "    .dataframe tbody tr th {\n",
       "        vertical-align: top;\n",
       "    }\n",
       "\n",
       "    .dataframe thead th {\n",
       "        text-align: right;\n",
       "    }\n",
       "</style>\n",
       "<table border=\"1\" class=\"dataframe\">\n",
       "  <thead>\n",
       "    <tr style=\"text-align: right;\">\n",
       "      <th></th>\n",
       "      <th>0</th>\n",
       "      <th>1</th>\n",
       "      <th>2</th>\n",
       "    </tr>\n",
       "  </thead>\n",
       "  <tbody>\n",
       "    <tr>\n",
       "      <th>0</th>\n",
       "      <td>1</td>\n",
       "      <td>2</td>\n",
       "      <td>3</td>\n",
       "    </tr>\n",
       "    <tr>\n",
       "      <th>1</th>\n",
       "      <td>4</td>\n",
       "      <td>5</td>\n",
       "      <td>6</td>\n",
       "    </tr>\n",
       "  </tbody>\n",
       "</table>\n",
       "</div>"
      ],
      "text/plain": [
       "   0  1  2\n",
       "0  1  2  3\n",
       "1  4  5  6"
      ]
     },
     "metadata": {},
     "output_type": "display_data"
    },
    {
     "data": {
      "text/html": [
       "<div>\n",
       "<style scoped>\n",
       "    .dataframe tbody tr th:only-of-type {\n",
       "        vertical-align: middle;\n",
       "    }\n",
       "\n",
       "    .dataframe tbody tr th {\n",
       "        vertical-align: top;\n",
       "    }\n",
       "\n",
       "    .dataframe thead th {\n",
       "        text-align: right;\n",
       "    }\n",
       "</style>\n",
       "<table border=\"1\" class=\"dataframe\">\n",
       "  <thead>\n",
       "    <tr style=\"text-align: right;\">\n",
       "      <th></th>\n",
       "      <th>a</th>\n",
       "      <th>b</th>\n",
       "      <th>c</th>\n",
       "    </tr>\n",
       "  </thead>\n",
       "  <tbody>\n",
       "    <tr>\n",
       "      <th>0</th>\n",
       "      <td>1</td>\n",
       "      <td>1</td>\n",
       "      <td>2</td>\n",
       "    </tr>\n",
       "    <tr>\n",
       "      <th>1</th>\n",
       "      <td>3</td>\n",
       "      <td>2</td>\n",
       "      <td>4</td>\n",
       "    </tr>\n",
       "  </tbody>\n",
       "</table>\n",
       "</div>"
      ],
      "text/plain": [
       "   a  b  c\n",
       "0  1  1  2\n",
       "1  3  2  4"
      ]
     },
     "metadata": {},
     "output_type": "display_data"
    }
   ],
   "source": [
    "nparray1 = np.array([[1, 2, 3], [4, 5, 6]])\n",
    "display(pd.DataFrame(nparray1))\n",
    "\n",
    "dictionary1 = {\"a\": [\"1\", \"3\"], \"b\": [\"1\", \"2\"], \"c\": [\"2\", \"4\"]}\n",
    "\n",
    "display(pd.DataFrame(dictionary1))"
   ]
  },
  {
   "cell_type": "code",
   "execution_count": null,
   "id": "38166650",
   "metadata": {},
   "outputs": [
    {
     "data": {
      "text/html": [
       "<div>\n",
       "<style scoped>\n",
       "    .dataframe tbody tr th:only-of-type {\n",
       "        vertical-align: middle;\n",
       "    }\n",
       "\n",
       "    .dataframe tbody tr th {\n",
       "        vertical-align: top;\n",
       "    }\n",
       "\n",
       "    .dataframe thead th {\n",
       "        text-align: right;\n",
       "    }\n",
       "</style>\n",
       "<table border=\"1\" class=\"dataframe\">\n",
       "  <thead>\n",
       "    <tr style=\"text-align: right;\">\n",
       "      <th></th>\n",
       "      <th>open</th>\n",
       "      <th>high</th>\n",
       "      <th>low</th>\n",
       "      <th>close</th>\n",
       "    </tr>\n",
       "  </thead>\n",
       "  <tbody>\n",
       "    <tr>\n",
       "      <th>0</th>\n",
       "      <td>11650</td>\n",
       "      <td>12100</td>\n",
       "      <td>11600</td>\n",
       "      <td>11900</td>\n",
       "    </tr>\n",
       "    <tr>\n",
       "      <th>1</th>\n",
       "      <td>11100</td>\n",
       "      <td>11800</td>\n",
       "      <td>11050</td>\n",
       "      <td>11600</td>\n",
       "    </tr>\n",
       "    <tr>\n",
       "      <th>2</th>\n",
       "      <td>11200</td>\n",
       "      <td>11200</td>\n",
       "      <td>10900</td>\n",
       "      <td>11000</td>\n",
       "    </tr>\n",
       "    <tr>\n",
       "      <th>3</th>\n",
       "      <td>11100</td>\n",
       "      <td>11100</td>\n",
       "      <td>10950</td>\n",
       "      <td>11100</td>\n",
       "    </tr>\n",
       "    <tr>\n",
       "      <th>4</th>\n",
       "      <td>11000</td>\n",
       "      <td>11150</td>\n",
       "      <td>10900</td>\n",
       "      <td>11050</td>\n",
       "    </tr>\n",
       "  </tbody>\n",
       "</table>\n",
       "</div>"
      ],
      "text/plain": [
       "    open   high    low  close\n",
       "0  11650  12100  11600  11900\n",
       "1  11100  11800  11050  11600\n",
       "2  11200  11200  10900  11000\n",
       "3  11100  11100  10950  11100\n",
       "4  11000  11150  10900  11050"
      ]
     },
     "execution_count": 4,
     "metadata": {},
     "output_type": "execute_result"
    }
   ],
   "source": [
    "daeshin = {\n",
    "    \"open\": [11650, 11100, 11200, 11100, 11000],\n",
    "    \"high\": [12100, 11800, 11200, 11100, 11150],\n",
    "    \"low\": [11600, 11050, 10900, 10950, 10900],\n",
    "    \"close\": [11900, 11600, 11000, 11100, 11050],\n",
    "}\n",
    "\n",
    "daeshin_day = pd.DataFrame(daeshin)\n",
    "daeshin_day"
   ]
  },
  {
   "cell_type": "code",
   "execution_count": 9,
   "id": "ea987f33",
   "metadata": {},
   "outputs": [
    {
     "data": {
      "text/html": [
       "<div>\n",
       "<style scoped>\n",
       "    .dataframe tbody tr th:only-of-type {\n",
       "        vertical-align: middle;\n",
       "    }\n",
       "\n",
       "    .dataframe tbody tr th {\n",
       "        vertical-align: top;\n",
       "    }\n",
       "\n",
       "    .dataframe thead th {\n",
       "        text-align: right;\n",
       "    }\n",
       "</style>\n",
       "<table border=\"1\" class=\"dataframe\">\n",
       "  <thead>\n",
       "    <tr style=\"text-align: right;\">\n",
       "      <th></th>\n",
       "      <th>open</th>\n",
       "      <th>high</th>\n",
       "      <th>low</th>\n",
       "      <th>close</th>\n",
       "    </tr>\n",
       "  </thead>\n",
       "  <tbody>\n",
       "    <tr>\n",
       "      <th>16.02.29</th>\n",
       "      <td>11650</td>\n",
       "      <td>12100</td>\n",
       "      <td>11600</td>\n",
       "      <td>11900</td>\n",
       "    </tr>\n",
       "    <tr>\n",
       "      <th>16.02.26</th>\n",
       "      <td>11100</td>\n",
       "      <td>11800</td>\n",
       "      <td>11050</td>\n",
       "      <td>11600</td>\n",
       "    </tr>\n",
       "    <tr>\n",
       "      <th>16.02.25</th>\n",
       "      <td>11200</td>\n",
       "      <td>11200</td>\n",
       "      <td>10900</td>\n",
       "      <td>11000</td>\n",
       "    </tr>\n",
       "    <tr>\n",
       "      <th>16.02.24</th>\n",
       "      <td>11100</td>\n",
       "      <td>11100</td>\n",
       "      <td>10950</td>\n",
       "      <td>11100</td>\n",
       "    </tr>\n",
       "    <tr>\n",
       "      <th>16.02.23</th>\n",
       "      <td>11000</td>\n",
       "      <td>11150</td>\n",
       "      <td>10900</td>\n",
       "      <td>11050</td>\n",
       "    </tr>\n",
       "  </tbody>\n",
       "</table>\n",
       "</div>"
      ],
      "text/plain": [
       "           open   high    low  close\n",
       "16.02.29  11650  12100  11600  11900\n",
       "16.02.26  11100  11800  11050  11600\n",
       "16.02.25  11200  11200  10900  11000\n",
       "16.02.24  11100  11100  10950  11100\n",
       "16.02.23  11000  11150  10900  11050"
      ]
     },
     "execution_count": 9,
     "metadata": {},
     "output_type": "execute_result"
    }
   ],
   "source": [
    "date = [\"16.02.29\", \"16.02.26\", \"16.02.25\", \"16.02.24\", \"16.02.23\"]\n",
    "\n",
    "daeshin_day = pd.DataFrame(\n",
    "    daeshin, columns=[\"open\", \"high\", \"low\", \"close\"], index=date\n",
    ")\n",
    "daeshin_day"
   ]
  },
  {
   "cell_type": "markdown",
   "id": "c0b495ac",
   "metadata": {},
   "source": [
    "### 데이터프레임 에서 컬럼 및 인덱스 가져오기\n",
    "* 컬럼을 주고 열 전체 가져오기"
   ]
  },
  {
   "cell_type": "code",
   "execution_count": null,
   "id": "5a67ada1",
   "metadata": {},
   "outputs": [
    {
     "data": {
      "text/plain": [
       "16.02.29    11900\n",
       "16.02.26    11600\n",
       "16.02.25    11000\n",
       "16.02.24    11100\n",
       "16.02.23    11050\n",
       "Name: close, dtype: int64"
      ]
     },
     "execution_count": 13,
     "metadata": {},
     "output_type": "execute_result"
    }
   ],
   "source": [
    "daeshin_day.columns\n",
    "daeshin_day.index\n",
    "\n",
    "close = daeshin_day[\"close\"]\n",
    "close"
   ]
  },
  {
   "cell_type": "markdown",
   "id": "8822e3ef",
   "metadata": {},
   "source": [
    "### 인덱스 를 키워드로 하고싶을때\n",
    "* [] 안에는 컬럼을 기재 할수있으므로 인덱스를 키워드로 하고싶을때는 ioc 함수를 이용함"
   ]
  },
  {
   "cell_type": "code",
   "execution_count": 15,
   "id": "198ff15b",
   "metadata": {},
   "outputs": [
    {
     "data": {
      "text/plain": [
       "open     11100\n",
       "high     11100\n",
       "low      10950\n",
       "close    11100\n",
       "Name: 16.02.24, dtype: int64"
      ]
     },
     "execution_count": 15,
     "metadata": {},
     "output_type": "execute_result"
    }
   ],
   "source": [
    "day_data = daeshin_day.loc[\"16.02.24\"]\n",
    "day_data"
   ]
  },
  {
   "cell_type": "markdown",
   "id": "5d59c46c",
   "metadata": {},
   "source": [
    "### 데이터 프레임 만들기 예제"
   ]
  },
  {
   "cell_type": "code",
   "execution_count": 16,
   "id": "25d62de5",
   "metadata": {},
   "outputs": [
    {
     "data": {
      "text/html": [
       "<div>\n",
       "<style scoped>\n",
       "    .dataframe tbody tr th:only-of-type {\n",
       "        vertical-align: middle;\n",
       "    }\n",
       "\n",
       "    .dataframe tbody tr th {\n",
       "        vertical-align: top;\n",
       "    }\n",
       "\n",
       "    .dataframe thead th {\n",
       "        text-align: right;\n",
       "    }\n",
       "</style>\n",
       "<table border=\"1\" class=\"dataframe\">\n",
       "  <thead>\n",
       "    <tr style=\"text-align: right;\">\n",
       "      <th></th>\n",
       "      <th>A</th>\n",
       "    </tr>\n",
       "  </thead>\n",
       "  <tbody>\n",
       "    <tr>\n",
       "      <th>0</th>\n",
       "      <td>4</td>\n",
       "    </tr>\n",
       "    <tr>\n",
       "      <th>1</th>\n",
       "      <td>5</td>\n",
       "    </tr>\n",
       "    <tr>\n",
       "      <th>2</th>\n",
       "      <td>6</td>\n",
       "    </tr>\n",
       "    <tr>\n",
       "      <th>3</th>\n",
       "      <td>7</td>\n",
       "    </tr>\n",
       "  </tbody>\n",
       "</table>\n",
       "</div>"
      ],
      "text/plain": [
       "   A\n",
       "0  4\n",
       "1  5\n",
       "2  6\n",
       "3  7"
      ]
     },
     "execution_count": 16,
     "metadata": {},
     "output_type": "execute_result"
    }
   ],
   "source": [
    "dataframe1 = pd.DataFrame(data=[4, 5, 6, 7], index=range(0, 4), columns=[\"A\"])\n",
    "dataframe1"
   ]
  },
  {
   "cell_type": "code",
   "execution_count": 22,
   "id": "164a35e8",
   "metadata": {},
   "outputs": [
    {
     "name": "stdout",
     "output_type": "stream",
     "text": [
      "    A   B   C\n",
      "0   1   2   3\n",
      "1   4   5   6\n",
      "2   7   8   9\n",
      "3  10  11  12\n"
     ]
    },
    {
     "data": {
      "text/plain": [
       "4"
      ]
     },
     "execution_count": 22,
     "metadata": {},
     "output_type": "execute_result"
    }
   ],
   "source": [
    "df = pd.DataFrame(\n",
    "    np.array([[1, 2, 3], [4, 5, 6], [7, 8, 9], [10, 11, 12]]), columns=[10, 11, 12]\n",
    ")\n",
    "df.columns = [\"A\", \"B\", \"C\"]\n",
    "print(df)\n",
    "len(df)  # 행의 갯수 반환함"
   ]
  },
  {
   "cell_type": "markdown",
   "id": "e64e0822",
   "metadata": {},
   "source": [
    "### 데이터프레임의 인덱싱과 슬라이싱\n",
    "* 시리즈와 마찬가지로 컬럼을 기준으로 하고\n",
    "* 인덱스를 키워드로 하고싶을시 iloc를 사용함\n",
    "* 키워드가 숫자형일시 슬라이싱도 가능함"
   ]
  },
  {
   "cell_type": "code",
   "execution_count": 43,
   "id": "e24d641b",
   "metadata": {},
   "outputs": [
    {
     "name": "stdout",
     "output_type": "stream",
     "text": [
      "0    1\n",
      "Name: A, dtype: int32\n",
      "A    7\n",
      "B    8\n",
      "Name: 2, dtype: int32\n",
      "   A  B  C\n",
      "0  1  2  3\n",
      "1  4  5  6\n"
     ]
    }
   ],
   "source": [
    "print(df[\"A\"][:1])\n",
    "print(df.iloc[2][:2])\n",
    "print(df.iloc[0:2][:2])"
   ]
  },
  {
   "cell_type": "markdown",
   "id": "fd6b9219",
   "metadata": {},
   "source": [
    "### 데이터 추가(행)\n",
    "* loc() 함수를 통해 해당 인덱스에 데이터를 추가하는것이 가능함\n",
    "* iloc() 는 불가함!!\n",
    "* 다른 방법으로는 concat() 로 마지막행에 추가"
   ]
  },
  {
   "cell_type": "code",
   "execution_count": 122,
   "id": "7dc90a14",
   "metadata": {},
   "outputs": [
    {
     "data": {
      "text/html": [
       "<div>\n",
       "<style scoped>\n",
       "    .dataframe tbody tr th:only-of-type {\n",
       "        vertical-align: middle;\n",
       "    }\n",
       "\n",
       "    .dataframe tbody tr th {\n",
       "        vertical-align: top;\n",
       "    }\n",
       "\n",
       "    .dataframe thead th {\n",
       "        text-align: right;\n",
       "    }\n",
       "</style>\n",
       "<table border=\"1\" class=\"dataframe\">\n",
       "  <thead>\n",
       "    <tr style=\"text-align: right;\">\n",
       "      <th></th>\n",
       "      <th>0</th>\n",
       "      <th>1</th>\n",
       "      <th>2</th>\n",
       "    </tr>\n",
       "  </thead>\n",
       "  <tbody>\n",
       "    <tr>\n",
       "      <th>0</th>\n",
       "      <td>1</td>\n",
       "      <td>2</td>\n",
       "      <td>3</td>\n",
       "    </tr>\n",
       "    <tr>\n",
       "      <th>1</th>\n",
       "      <td>4</td>\n",
       "      <td>5</td>\n",
       "      <td>6</td>\n",
       "    </tr>\n",
       "    <tr>\n",
       "      <th>2</th>\n",
       "      <td>7</td>\n",
       "      <td>8</td>\n",
       "      <td>9</td>\n",
       "    </tr>\n",
       "    <tr>\n",
       "      <th>3</th>\n",
       "      <td>10</td>\n",
       "      <td>11</td>\n",
       "      <td>12</td>\n",
       "    </tr>\n",
       "    <tr>\n",
       "      <th>4</th>\n",
       "      <td>13</td>\n",
       "      <td>14</td>\n",
       "      <td>15</td>\n",
       "    </tr>\n",
       "  </tbody>\n",
       "</table>\n",
       "</div>"
      ],
      "text/plain": [
       "    0   1   2\n",
       "0   1   2   3\n",
       "1   4   5   6\n",
       "2   7   8   9\n",
       "3  10  11  12\n",
       "4  13  14  15"
      ]
     },
     "execution_count": 122,
     "metadata": {},
     "output_type": "execute_result"
    }
   ],
   "source": [
    "df = pd.DataFrame(np.array([[1, 2, 3], [4, 5, 6], [7, 8, 9]]))\n",
    "df.loc[3] = [10, 11, 12]\n",
    "new_row = pd.DataFrame([[13, 14, 15]])\n",
    "df = pd.concat([df, new_row], ignore_index=True)\n",
    "df"
   ]
  },
  {
   "cell_type": "markdown",
   "id": "4f8b08b2",
   "metadata": {},
   "source": [
    "### 데이터 추가(열)"
   ]
  },
  {
   "cell_type": "code",
   "execution_count": 123,
   "id": "1e29ec02",
   "metadata": {},
   "outputs": [
    {
     "data": {
      "text/html": [
       "<div>\n",
       "<style scoped>\n",
       "    .dataframe tbody tr th:only-of-type {\n",
       "        vertical-align: middle;\n",
       "    }\n",
       "\n",
       "    .dataframe tbody tr th {\n",
       "        vertical-align: top;\n",
       "    }\n",
       "\n",
       "    .dataframe thead th {\n",
       "        text-align: right;\n",
       "    }\n",
       "</style>\n",
       "<table border=\"1\" class=\"dataframe\">\n",
       "  <thead>\n",
       "    <tr style=\"text-align: right;\">\n",
       "      <th></th>\n",
       "      <th>0</th>\n",
       "      <th>1</th>\n",
       "      <th>2</th>\n",
       "      <th>D</th>\n",
       "      <th>4</th>\n",
       "    </tr>\n",
       "  </thead>\n",
       "  <tbody>\n",
       "    <tr>\n",
       "      <th>0</th>\n",
       "      <td>1</td>\n",
       "      <td>2</td>\n",
       "      <td>3</td>\n",
       "      <td>5</td>\n",
       "      <td>4</td>\n",
       "    </tr>\n",
       "    <tr>\n",
       "      <th>1</th>\n",
       "      <td>4</td>\n",
       "      <td>5</td>\n",
       "      <td>6</td>\n",
       "      <td>6</td>\n",
       "      <td>4</td>\n",
       "    </tr>\n",
       "    <tr>\n",
       "      <th>2</th>\n",
       "      <td>7</td>\n",
       "      <td>8</td>\n",
       "      <td>9</td>\n",
       "      <td>7</td>\n",
       "      <td>4</td>\n",
       "    </tr>\n",
       "    <tr>\n",
       "      <th>3</th>\n",
       "      <td>10</td>\n",
       "      <td>11</td>\n",
       "      <td>12</td>\n",
       "      <td>8</td>\n",
       "      <td>4</td>\n",
       "    </tr>\n",
       "    <tr>\n",
       "      <th>4</th>\n",
       "      <td>13</td>\n",
       "      <td>14</td>\n",
       "      <td>15</td>\n",
       "      <td>9</td>\n",
       "      <td>4</td>\n",
       "    </tr>\n",
       "  </tbody>\n",
       "</table>\n",
       "</div>"
      ],
      "text/plain": [
       "    0   1   2  D  4\n",
       "0   1   2   3  5  4\n",
       "1   4   5   6  6  4\n",
       "2   7   8   9  7  4\n",
       "3  10  11  12  8  4\n",
       "4  13  14  15  9  4"
      ]
     },
     "metadata": {},
     "output_type": "display_data"
    },
    {
     "data": {
      "text/html": [
       "<div>\n",
       "<style scoped>\n",
       "    .dataframe tbody tr th:only-of-type {\n",
       "        vertical-align: middle;\n",
       "    }\n",
       "\n",
       "    .dataframe tbody tr th {\n",
       "        vertical-align: top;\n",
       "    }\n",
       "\n",
       "    .dataframe thead th {\n",
       "        text-align: right;\n",
       "    }\n",
       "</style>\n",
       "<table border=\"1\" class=\"dataframe\">\n",
       "  <thead>\n",
       "    <tr style=\"text-align: right;\">\n",
       "      <th></th>\n",
       "      <th>0</th>\n",
       "      <th>1</th>\n",
       "      <th>2</th>\n",
       "      <th>D</th>\n",
       "      <th>4</th>\n",
       "      <th>7</th>\n",
       "    </tr>\n",
       "  </thead>\n",
       "  <tbody>\n",
       "    <tr>\n",
       "      <th>0</th>\n",
       "      <td>1</td>\n",
       "      <td>2</td>\n",
       "      <td>3</td>\n",
       "      <td>5</td>\n",
       "      <td>4</td>\n",
       "      <td>7</td>\n",
       "    </tr>\n",
       "    <tr>\n",
       "      <th>1</th>\n",
       "      <td>4</td>\n",
       "      <td>5</td>\n",
       "      <td>6</td>\n",
       "      <td>6</td>\n",
       "      <td>4</td>\n",
       "      <td>7</td>\n",
       "    </tr>\n",
       "    <tr>\n",
       "      <th>2</th>\n",
       "      <td>7</td>\n",
       "      <td>8</td>\n",
       "      <td>9</td>\n",
       "      <td>7</td>\n",
       "      <td>4</td>\n",
       "      <td>7</td>\n",
       "    </tr>\n",
       "    <tr>\n",
       "      <th>3</th>\n",
       "      <td>10</td>\n",
       "      <td>11</td>\n",
       "      <td>12</td>\n",
       "      <td>8</td>\n",
       "      <td>4</td>\n",
       "      <td>7</td>\n",
       "    </tr>\n",
       "    <tr>\n",
       "      <th>4</th>\n",
       "      <td>13</td>\n",
       "      <td>14</td>\n",
       "      <td>15</td>\n",
       "      <td>9</td>\n",
       "      <td>4</td>\n",
       "      <td>7</td>\n",
       "    </tr>\n",
       "  </tbody>\n",
       "</table>\n",
       "</div>"
      ],
      "text/plain": [
       "    0   1   2  D  4  7\n",
       "0   1   2   3  5  4  7\n",
       "1   4   5   6  6  4  7\n",
       "2   7   8   9  7  4  7\n",
       "3  10  11  12  8  4  7\n",
       "4  13  14  15  9  4  7"
      ]
     },
     "metadata": {},
     "output_type": "display_data"
    }
   ],
   "source": [
    "# df.columns = [\"A\", \"B\", \"C\"]\n",
    "df[\"D\"] = [5, 6, 7, 8, 9]\n",
    "df[4] = [4] * 5\n",
    "display(df)\n",
    "\n",
    "df[7] = [7] * 5\n",
    "display(df)"
   ]
  },
  {
   "cell_type": "markdown",
   "id": "435e9e95",
   "metadata": {},
   "source": [
    "### 데이터 삭제\n",
    "* drop(대상)\n",
    "* drop 의 기본대상은 행이며 옵션으로 axis = 를 활용함"
   ]
  },
  {
   "cell_type": "code",
   "execution_count": 124,
   "id": "4ba82bf4",
   "metadata": {},
   "outputs": [
    {
     "data": {
      "text/html": [
       "<div>\n",
       "<style scoped>\n",
       "    .dataframe tbody tr th:only-of-type {\n",
       "        vertical-align: middle;\n",
       "    }\n",
       "\n",
       "    .dataframe tbody tr th {\n",
       "        vertical-align: top;\n",
       "    }\n",
       "\n",
       "    .dataframe thead th {\n",
       "        text-align: right;\n",
       "    }\n",
       "</style>\n",
       "<table border=\"1\" class=\"dataframe\">\n",
       "  <thead>\n",
       "    <tr style=\"text-align: right;\">\n",
       "      <th></th>\n",
       "      <th>0</th>\n",
       "      <th>1</th>\n",
       "      <th>2</th>\n",
       "      <th>D</th>\n",
       "      <th>4</th>\n",
       "      <th>7</th>\n",
       "    </tr>\n",
       "  </thead>\n",
       "  <tbody>\n",
       "    <tr>\n",
       "      <th>0</th>\n",
       "      <td>1</td>\n",
       "      <td>2</td>\n",
       "      <td>3</td>\n",
       "      <td>5</td>\n",
       "      <td>4</td>\n",
       "      <td>7</td>\n",
       "    </tr>\n",
       "    <tr>\n",
       "      <th>3</th>\n",
       "      <td>10</td>\n",
       "      <td>11</td>\n",
       "      <td>12</td>\n",
       "      <td>8</td>\n",
       "      <td>4</td>\n",
       "      <td>7</td>\n",
       "    </tr>\n",
       "    <tr>\n",
       "      <th>4</th>\n",
       "      <td>13</td>\n",
       "      <td>14</td>\n",
       "      <td>15</td>\n",
       "      <td>9</td>\n",
       "      <td>4</td>\n",
       "      <td>7</td>\n",
       "    </tr>\n",
       "  </tbody>\n",
       "</table>\n",
       "</div>"
      ],
      "text/plain": [
       "    0   1   2  D  4  7\n",
       "0   1   2   3  5  4  7\n",
       "3  10  11  12  8  4  7\n",
       "4  13  14  15  9  4  7"
      ]
     },
     "execution_count": 124,
     "metadata": {},
     "output_type": "execute_result"
    }
   ],
   "source": [
    "# df = df.drop(7, axis=\"columns\")  # axis = 기준을 정하는것임 기본은 행임\n",
    "df = df.drop([1, 2], axis=\"index\")  # 다중행, 열 삭제도 가능함\n",
    "df"
   ]
  },
  {
   "cell_type": "markdown",
   "id": "7b285970",
   "metadata": {},
   "source": [
    "### 데이터 변경"
   ]
  },
  {
   "cell_type": "code",
   "execution_count": 161,
   "id": "20f9027d",
   "metadata": {},
   "outputs": [
    {
     "data": {
      "text/html": [
       "<div>\n",
       "<style scoped>\n",
       "    .dataframe tbody tr th:only-of-type {\n",
       "        vertical-align: middle;\n",
       "    }\n",
       "\n",
       "    .dataframe tbody tr th {\n",
       "        vertical-align: top;\n",
       "    }\n",
       "\n",
       "    .dataframe thead th {\n",
       "        text-align: right;\n",
       "    }\n",
       "</style>\n",
       "<table border=\"1\" class=\"dataframe\">\n",
       "  <thead>\n",
       "    <tr style=\"text-align: right;\">\n",
       "      <th></th>\n",
       "      <th>0</th>\n",
       "      <th>1</th>\n",
       "      <th>2</th>\n",
       "      <th>D</th>\n",
       "      <th>4</th>\n",
       "      <th>7</th>\n",
       "    </tr>\n",
       "  </thead>\n",
       "  <tbody>\n",
       "    <tr>\n",
       "      <th>0</th>\n",
       "      <td>100</td>\n",
       "      <td>2</td>\n",
       "      <td>3</td>\n",
       "      <td>10</td>\n",
       "      <td>4</td>\n",
       "      <td>7</td>\n",
       "    </tr>\n",
       "    <tr>\n",
       "      <th>3</th>\n",
       "      <td>10</td>\n",
       "      <td>11</td>\n",
       "      <td>12</td>\n",
       "      <td>1</td>\n",
       "      <td>4</td>\n",
       "      <td>7</td>\n",
       "    </tr>\n",
       "    <tr>\n",
       "      <th>4</th>\n",
       "      <td>13</td>\n",
       "      <td>14</td>\n",
       "      <td>15</td>\n",
       "      <td>9</td>\n",
       "      <td>4</td>\n",
       "      <td>7</td>\n",
       "    </tr>\n",
       "  </tbody>\n",
       "</table>\n",
       "</div>"
      ],
      "text/plain": [
       "     0   1   2   D  4  7\n",
       "0  100   2   3  10  4  7\n",
       "3   10  11  12   1  4  7\n",
       "4   13  14  15   9  4  7"
      ]
     },
     "execution_count": 161,
     "metadata": {},
     "output_type": "execute_result"
    }
   ],
   "source": [
    "df.loc[0, \"D\"] = 10\n",
    "df"
   ]
  },
  {
   "cell_type": "markdown",
   "id": "d383798c",
   "metadata": {},
   "source": [
    "### 데이터 정렬\n",
    "* sort_values() 로 기준을 부여하여 정렬\n",
    "* 정렬로 인해 뒤집힌 인덱스는 reset_index() 로 처리함"
   ]
  },
  {
   "cell_type": "code",
   "execution_count": 172,
   "id": "4601f949",
   "metadata": {},
   "outputs": [
    {
     "data": {
      "text/html": [
       "<div>\n",
       "<style scoped>\n",
       "    .dataframe tbody tr th:only-of-type {\n",
       "        vertical-align: middle;\n",
       "    }\n",
       "\n",
       "    .dataframe tbody tr th {\n",
       "        vertical-align: top;\n",
       "    }\n",
       "\n",
       "    .dataframe thead th {\n",
       "        text-align: right;\n",
       "    }\n",
       "</style>\n",
       "<table border=\"1\" class=\"dataframe\">\n",
       "  <thead>\n",
       "    <tr style=\"text-align: right;\">\n",
       "      <th></th>\n",
       "      <th>cluster</th>\n",
       "      <th>org</th>\n",
       "      <th>time</th>\n",
       "    </tr>\n",
       "  </thead>\n",
       "  <tbody>\n",
       "    <tr>\n",
       "      <th>0</th>\n",
       "      <td>1</td>\n",
       "      <td>a</td>\n",
       "      <td>8</td>\n",
       "    </tr>\n",
       "    <tr>\n",
       "      <th>1</th>\n",
       "      <td>1</td>\n",
       "      <td>a</td>\n",
       "      <td>6</td>\n",
       "    </tr>\n",
       "    <tr>\n",
       "      <th>2</th>\n",
       "      <td>2</td>\n",
       "      <td>h</td>\n",
       "      <td>34</td>\n",
       "    </tr>\n",
       "    <tr>\n",
       "      <th>3</th>\n",
       "      <td>1</td>\n",
       "      <td>c</td>\n",
       "      <td>23</td>\n",
       "    </tr>\n",
       "    <tr>\n",
       "      <th>4</th>\n",
       "      <td>2</td>\n",
       "      <td>d</td>\n",
       "      <td>74</td>\n",
       "    </tr>\n",
       "    <tr>\n",
       "      <th>5</th>\n",
       "      <td>3</td>\n",
       "      <td>w</td>\n",
       "      <td>6</td>\n",
       "    </tr>\n",
       "  </tbody>\n",
       "</table>\n",
       "</div>"
      ],
      "text/plain": [
       "   cluster org  time\n",
       "0        1   a     8\n",
       "1        1   a     6\n",
       "2        2   h    34\n",
       "3        1   c    23\n",
       "4        2   d    74\n",
       "5        3   w     6"
      ]
     },
     "metadata": {},
     "output_type": "display_data"
    },
    {
     "data": {
      "text/html": [
       "<div>\n",
       "<style scoped>\n",
       "    .dataframe tbody tr th:only-of-type {\n",
       "        vertical-align: middle;\n",
       "    }\n",
       "\n",
       "    .dataframe tbody tr th {\n",
       "        vertical-align: top;\n",
       "    }\n",
       "\n",
       "    .dataframe thead th {\n",
       "        text-align: right;\n",
       "    }\n",
       "</style>\n",
       "<table border=\"1\" class=\"dataframe\">\n",
       "  <thead>\n",
       "    <tr style=\"text-align: right;\">\n",
       "      <th></th>\n",
       "      <th>cluster</th>\n",
       "      <th>org</th>\n",
       "      <th>time</th>\n",
       "    </tr>\n",
       "  </thead>\n",
       "  <tbody>\n",
       "    <tr>\n",
       "      <th>4</th>\n",
       "      <td>2</td>\n",
       "      <td>d</td>\n",
       "      <td>74</td>\n",
       "    </tr>\n",
       "    <tr>\n",
       "      <th>2</th>\n",
       "      <td>2</td>\n",
       "      <td>h</td>\n",
       "      <td>34</td>\n",
       "    </tr>\n",
       "    <tr>\n",
       "      <th>3</th>\n",
       "      <td>1</td>\n",
       "      <td>c</td>\n",
       "      <td>23</td>\n",
       "    </tr>\n",
       "    <tr>\n",
       "      <th>0</th>\n",
       "      <td>1</td>\n",
       "      <td>a</td>\n",
       "      <td>8</td>\n",
       "    </tr>\n",
       "    <tr>\n",
       "      <th>1</th>\n",
       "      <td>1</td>\n",
       "      <td>a</td>\n",
       "      <td>6</td>\n",
       "    </tr>\n",
       "    <tr>\n",
       "      <th>5</th>\n",
       "      <td>3</td>\n",
       "      <td>w</td>\n",
       "      <td>6</td>\n",
       "    </tr>\n",
       "  </tbody>\n",
       "</table>\n",
       "</div>"
      ],
      "text/plain": [
       "   cluster org  time\n",
       "4        2   d    74\n",
       "2        2   h    34\n",
       "3        1   c    23\n",
       "0        1   a     8\n",
       "1        1   a     6\n",
       "5        3   w     6"
      ]
     },
     "metadata": {},
     "output_type": "display_data"
    },
    {
     "data": {
      "text/html": [
       "<div>\n",
       "<style scoped>\n",
       "    .dataframe tbody tr th:only-of-type {\n",
       "        vertical-align: middle;\n",
       "    }\n",
       "\n",
       "    .dataframe tbody tr th {\n",
       "        vertical-align: top;\n",
       "    }\n",
       "\n",
       "    .dataframe thead th {\n",
       "        text-align: right;\n",
       "    }\n",
       "</style>\n",
       "<table border=\"1\" class=\"dataframe\">\n",
       "  <thead>\n",
       "    <tr style=\"text-align: right;\">\n",
       "      <th></th>\n",
       "      <th>cluster</th>\n",
       "      <th>org</th>\n",
       "      <th>time</th>\n",
       "    </tr>\n",
       "  </thead>\n",
       "  <tbody>\n",
       "    <tr>\n",
       "      <th>0</th>\n",
       "      <td>2</td>\n",
       "      <td>d</td>\n",
       "      <td>74</td>\n",
       "    </tr>\n",
       "    <tr>\n",
       "      <th>1</th>\n",
       "      <td>2</td>\n",
       "      <td>h</td>\n",
       "      <td>34</td>\n",
       "    </tr>\n",
       "    <tr>\n",
       "      <th>2</th>\n",
       "      <td>1</td>\n",
       "      <td>c</td>\n",
       "      <td>23</td>\n",
       "    </tr>\n",
       "    <tr>\n",
       "      <th>3</th>\n",
       "      <td>1</td>\n",
       "      <td>a</td>\n",
       "      <td>8</td>\n",
       "    </tr>\n",
       "    <tr>\n",
       "      <th>4</th>\n",
       "      <td>1</td>\n",
       "      <td>a</td>\n",
       "      <td>6</td>\n",
       "    </tr>\n",
       "    <tr>\n",
       "      <th>5</th>\n",
       "      <td>3</td>\n",
       "      <td>w</td>\n",
       "      <td>6</td>\n",
       "    </tr>\n",
       "  </tbody>\n",
       "</table>\n",
       "</div>"
      ],
      "text/plain": [
       "   cluster org  time\n",
       "0        2   d    74\n",
       "1        2   h    34\n",
       "2        1   c    23\n",
       "3        1   a     8\n",
       "4        1   a     6\n",
       "5        3   w     6"
      ]
     },
     "metadata": {},
     "output_type": "display_data"
    }
   ],
   "source": [
    "df = pd.DataFrame(\n",
    "    {\n",
    "        \"cluster\": [1, 1, 2, 1, 2, 3],\n",
    "        \"org\": [\"a\", \"a\", \"h\", \"c\", \"d\", \"w\"],\n",
    "        \"time\": [8, 6, 34, 23, 74, 6],\n",
    "    }\n",
    ")\n",
    "display(df)\n",
    "\n",
    "df = df.sort_values([\"time\"], ascending=[False])  # time 을 기준으로 내림차순 정렬\n",
    "display(df)\n",
    "\n",
    "df = df.reset_index(drop=True)  # 정렬로 인해 순서가 바뀐 인덱스 정리\n",
    "display(df)"
   ]
  },
  {
   "cell_type": "markdown",
   "id": "5f2f1277",
   "metadata": {},
   "source": [
    "### 함수"
   ]
  },
  {
   "cell_type": "markdown",
   "id": "5a9bd0db",
   "metadata": {},
   "source": [
    "#### discribe()\n",
    "* 숫자인 컬럼만 통계를 작성함, 문자 인 경우는 자동으로 제외됨"
   ]
  },
  {
   "cell_type": "code",
   "execution_count": 179,
   "id": "3a2e3cbf",
   "metadata": {},
   "outputs": [
    {
     "data": {
      "text/html": [
       "<div>\n",
       "<style scoped>\n",
       "    .dataframe tbody tr th:only-of-type {\n",
       "        vertical-align: middle;\n",
       "    }\n",
       "\n",
       "    .dataframe tbody tr th {\n",
       "        vertical-align: top;\n",
       "    }\n",
       "\n",
       "    .dataframe thead th {\n",
       "        text-align: right;\n",
       "    }\n",
       "</style>\n",
       "<table border=\"1\" class=\"dataframe\">\n",
       "  <thead>\n",
       "    <tr style=\"text-align: right;\">\n",
       "      <th></th>\n",
       "      <th>cluster</th>\n",
       "      <th>time</th>\n",
       "    </tr>\n",
       "  </thead>\n",
       "  <tbody>\n",
       "    <tr>\n",
       "      <th>count</th>\n",
       "      <td>6.000000</td>\n",
       "      <td>6.000000</td>\n",
       "    </tr>\n",
       "    <tr>\n",
       "      <th>mean</th>\n",
       "      <td>1.666667</td>\n",
       "      <td>25.166667</td>\n",
       "    </tr>\n",
       "    <tr>\n",
       "      <th>std</th>\n",
       "      <td>0.816497</td>\n",
       "      <td>26.445542</td>\n",
       "    </tr>\n",
       "    <tr>\n",
       "      <th>min</th>\n",
       "      <td>1.000000</td>\n",
       "      <td>6.000000</td>\n",
       "    </tr>\n",
       "    <tr>\n",
       "      <th>25%</th>\n",
       "      <td>1.000000</td>\n",
       "      <td>6.500000</td>\n",
       "    </tr>\n",
       "    <tr>\n",
       "      <th>50%</th>\n",
       "      <td>1.500000</td>\n",
       "      <td>15.500000</td>\n",
       "    </tr>\n",
       "    <tr>\n",
       "      <th>75%</th>\n",
       "      <td>2.000000</td>\n",
       "      <td>31.250000</td>\n",
       "    </tr>\n",
       "    <tr>\n",
       "      <th>max</th>\n",
       "      <td>3.000000</td>\n",
       "      <td>74.000000</td>\n",
       "    </tr>\n",
       "  </tbody>\n",
       "</table>\n",
       "</div>"
      ],
      "text/plain": [
       "        cluster       time\n",
       "count  6.000000   6.000000\n",
       "mean   1.666667  25.166667\n",
       "std    0.816497  26.445542\n",
       "min    1.000000   6.000000\n",
       "25%    1.000000   6.500000\n",
       "50%    1.500000  15.500000\n",
       "75%    2.000000  31.250000\n",
       "max    3.000000  74.000000"
      ]
     },
     "execution_count": 179,
     "metadata": {},
     "output_type": "execute_result"
    }
   ],
   "source": [
    "df = pd.DataFrame(\n",
    "    {\n",
    "        \"cluster\": [1, 1, 2, 1, 2, 3],\n",
    "        \"org\": [\"a\", \"a\", \"h\", \"c\", \"d\", \"w\"],\n",
    "        \"time\": [8, 6, 34, 23, 74, 6],\n",
    "    }\n",
    ")\n",
    "\n",
    "df.describe()\n",
    "# 나머지 함수도 정리해라"
   ]
  }
 ],
 "metadata": {
  "kernelspec": {
   "display_name": "base",
   "language": "python",
   "name": "python3"
  },
  "language_info": {
   "codemirror_mode": {
    "name": "ipython",
    "version": 3
   },
   "file_extension": ".py",
   "mimetype": "text/x-python",
   "name": "python",
   "nbconvert_exporter": "python",
   "pygments_lexer": "ipython3",
   "version": "3.12.7"
  }
 },
 "nbformat": 4,
 "nbformat_minor": 5
}
