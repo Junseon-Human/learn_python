{
 "cells": [
  {
   "cell_type": "code",
   "execution_count": 11,
   "id": "b517d86e",
   "metadata": {},
   "outputs": [
    {
     "name": "stdout",
     "output_type": "stream",
     "text": [
      "[입력 오류] not enough values to unpack (expected 2, got 0)\n"
     ]
    }
   ],
   "source": [
    "# 예외 처리를 위해서 try except 문으로 처리함\n",
    "# java 의 try catch 문과 유사함\n",
    "\n",
    "days = (31, 29, 31, 30, 31, 30, 31, 31, 30, 31, 30, 31)\n",
    "date = True\n",
    "while date:\n",
    "    try:\n",
    "        date = input(\"날짜 <월 일>을 입력하세요:>\")\n",
    "        mm, dd = date.split()\n",
    "        mm, dd = int(mm), int(dd)\n",
    "        if mm < 1 or mm > 12:  # 범위 오류시 ValueError 발생\n",
    "            raise ValueError(\n",
    "                \"월은 1에서 12 까 지 \"\n",
    "            )  # 전달하고 하는 내용을 같이 던질수있음\n",
    "        if dd < 1 or dd > days[mm - 1]:  # 범위 오류시 ValueError 발생\n",
    "            raise ValueError(f\"일은 1에서 {days[mm-1]} 까지 \")\n",
    "    except ValueError as e:\n",
    "        print(f\"[입력 오류] {e}\")\n",
    "    else:\n",
    "        print(f\"{mm}월 {dd}일 \")"
   ]
  },
  {
   "cell_type": "code",
   "execution_count": 13,
   "id": "4f9b7ec0",
   "metadata": {},
   "outputs": [
    {
     "name": "stdout",
     "output_type": "stream",
     "text": [
      "오류 발생 안했어라\n"
     ]
    }
   ],
   "source": [
    "# try except finally\n",
    "def getJson():\n",
    "    ret = {\"name\": \"홍길동\", \"age\": 27}\n",
    "    return ret\n",
    "\n",
    "\n",
    "isLoading = True\n",
    "try:  # 예외가 발생할수있는 구문\n",
    "    data = getJson()\n",
    "except Exception as e:  # 예외가 발생했을때 처리할 구문\n",
    "    print(\"오류가 발생했어라\")\n",
    "else:  # 예외가 발생하지 않았을때 실행할 구문\n",
    "    print(\"오류 발생 안했어라\")\n",
    "finally:  # 어떠한 경우에도 실행할 구문\n",
    "    isLoading = False"
   ]
  }
 ],
 "metadata": {
  "kernelspec": {
   "display_name": "base",
   "language": "python",
   "name": "python3"
  },
  "language_info": {
   "codemirror_mode": {
    "name": "ipython",
    "version": 3
   },
   "file_extension": ".py",
   "mimetype": "text/x-python",
   "name": "python",
   "nbconvert_exporter": "python",
   "pygments_lexer": "ipython3",
   "version": "3.12.7"
  }
 },
 "nbformat": 4,
 "nbformat_minor": 5
}
