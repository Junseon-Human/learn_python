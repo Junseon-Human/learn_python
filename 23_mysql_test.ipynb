{
 "cells": [
  {
   "cell_type": "code",
   "execution_count": 63,
   "id": "92f83161",
   "metadata": {},
   "outputs": [],
   "source": [
    "import mysql.connector\n",
    "\n",
    "mydb = mysql.connector.connect(\n",
    "    host=\"localhost\", user=\"jskim\", password=\"!Hegikh324985\", database=\"test\"\n",
    ")\n",
    "\n",
    "mycursor = mydb.cursor(dictionary=True)"
   ]
  },
  {
   "cell_type": "code",
   "execution_count": null,
   "id": "6f2640fe",
   "metadata": {},
   "outputs": [],
   "source": [
    "sql = \"insert into user (name, age) values (%s, %s)\"\n",
    "val = (\"강감찬\", 35)\n",
    "\n",
    "mycursor.execute(sql, val)\n",
    "mydb.commit()\n",
    "print(mycursor.rowcount, \"record inserted.\")\n",
    "# print(mydb)"
   ]
  },
  {
   "cell_type": "markdown",
   "id": "74c27619",
   "metadata": {},
   "source": [
    "## select 문\n",
    "* excute() 와 fetchall() 로 적용함\n",
    "* fetchall() 는 모든데이터 조회\n",
    "* fetchone() 은 where 조건절을 추가하여 한건 조회\n",
    "* 만약 fetchone() 의 필터링 이후 값이 여러개면 가장 먼저 조회된 row 가 대상이됨"
   ]
  },
  {
   "cell_type": "code",
   "execution_count": 57,
   "id": "825a8b60",
   "metadata": {},
   "outputs": [
    {
     "name": "stdout",
     "output_type": "stream",
     "text": [
      "{'ID': 1, 'NAME': '홍길동', 'AGE': 58, 'CREAT_DT': datetime.datetime(2025, 4, 17, 0, 0), 'UPDATE_DT': datetime.datetime(2025, 4, 17, 0, 0)}\n",
      "{'ID': 2, 'NAME': '김준선', 'AGE': 29, 'CREAT_DT': None, 'UPDATE_DT': None}\n",
      "{'ID': 5, 'NAME': '강감찬', 'AGE': 35, 'CREAT_DT': None, 'UPDATE_DT': None}\n",
      "홍길동\n",
      "{'ID': 2, 'NAME': '김준선', 'AGE': 29, 'CREAT_DT': None, 'UPDATE_DT': None}\n"
     ]
    }
   ],
   "source": [
    "sql = \"select * from user\"\n",
    "\n",
    "mycursor.execute(sql)\n",
    "myresult = mycursor.fetchall()\n",
    "\n",
    "for x in myresult:\n",
    "    print(x)\n",
    "\n",
    "print(myresult[0][\"NAME\"])\n",
    "sql = \"select * from user where age < 50\"\n",
    "mycursor.execute(sql)\n",
    "myresult = mycursor.fetchone()\n",
    "\n",
    "print(myresult)"
   ]
  },
  {
   "cell_type": "markdown",
   "id": "7958925b",
   "metadata": {},
   "source": [
    "## 정렬하기\n",
    "* 쿼리문에 order by '컬럼' 으로사용\n",
    "* 기본값은 ASC(오름차순) 이며 컬럼명뒤에 desc(내림차순) 을 부여하면 내림차순 정렬됨"
   ]
  },
  {
   "cell_type": "code",
   "execution_count": 61,
   "id": "94beab4e",
   "metadata": {},
   "outputs": [
    {
     "name": "stdout",
     "output_type": "stream",
     "text": [
      "{'ID': 1, 'NAME': '홍길동', 'AGE': 58, 'CREAT_DT': datetime.datetime(2025, 4, 17, 0, 0), 'UPDATE_DT': datetime.datetime(2025, 4, 17, 0, 0)}\n",
      "{'ID': 2, 'NAME': '김준선', 'AGE': 29, 'CREAT_DT': None, 'UPDATE_DT': None}\n",
      "{'ID': 5, 'NAME': '강감찬', 'AGE': 35, 'CREAT_DT': None, 'UPDATE_DT': None}\n"
     ]
    }
   ],
   "source": [
    "sql = \"select * from user order by %s\"\n",
    "val = (\"name\",)\n",
    "\n",
    "mycursor.execute(sql, val)\n",
    "myresult = mycursor.fetchall()\n",
    "\n",
    "for x in myresult:\n",
    "    print(x)"
   ]
  },
  {
   "cell_type": "markdown",
   "id": "5c79869d",
   "metadata": {},
   "source": [
    "## 로우 삭제\n",
    "* delete 문을 사용함\n",
    "* insert 와 같이 excute() 이후 mydb.commit() 로 적용"
   ]
  },
  {
   "cell_type": "code",
   "execution_count": 65,
   "id": "f6758149",
   "metadata": {},
   "outputs": [],
   "source": [
    "sql = \"delete from user where name = %s\"\n",
    "val = (\"홍길동\",)\n",
    "\n",
    "mycursor.execute(sql, val)\n",
    "mydb.commit()"
   ]
  }
 ],
 "metadata": {
  "kernelspec": {
   "display_name": "base",
   "language": "python",
   "name": "python3"
  },
  "language_info": {
   "codemirror_mode": {
    "name": "ipython",
    "version": 3
   },
   "file_extension": ".py",
   "mimetype": "text/x-python",
   "name": "python",
   "nbconvert_exporter": "python",
   "pygments_lexer": "ipython3",
   "version": "3.12.7"
  }
 },
 "nbformat": 4,
 "nbformat_minor": 5
}
